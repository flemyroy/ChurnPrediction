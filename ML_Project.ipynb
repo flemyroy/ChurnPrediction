{
 "cells": [
  {
   "cell_type": "code",
   "execution_count": 11,
   "metadata": {},
   "outputs": [],
   "source": [
    "import pandas as pd\n",
    "import numpy as np\n",
    "import seaborn as sns\n",
    "import matplotlib.pyplot as plt\n",
    "import random"
   ]
  },
  {
   "cell_type": "code",
   "execution_count": 12,
   "metadata": {},
   "outputs": [],
   "source": [
    "df=pd.read_csv(\"C:\\\\Users\\\\FLEMY\\\\Downloads\\\\churn\\\\train.csv\")"
   ]
  },
  {
   "cell_type": "code",
   "execution_count": 242,
   "metadata": {},
   "outputs": [
    {
     "data": {
      "text/plain": [
       "36992"
      ]
     },
     "execution_count": 242,
     "metadata": {},
     "output_type": "execute_result"
    }
   ],
   "source": [
    "df.shape[0]"
   ]
  },
  {
   "cell_type": "code",
   "execution_count": 247,
   "metadata": {},
   "outputs": [
    {
     "data": {
      "text/plain": [
       "xxxxxxxx    17846\n",
       "CID43705       12\n",
       "CID3979        11\n",
       "CID49601       10\n",
       "CID62015        9\n",
       "            ...  \n",
       "CID40133        1\n",
       "CID58656        1\n",
       "CID7299         1\n",
       "CID49031        1\n",
       "CID20352        1\n",
       "Name: referral_id, Length: 11359, dtype: int64"
      ]
     },
     "execution_count": 247,
     "metadata": {},
     "output_type": "execute_result"
    }
   ],
   "source": [
    "df['referral_id'].value_counts()"
   ]
  },
  {
   "cell_type": "code",
   "execution_count": 14,
   "metadata": {},
   "outputs": [
    {
     "data": {
      "text/plain": [
       "customer_id                        0\n",
       "Name                               0\n",
       "age                                0\n",
       "gender                             0\n",
       "security_no                        0\n",
       "region_category                 5428\n",
       "membership_category                0\n",
       "joining_date                       0\n",
       "joined_through_referral            0\n",
       "referral_id                        0\n",
       "preferred_offer_types            288\n",
       "medium_of_operation                0\n",
       "internet_option                    0\n",
       "last_visit_time                    0\n",
       "days_since_last_login              0\n",
       "avg_time_spent                     0\n",
       "avg_transaction_value              0\n",
       "avg_frequency_login_days           0\n",
       "points_in_wallet                3443\n",
       "used_special_discount              0\n",
       "offer_application_preference       0\n",
       "past_complaint                     0\n",
       "complaint_status                   0\n",
       "feedback                           0\n",
       "churn_risk_score                   0\n",
       "dtype: int64"
      ]
     },
     "execution_count": 14,
     "metadata": {},
     "output_type": "execute_result"
    }
   ],
   "source": [
    "df.isnull().sum()"
   ]
  },
  {
   "cell_type": "markdown",
   "metadata": {},
   "source": [
    "# Data Preprocessing"
   ]
  },
  {
   "cell_type": "code",
   "execution_count": 15,
   "metadata": {},
   "outputs": [],
   "source": [
    "#dropping unecessary attributes as they do not help in determining the churn score\n",
    "df2=df.drop(['Name','customer_id','referral_id','security_no'],axis=1)"
   ]
  },
  {
   "cell_type": "code",
   "execution_count": 16,
   "metadata": {},
   "outputs": [
    {
     "data": {
      "text/html": [
       "<div>\n",
       "<style scoped>\n",
       "    .dataframe tbody tr th:only-of-type {\n",
       "        vertical-align: middle;\n",
       "    }\n",
       "\n",
       "    .dataframe tbody tr th {\n",
       "        vertical-align: top;\n",
       "    }\n",
       "\n",
       "    .dataframe thead th {\n",
       "        text-align: right;\n",
       "    }\n",
       "</style>\n",
       "<table border=\"1\" class=\"dataframe\">\n",
       "  <thead>\n",
       "    <tr style=\"text-align: right;\">\n",
       "      <th></th>\n",
       "      <th>age</th>\n",
       "      <th>gender</th>\n",
       "      <th>region_category</th>\n",
       "      <th>membership_category</th>\n",
       "      <th>joining_date</th>\n",
       "      <th>joined_through_referral</th>\n",
       "      <th>preferred_offer_types</th>\n",
       "      <th>medium_of_operation</th>\n",
       "      <th>internet_option</th>\n",
       "      <th>last_visit_time</th>\n",
       "      <th>...</th>\n",
       "      <th>avg_time_spent</th>\n",
       "      <th>avg_transaction_value</th>\n",
       "      <th>avg_frequency_login_days</th>\n",
       "      <th>points_in_wallet</th>\n",
       "      <th>used_special_discount</th>\n",
       "      <th>offer_application_preference</th>\n",
       "      <th>past_complaint</th>\n",
       "      <th>complaint_status</th>\n",
       "      <th>feedback</th>\n",
       "      <th>churn_risk_score</th>\n",
       "    </tr>\n",
       "  </thead>\n",
       "  <tbody>\n",
       "    <tr>\n",
       "      <th>0</th>\n",
       "      <td>18</td>\n",
       "      <td>F</td>\n",
       "      <td>Village</td>\n",
       "      <td>Platinum Membership</td>\n",
       "      <td>2017-08-17</td>\n",
       "      <td>No</td>\n",
       "      <td>Gift Vouchers/Coupons</td>\n",
       "      <td>?</td>\n",
       "      <td>Wi-Fi</td>\n",
       "      <td>16:08:02</td>\n",
       "      <td>...</td>\n",
       "      <td>300.63</td>\n",
       "      <td>53005.25</td>\n",
       "      <td>17.0</td>\n",
       "      <td>781.75</td>\n",
       "      <td>Yes</td>\n",
       "      <td>Yes</td>\n",
       "      <td>No</td>\n",
       "      <td>Not Applicable</td>\n",
       "      <td>Products always in Stock</td>\n",
       "      <td>2</td>\n",
       "    </tr>\n",
       "    <tr>\n",
       "      <th>1</th>\n",
       "      <td>32</td>\n",
       "      <td>F</td>\n",
       "      <td>City</td>\n",
       "      <td>Premium Membership</td>\n",
       "      <td>2017-08-28</td>\n",
       "      <td>?</td>\n",
       "      <td>Gift Vouchers/Coupons</td>\n",
       "      <td>Desktop</td>\n",
       "      <td>Mobile_Data</td>\n",
       "      <td>12:38:13</td>\n",
       "      <td>...</td>\n",
       "      <td>306.34</td>\n",
       "      <td>12838.38</td>\n",
       "      <td>10.0</td>\n",
       "      <td>NaN</td>\n",
       "      <td>Yes</td>\n",
       "      <td>No</td>\n",
       "      <td>Yes</td>\n",
       "      <td>Solved</td>\n",
       "      <td>Quality Customer Care</td>\n",
       "      <td>1</td>\n",
       "    </tr>\n",
       "    <tr>\n",
       "      <th>2</th>\n",
       "      <td>44</td>\n",
       "      <td>F</td>\n",
       "      <td>Town</td>\n",
       "      <td>No Membership</td>\n",
       "      <td>2016-11-11</td>\n",
       "      <td>Yes</td>\n",
       "      <td>Gift Vouchers/Coupons</td>\n",
       "      <td>Desktop</td>\n",
       "      <td>Wi-Fi</td>\n",
       "      <td>22:53:21</td>\n",
       "      <td>...</td>\n",
       "      <td>516.16</td>\n",
       "      <td>21027.00</td>\n",
       "      <td>22.0</td>\n",
       "      <td>500.69</td>\n",
       "      <td>No</td>\n",
       "      <td>Yes</td>\n",
       "      <td>Yes</td>\n",
       "      <td>Solved in Follow-up</td>\n",
       "      <td>Poor Website</td>\n",
       "      <td>5</td>\n",
       "    </tr>\n",
       "    <tr>\n",
       "      <th>3</th>\n",
       "      <td>37</td>\n",
       "      <td>M</td>\n",
       "      <td>City</td>\n",
       "      <td>No Membership</td>\n",
       "      <td>2016-10-29</td>\n",
       "      <td>Yes</td>\n",
       "      <td>Gift Vouchers/Coupons</td>\n",
       "      <td>Desktop</td>\n",
       "      <td>Mobile_Data</td>\n",
       "      <td>15:57:50</td>\n",
       "      <td>...</td>\n",
       "      <td>53.27</td>\n",
       "      <td>25239.56</td>\n",
       "      <td>6.0</td>\n",
       "      <td>567.66</td>\n",
       "      <td>No</td>\n",
       "      <td>Yes</td>\n",
       "      <td>Yes</td>\n",
       "      <td>Unsolved</td>\n",
       "      <td>Poor Website</td>\n",
       "      <td>5</td>\n",
       "    </tr>\n",
       "    <tr>\n",
       "      <th>4</th>\n",
       "      <td>31</td>\n",
       "      <td>F</td>\n",
       "      <td>City</td>\n",
       "      <td>No Membership</td>\n",
       "      <td>2017-09-12</td>\n",
       "      <td>No</td>\n",
       "      <td>Credit/Debit Card Offers</td>\n",
       "      <td>Smartphone</td>\n",
       "      <td>Mobile_Data</td>\n",
       "      <td>15:46:44</td>\n",
       "      <td>...</td>\n",
       "      <td>113.13</td>\n",
       "      <td>24483.66</td>\n",
       "      <td>16.0</td>\n",
       "      <td>663.06</td>\n",
       "      <td>No</td>\n",
       "      <td>Yes</td>\n",
       "      <td>Yes</td>\n",
       "      <td>Solved</td>\n",
       "      <td>Poor Website</td>\n",
       "      <td>5</td>\n",
       "    </tr>\n",
       "  </tbody>\n",
       "</table>\n",
       "<p>5 rows × 21 columns</p>\n",
       "</div>"
      ],
      "text/plain": [
       "   age gender region_category  membership_category joining_date  \\\n",
       "0   18      F         Village  Platinum Membership   2017-08-17   \n",
       "1   32      F            City   Premium Membership   2017-08-28   \n",
       "2   44      F            Town        No Membership   2016-11-11   \n",
       "3   37      M            City        No Membership   2016-10-29   \n",
       "4   31      F            City        No Membership   2017-09-12   \n",
       "\n",
       "  joined_through_referral     preferred_offer_types medium_of_operation  \\\n",
       "0                      No     Gift Vouchers/Coupons                   ?   \n",
       "1                       ?     Gift Vouchers/Coupons             Desktop   \n",
       "2                     Yes     Gift Vouchers/Coupons             Desktop   \n",
       "3                     Yes     Gift Vouchers/Coupons             Desktop   \n",
       "4                      No  Credit/Debit Card Offers          Smartphone   \n",
       "\n",
       "  internet_option last_visit_time  ...  avg_time_spent  avg_transaction_value  \\\n",
       "0           Wi-Fi        16:08:02  ...          300.63               53005.25   \n",
       "1     Mobile_Data        12:38:13  ...          306.34               12838.38   \n",
       "2           Wi-Fi        22:53:21  ...          516.16               21027.00   \n",
       "3     Mobile_Data        15:57:50  ...           53.27               25239.56   \n",
       "4     Mobile_Data        15:46:44  ...          113.13               24483.66   \n",
       "\n",
       "   avg_frequency_login_days points_in_wallet  used_special_discount  \\\n",
       "0                      17.0           781.75                    Yes   \n",
       "1                      10.0              NaN                    Yes   \n",
       "2                      22.0           500.69                     No   \n",
       "3                       6.0           567.66                     No   \n",
       "4                      16.0           663.06                     No   \n",
       "\n",
       "  offer_application_preference past_complaint     complaint_status  \\\n",
       "0                          Yes             No       Not Applicable   \n",
       "1                           No            Yes               Solved   \n",
       "2                          Yes            Yes  Solved in Follow-up   \n",
       "3                          Yes            Yes             Unsolved   \n",
       "4                          Yes            Yes               Solved   \n",
       "\n",
       "                   feedback churn_risk_score  \n",
       "0  Products always in Stock                2  \n",
       "1     Quality Customer Care                1  \n",
       "2              Poor Website                5  \n",
       "3              Poor Website                5  \n",
       "4              Poor Website                5  \n",
       "\n",
       "[5 rows x 21 columns]"
      ]
     },
     "execution_count": 16,
     "metadata": {},
     "output_type": "execute_result"
    }
   ],
   "source": [
    "df2.head()"
   ]
  },
  {
   "cell_type": "markdown",
   "metadata": {},
   "source": [
    "Imputaion of region_category (Qualitative data)"
   ]
  },
  {
   "cell_type": "code",
   "execution_count": 17,
   "metadata": {},
   "outputs": [
    {
     "data": {
      "text/plain": [
       "<AxesSubplot:>"
      ]
     },
     "execution_count": 17,
     "metadata": {},
     "output_type": "execute_result"
    },
    {
     "data": {
      "image/png": "[encoded data removed]",
      "text/plain": [
       "<Figure size 432x288 with 1 Axes>"
      ]
     },
     "metadata": {
      "needs_background": "light"
     },
     "output_type": "display_data"
    }
   ],
   "source": [
    "df['region_category'].value_counts().plot(kind='bar')"
   ]
  },
  {
   "cell_type": "code",
   "execution_count": 18,
   "metadata": {},
   "outputs": [
    {
     "data": {
      "text/plain": [
       "5428"
      ]
     },
     "execution_count": 18,
     "metadata": {},
     "output_type": "execute_result"
    }
   ],
   "source": [
    "df['region_category'].isna().sum()"
   ]
  },
  {
   "cell_type": "code",
   "execution_count": 19,
   "metadata": {},
   "outputs": [],
   "source": [
    "for i,data in df2.iterrows():\n",
    "    if pd.isnull(data[\"region_category\"]):\n",
    "        n=random.randint(0,2)\n",
    "        if n==0:\n",
    "            df2.at[i,\"region_category\"]='Town'\n",
    "        elif n==1:\n",
    "            df2.at[i,\"region_category\"]='City'\n",
    "        else:\n",
    "            df2.at[i,\"region_category\"]='Village'"
   ]
  },
  {
   "cell_type": "code",
   "execution_count": 20,
   "metadata": {},
   "outputs": [
    {
     "data": {
      "text/plain": [
       "0"
      ]
     },
     "execution_count": 20,
     "metadata": {},
     "output_type": "execute_result"
    }
   ],
   "source": [
    "df2['region_category'].isna().sum()"
   ]
  },
  {
   "cell_type": "code",
   "execution_count": 21,
   "metadata": {},
   "outputs": [
    {
     "data": {
      "text/plain": [
       "<AxesSubplot:>"
      ]
     },
     "execution_count": 21,
     "metadata": {},
     "output_type": "execute_result"
    },
    {
     "data": {
      "image/png": "[encoded data removed]",
      "text/plain": [
       "<Figure size 432x288 with 1 Axes>"
      ]
     },
     "metadata": {
      "needs_background": "light"
     },
     "output_type": "display_data"
    }
   ],
   "source": [
    "df2['region_category'].value_counts().plot(kind='bar')"
   ]
  },
  {
   "cell_type": "markdown",
   "metadata": {},
   "source": [
    "Imputation of preferred_offer_types (Qualitative data)"
   ]
  },
  {
   "cell_type": "code",
   "execution_count": 22,
   "metadata": {},
   "outputs": [
    {
     "data": {
      "text/plain": [
       "<AxesSubplot:>"
      ]
     },
     "execution_count": 22,
     "metadata": {},
     "output_type": "execute_result"
    },
    {
     "data": {
      "image/png": "[encoded data removed]",
      "text/plain": [
       "<Figure size 432x288 with 1 Axes>"
      ]
     },
     "metadata": {
      "needs_background": "light"
     },
     "output_type": "display_data"
    }
   ],
   "source": [
    "df['preferred_offer_types'].value_counts().plot(kind='bar')"
   ]
  },
  {
   "cell_type": "code",
   "execution_count": 23,
   "metadata": {},
   "outputs": [
    {
     "data": {
      "text/plain": [
       "288"
      ]
     },
     "execution_count": 23,
     "metadata": {},
     "output_type": "execute_result"
    }
   ],
   "source": [
    "df['preferred_offer_types'].isna().sum()"
   ]
  },
  {
   "cell_type": "code",
   "execution_count": 24,
   "metadata": {},
   "outputs": [],
   "source": [
    "for i,data in df2.iterrows():\n",
    "    if pd.isnull(data[\"preferred_offer_types\"]):\n",
    "        n=random.randint(0,2)\n",
    "        if n==0:\n",
    "            df2.at[i,\"preferred_offer_types\"]='Gift Vouchers/Coupons'\n",
    "        elif n==1:\n",
    "            df2.at[i,\"preferred_offer_types\"]='Credit/Debit Card Offers'\n",
    "        else:\n",
    "            df2.at[i,\"preferred_offer_types\"]='Without Offers'"
   ]
  },
  {
   "cell_type": "code",
   "execution_count": 25,
   "metadata": {},
   "outputs": [
    {
     "data": {
      "text/plain": [
       "0"
      ]
     },
     "execution_count": 25,
     "metadata": {},
     "output_type": "execute_result"
    }
   ],
   "source": [
    "df2['preferred_offer_types'].isna().sum()"
   ]
  },
  {
   "cell_type": "code",
   "execution_count": 26,
   "metadata": {},
   "outputs": [
    {
     "data": {
      "text/plain": [
       "<AxesSubplot:>"
      ]
     },
     "execution_count": 26,
     "metadata": {},
     "output_type": "execute_result"
    },
    {
     "data": {
      "image/png": "[encoded data removed]",
      "text/plain": [
       "<Figure size 432x288 with 1 Axes>"
      ]
     },
     "metadata": {
      "needs_background": "light"
     },
     "output_type": "display_data"
    }
   ],
   "source": [
    "df2['preferred_offer_types'].value_counts().plot(kind='bar')"
   ]
  },
  {
   "cell_type": "markdown",
   "metadata": {},
   "source": [
    "Imputaion of points_in_wallet (Quantitative data)    "
   ]
  },
  {
   "cell_type": "code",
   "execution_count": 27,
   "metadata": {},
   "outputs": [
    {
     "data": {
      "text/plain": [
       "3443"
      ]
     },
     "execution_count": 27,
     "metadata": {},
     "output_type": "execute_result"
    }
   ],
   "source": [
    "df['points_in_wallet'].isna().sum()"
   ]
  },
  {
   "cell_type": "code",
   "execution_count": 28,
   "metadata": {},
   "outputs": [],
   "source": [
    "mean_points=df2['points_in_wallet'].mean()\n",
    "std_points=df2['points_in_wallet'].std()"
   ]
  },
  {
   "cell_type": "code",
   "execution_count": 29,
   "metadata": {},
   "outputs": [],
   "source": [
    "for i,data in df2.iterrows():\n",
    "    if pd.isnull(data['points_in_wallet']):\n",
    "         r=np.random.uniform(mean_points-std_points,mean_points+std_points)\n",
    "         df2.at[i,'points_in_wallet']=r"
   ]
  },
  {
   "cell_type": "code",
   "execution_count": 30,
   "metadata": {},
   "outputs": [
    {
     "data": {
      "text/plain": [
       "0"
      ]
     },
     "execution_count": 30,
     "metadata": {},
     "output_type": "execute_result"
    }
   ],
   "source": [
    "df2['points_in_wallet'].isna().sum()"
   ]
  },
  {
   "cell_type": "code",
   "execution_count": 31,
   "metadata": {},
   "outputs": [
    {
     "name": "stderr",
     "output_type": "stream",
     "text": [
      "C:\\Users\\FLEMY\\anaconda3\\lib\\site-packages\\seaborn\\_decorators.py:36: FutureWarning: Pass the following variable as a keyword arg: x. From version 0.12, the only valid positional argument will be `data`, and passing other arguments without an explicit keyword will result in an error or misinterpretation.\n",
      "  warnings.warn(\n"
     ]
    },
    {
     "data": {
      "text/plain": [
       "<AxesSubplot:xlabel='points_in_wallet'>"
      ]
     },
     "execution_count": 31,
     "metadata": {},
     "output_type": "execute_result"
    },
    {
     "data": {
      "image/png": "[encoded data removed]",
      "text/plain": [
       "<Figure size 432x288 with 1 Axes>"
      ]
     },
     "metadata": {
      "needs_background": "light"
     },
     "output_type": "display_data"
    }
   ],
   "source": [
    "#Detecting Outliers\n",
    "sns.boxplot(df['points_in_wallet'])"
   ]
  },
  {
   "cell_type": "code",
   "execution_count": 32,
   "metadata": {},
   "outputs": [
    {
     "data": {
      "text/plain": [
       "4267"
      ]
     },
     "execution_count": 32,
     "metadata": {},
     "output_type": "execute_result"
    }
   ],
   "source": [
    "#detecting outliers\n",
    "q1=df2.points_in_wallet.quantile(0.25)\n",
    "q3=df2.points_in_wallet.quantile(0.75)\n",
    "IQR=q3-q1\n",
    "lowerfence=q1-1.5*IQR\n",
    "upperfence=q3+1.5*IQR\n",
    "df3 = df[(df['points_in_wallet']<lowerfence) | (df['points_in_wallet']>upperfence)]\n",
    "df3.shape[0]"
   ]
  },
  {
   "cell_type": "code",
   "execution_count": 33,
   "metadata": {},
   "outputs": [],
   "source": [
    "#Removing outliers\n",
    "for i,data in df2.iterrows():\n",
    "    if data['points_in_wallet']<q1:\n",
    "        df2.at[i,'points_in_wallet']=lowerfence \n",
    "    elif data['points_in_wallet']>q3:\n",
    "        df2.at[i,'points_in_wallet']=upperfence "
   ]
  },
  {
   "cell_type": "code",
   "execution_count": 34,
   "metadata": {},
   "outputs": [
    {
     "name": "stderr",
     "output_type": "stream",
     "text": [
      "C:\\Users\\FLEMY\\anaconda3\\lib\\site-packages\\seaborn\\_decorators.py:36: FutureWarning: Pass the following variable as a keyword arg: x. From version 0.12, the only valid positional argument will be `data`, and passing other arguments without an explicit keyword will result in an error or misinterpretation.\n",
      "  warnings.warn(\n"
     ]
    },
    {
     "data": {
      "text/plain": [
       "<AxesSubplot:xlabel='points_in_wallet'>"
      ]
     },
     "execution_count": 34,
     "metadata": {},
     "output_type": "execute_result"
    },
    {
     "data": {
      "image/png": "[encoded data removed]",
      "text/plain": [
       "<Figure size 432x288 with 1 Axes>"
      ]
     },
     "metadata": {
      "needs_background": "light"
     },
     "output_type": "display_data"
    }
   ],
   "source": [
    "sns.boxplot(df2['points_in_wallet'])"
   ]
  },
  {
   "cell_type": "markdown",
   "metadata": {},
   "source": [
    "Imputation of garbage values in joined_through_referral (Qualitative data)"
   ]
  },
  {
   "cell_type": "code",
   "execution_count": 35,
   "metadata": {},
   "outputs": [
    {
     "data": {
      "text/plain": [
       "<AxesSubplot:>"
      ]
     },
     "execution_count": 35,
     "metadata": {},
     "output_type": "execute_result"
    },
    {
     "data": {
      "image/png": "[encoded data removed]",
      "text/plain": [
       "<Figure size 432x288 with 1 Axes>"
      ]
     },
     "metadata": {
      "needs_background": "light"
     },
     "output_type": "display_data"
    }
   ],
   "source": [
    "df['joined_through_referral'].value_counts().plot(kind='bar')"
   ]
  },
  {
   "cell_type": "code",
   "execution_count": 36,
   "metadata": {},
   "outputs": [
    {
     "data": {
      "text/plain": [
       "5438"
      ]
     },
     "execution_count": 36,
     "metadata": {},
     "output_type": "execute_result"
    }
   ],
   "source": [
    "df['joined_through_referral'].value_counts().loc['?']"
   ]
  },
  {
   "cell_type": "code",
   "execution_count": 37,
   "metadata": {},
   "outputs": [],
   "source": [
    "for i,data in df2.iterrows():\n",
    "    if data[\"joined_through_referral\"]=='?':\n",
    "        n=random.randint(0,1)\n",
    "        if n==0:\n",
    "            df2.at[i,\"joined_through_referral\"]='Yes'\n",
    "        else:\n",
    "            df2.at[i,\"joined_through_referral\"]='No'"
   ]
  },
  {
   "cell_type": "code",
   "execution_count": 38,
   "metadata": {},
   "outputs": [
    {
     "data": {
      "text/plain": [
       "<AxesSubplot:>"
      ]
     },
     "execution_count": 38,
     "metadata": {},
     "output_type": "execute_result"
    },
    {
     "data": {
      "image/png": "[encoded data removed]",
      "text/plain": [
       "<Figure size 432x288 with 1 Axes>"
      ]
     },
     "metadata": {
      "needs_background": "light"
     },
     "output_type": "display_data"
    }
   ],
   "source": [
    "df2['joined_through_referral'].value_counts().plot(kind='bar',grid=True)"
   ]
  },
  {
   "cell_type": "markdown",
   "metadata": {},
   "source": [
    "Imputation of medium_of_operation (Qualitative data)"
   ]
  },
  {
   "cell_type": "code",
   "execution_count": 39,
   "metadata": {},
   "outputs": [
    {
     "data": {
      "text/plain": [
       "<AxesSubplot:>"
      ]
     },
     "execution_count": 39,
     "metadata": {},
     "output_type": "execute_result"
    },
    {
     "data": {
      "image/png": "[encoded data removed]",
      "text/plain": [
       "<Figure size 432x288 with 1 Axes>"
      ]
     },
     "metadata": {
      "needs_background": "light"
     },
     "output_type": "display_data"
    }
   ],
   "source": [
    "df['medium_of_operation'].value_counts().plot(kind='bar')"
   ]
  },
  {
   "cell_type": "code",
   "execution_count": 40,
   "metadata": {},
   "outputs": [
    {
     "data": {
      "text/plain": [
       "5393"
      ]
     },
     "execution_count": 40,
     "metadata": {},
     "output_type": "execute_result"
    }
   ],
   "source": [
    "df['medium_of_operation'].value_counts().loc['?']"
   ]
  },
  {
   "cell_type": "code",
   "execution_count": 41,
   "metadata": {},
   "outputs": [],
   "source": [
    "for i,data in df2.iterrows():\n",
    "    if data[\"medium_of_operation\"]=='?':\n",
    "        n=random.randint(0,2)\n",
    "        if n==0:\n",
    "            df2.at[i,\"medium_of_operation\"]='Desktop'\n",
    "        elif n==1:\n",
    "            df2.at[i,\"medium_of_operation\"]='Smartphone'\n",
    "        else:\n",
    "            df2.at[i,\"medium_of_operation\"]='Both'"
   ]
  },
  {
   "cell_type": "code",
   "execution_count": 42,
   "metadata": {},
   "outputs": [
    {
     "data": {
      "text/plain": [
       "<AxesSubplot:>"
      ]
     },
     "execution_count": 42,
     "metadata": {},
     "output_type": "execute_result"
    },
    {
     "data": {
      "image/png": "[encoded data removed]",
      "text/plain": [
       "<Figure size 432x288 with 1 Axes>"
      ]
     },
     "metadata": {
      "needs_background": "light"
     },
     "output_type": "display_data"
    }
   ],
   "source": [
    "df2['medium_of_operation'].value_counts().plot(kind='bar')"
   ]
  },
  {
   "cell_type": "code",
   "execution_count": 43,
   "metadata": {},
   "outputs": [
    {
     "data": {
      "text/html": [
       "<div>\n",
       "<style scoped>\n",
       "    .dataframe tbody tr th:only-of-type {\n",
       "        vertical-align: middle;\n",
       "    }\n",
       "\n",
       "    .dataframe tbody tr th {\n",
       "        vertical-align: top;\n",
       "    }\n",
       "\n",
       "    .dataframe thead th {\n",
       "        text-align: right;\n",
       "    }\n",
       "</style>\n",
       "<table border=\"1\" class=\"dataframe\">\n",
       "  <thead>\n",
       "    <tr style=\"text-align: right;\">\n",
       "      <th></th>\n",
       "      <th>age</th>\n",
       "      <th>gender</th>\n",
       "      <th>region_category</th>\n",
       "      <th>membership_category</th>\n",
       "      <th>joining_date</th>\n",
       "      <th>joined_through_referral</th>\n",
       "      <th>preferred_offer_types</th>\n",
       "      <th>medium_of_operation</th>\n",
       "      <th>internet_option</th>\n",
       "      <th>last_visit_time</th>\n",
       "      <th>...</th>\n",
       "      <th>avg_time_spent</th>\n",
       "      <th>avg_transaction_value</th>\n",
       "      <th>avg_frequency_login_days</th>\n",
       "      <th>points_in_wallet</th>\n",
       "      <th>used_special_discount</th>\n",
       "      <th>offer_application_preference</th>\n",
       "      <th>past_complaint</th>\n",
       "      <th>complaint_status</th>\n",
       "      <th>feedback</th>\n",
       "      <th>churn_risk_score</th>\n",
       "    </tr>\n",
       "  </thead>\n",
       "  <tbody>\n",
       "    <tr>\n",
       "      <th>36987</th>\n",
       "      <td>46</td>\n",
       "      <td>F</td>\n",
       "      <td>Town</td>\n",
       "      <td>Basic Membership</td>\n",
       "      <td>2017-09-21</td>\n",
       "      <td>No</td>\n",
       "      <td>Credit/Debit Card Offers</td>\n",
       "      <td>Desktop</td>\n",
       "      <td>Wi-Fi</td>\n",
       "      <td>04:14:05</td>\n",
       "      <td>...</td>\n",
       "      <td>-650.682759</td>\n",
       "      <td>27277.68</td>\n",
       "      <td>6.0</td>\n",
       "      <td>639.51</td>\n",
       "      <td>No</td>\n",
       "      <td>Yes</td>\n",
       "      <td>Yes</td>\n",
       "      <td>No Information Available</td>\n",
       "      <td>No reason specified</td>\n",
       "      <td>4</td>\n",
       "    </tr>\n",
       "    <tr>\n",
       "      <th>36988</th>\n",
       "      <td>29</td>\n",
       "      <td>F</td>\n",
       "      <td>Town</td>\n",
       "      <td>Basic Membership</td>\n",
       "      <td>2016-06-27</td>\n",
       "      <td>No</td>\n",
       "      <td>Without Offers</td>\n",
       "      <td>Smartphone</td>\n",
       "      <td>Wi-Fi</td>\n",
       "      <td>23:18:31</td>\n",
       "      <td>...</td>\n",
       "      <td>-638.123421</td>\n",
       "      <td>11069.71</td>\n",
       "      <td>28.0</td>\n",
       "      <td>387.59</td>\n",
       "      <td>Yes</td>\n",
       "      <td>No</td>\n",
       "      <td>No</td>\n",
       "      <td>Not Applicable</td>\n",
       "      <td>Poor Customer Service</td>\n",
       "      <td>5</td>\n",
       "    </tr>\n",
       "    <tr>\n",
       "      <th>36989</th>\n",
       "      <td>23</td>\n",
       "      <td>F</td>\n",
       "      <td>City</td>\n",
       "      <td>Basic Membership</td>\n",
       "      <td>2016-09-11</td>\n",
       "      <td>Yes</td>\n",
       "      <td>Gift Vouchers/Coupons</td>\n",
       "      <td>Desktop</td>\n",
       "      <td>Wi-Fi</td>\n",
       "      <td>03:50:25</td>\n",
       "      <td>...</td>\n",
       "      <td>154.940000</td>\n",
       "      <td>38127.56</td>\n",
       "      <td>Error</td>\n",
       "      <td>680.47</td>\n",
       "      <td>No</td>\n",
       "      <td>Yes</td>\n",
       "      <td>Yes</td>\n",
       "      <td>Unsolved</td>\n",
       "      <td>Poor Website</td>\n",
       "      <td>4</td>\n",
       "    </tr>\n",
       "    <tr>\n",
       "      <th>36990</th>\n",
       "      <td>53</td>\n",
       "      <td>M</td>\n",
       "      <td>Village</td>\n",
       "      <td>Platinum Membership</td>\n",
       "      <td>2017-06-15</td>\n",
       "      <td>No</td>\n",
       "      <td>Gift Vouchers/Coupons</td>\n",
       "      <td>Smartphone</td>\n",
       "      <td>Mobile_Data</td>\n",
       "      <td>09:50:03</td>\n",
       "      <td>...</td>\n",
       "      <td>482.610000</td>\n",
       "      <td>2378.86</td>\n",
       "      <td>20.0</td>\n",
       "      <td>387.59</td>\n",
       "      <td>Yes</td>\n",
       "      <td>Yes</td>\n",
       "      <td>No</td>\n",
       "      <td>Not Applicable</td>\n",
       "      <td>No reason specified</td>\n",
       "      <td>3</td>\n",
       "    </tr>\n",
       "    <tr>\n",
       "      <th>36991</th>\n",
       "      <td>35</td>\n",
       "      <td>M</td>\n",
       "      <td>Town</td>\n",
       "      <td>Silver Membership</td>\n",
       "      <td>2015-10-23</td>\n",
       "      <td>No</td>\n",
       "      <td>Gift Vouchers/Coupons</td>\n",
       "      <td>Desktop</td>\n",
       "      <td>Mobile_Data</td>\n",
       "      <td>01:39:52</td>\n",
       "      <td>...</td>\n",
       "      <td>79.180000</td>\n",
       "      <td>2189.68</td>\n",
       "      <td>Error</td>\n",
       "      <td>719.97</td>\n",
       "      <td>Yes</td>\n",
       "      <td>No</td>\n",
       "      <td>No</td>\n",
       "      <td>Not Applicable</td>\n",
       "      <td>Quality Customer Care</td>\n",
       "      <td>2</td>\n",
       "    </tr>\n",
       "  </tbody>\n",
       "</table>\n",
       "<p>5 rows × 21 columns</p>\n",
       "</div>"
      ],
      "text/plain": [
       "       age gender region_category  membership_category joining_date  \\\n",
       "36987   46      F            Town     Basic Membership   2017-09-21   \n",
       "36988   29      F            Town     Basic Membership   2016-06-27   \n",
       "36989   23      F            City     Basic Membership   2016-09-11   \n",
       "36990   53      M         Village  Platinum Membership   2017-06-15   \n",
       "36991   35      M            Town    Silver Membership   2015-10-23   \n",
       "\n",
       "      joined_through_referral     preferred_offer_types medium_of_operation  \\\n",
       "36987                      No  Credit/Debit Card Offers             Desktop   \n",
       "36988                      No            Without Offers          Smartphone   \n",
       "36989                     Yes     Gift Vouchers/Coupons             Desktop   \n",
       "36990                      No     Gift Vouchers/Coupons          Smartphone   \n",
       "36991                      No     Gift Vouchers/Coupons             Desktop   \n",
       "\n",
       "      internet_option last_visit_time  ...  avg_time_spent  \\\n",
       "36987           Wi-Fi        04:14:05  ...     -650.682759   \n",
       "36988           Wi-Fi        23:18:31  ...     -638.123421   \n",
       "36989           Wi-Fi        03:50:25  ...      154.940000   \n",
       "36990     Mobile_Data        09:50:03  ...      482.610000   \n",
       "36991     Mobile_Data        01:39:52  ...       79.180000   \n",
       "\n",
       "       avg_transaction_value  avg_frequency_login_days points_in_wallet  \\\n",
       "36987               27277.68                       6.0           639.51   \n",
       "36988               11069.71                      28.0           387.59   \n",
       "36989               38127.56                     Error           680.47   \n",
       "36990                2378.86                      20.0           387.59   \n",
       "36991                2189.68                     Error           719.97   \n",
       "\n",
       "       used_special_discount offer_application_preference past_complaint  \\\n",
       "36987                     No                          Yes            Yes   \n",
       "36988                    Yes                           No             No   \n",
       "36989                     No                          Yes            Yes   \n",
       "36990                    Yes                          Yes             No   \n",
       "36991                    Yes                           No             No   \n",
       "\n",
       "               complaint_status               feedback churn_risk_score  \n",
       "36987  No Information Available    No reason specified                4  \n",
       "36988            Not Applicable  Poor Customer Service                5  \n",
       "36989                  Unsolved           Poor Website                4  \n",
       "36990            Not Applicable    No reason specified                3  \n",
       "36991            Not Applicable  Quality Customer Care                2  \n",
       "\n",
       "[5 rows x 21 columns]"
      ]
     },
     "execution_count": 43,
     "metadata": {},
     "output_type": "execute_result"
    }
   ],
   "source": [
    "df2.tail()"
   ]
  },
  {
   "cell_type": "markdown",
   "metadata": {},
   "source": [
    "Imputation of avg_time_spent as time cannot be measured in negative values (Quantitaive data)"
   ]
  },
  {
   "cell_type": "code",
   "execution_count": 44,
   "metadata": {},
   "outputs": [
    {
     "name": "stderr",
     "output_type": "stream",
     "text": [
      "C:\\Users\\FLEMY\\anaconda3\\lib\\site-packages\\seaborn\\_decorators.py:36: FutureWarning: Pass the following variable as a keyword arg: x. From version 0.12, the only valid positional argument will be `data`, and passing other arguments without an explicit keyword will result in an error or misinterpretation.\n",
      "  warnings.warn(\n"
     ]
    },
    {
     "data": {
      "text/plain": [
       "<AxesSubplot:xlabel='avg_time_spent'>"
      ]
     },
     "execution_count": 44,
     "metadata": {},
     "output_type": "execute_result"
    },
    {
     "data": {
      "image/png": "[encoded data removed]",
      "text/plain": [
       "<Figure size 432x288 with 1 Axes>"
      ]
     },
     "metadata": {
      "needs_background": "light"
     },
     "output_type": "display_data"
    }
   ],
   "source": [
    "sns.boxplot(df['avg_time_spent'])"
   ]
  },
  {
   "cell_type": "code",
   "execution_count": 45,
   "metadata": {},
   "outputs": [
    {
     "data": {
      "text/plain": [
       "count    36992.000000\n",
       "mean       243.472334\n",
       "std        398.289149\n",
       "min      -2814.109110\n",
       "25%         60.102500\n",
       "50%        161.765000\n",
       "75%        356.515000\n",
       "max       3235.578521\n",
       "Name: avg_time_spent, dtype: float64"
      ]
     },
     "execution_count": 45,
     "metadata": {},
     "output_type": "execute_result"
    }
   ],
   "source": [
    "df['avg_time_spent'].describe()"
   ]
  },
  {
   "cell_type": "code",
   "execution_count": 46,
   "metadata": {},
   "outputs": [
    {
     "data": {
      "text/plain": [
       "1719"
      ]
     },
     "execution_count": 46,
     "metadata": {},
     "output_type": "execute_result"
    }
   ],
   "source": [
    "df[df['avg_time_spent'] <0].count()['avg_time_spent']"
   ]
  },
  {
   "cell_type": "code",
   "execution_count": 47,
   "metadata": {},
   "outputs": [
    {
     "data": {
      "text/plain": [
       "4677"
      ]
     },
     "execution_count": 47,
     "metadata": {},
     "output_type": "execute_result"
    }
   ],
   "source": [
    "#Detecting Outliers\n",
    "\n",
    "q1=df2.avg_time_spent.quantile(0.25)\n",
    "q3=df2.avg_time_spent.quantile(0.75)\n",
    "IQR=q3-q1\n",
    "lowerfence=q1-1.5*IQR\n",
    "upperfence=q3+1.5*IQR\n",
    "df3 = df[(df['avg_time_spent']<lowerfence) | (df['avg_time_spent']>upperfence)]\n",
    "df3.shape[0]"
   ]
  },
  {
   "cell_type": "code",
   "execution_count": 48,
   "metadata": {},
   "outputs": [],
   "source": [
    "#Removing outliers\n",
    "for i,data in df2.iterrows():\n",
    "    if data['avg_time_spent']<q1:\n",
    "        df2.at[i,'avg_time_spent']=lowerfence \n",
    "    elif data['avg_time_spent']>q3:\n",
    "        df2.at[i,'avg_time_spent']=upperfence "
   ]
  },
  {
   "cell_type": "code",
   "execution_count": 49,
   "metadata": {},
   "outputs": [
    {
     "data": {
      "text/plain": [
       "count    36992.000000\n",
       "mean       192.358574\n",
       "std        423.519419\n",
       "min       -384.516250\n",
       "25%        -51.046563\n",
       "50%        161.765000\n",
       "75%        467.665937\n",
       "max        801.133750\n",
       "Name: avg_time_spent, dtype: float64"
      ]
     },
     "execution_count": 49,
     "metadata": {},
     "output_type": "execute_result"
    }
   ],
   "source": [
    "df2['avg_time_spent'].describe()"
   ]
  },
  {
   "cell_type": "code",
   "execution_count": 50,
   "metadata": {},
   "outputs": [
    {
     "name": "stderr",
     "output_type": "stream",
     "text": [
      "C:\\Users\\FLEMY\\anaconda3\\lib\\site-packages\\seaborn\\_decorators.py:36: FutureWarning: Pass the following variable as a keyword arg: x. From version 0.12, the only valid positional argument will be `data`, and passing other arguments without an explicit keyword will result in an error or misinterpretation.\n",
      "  warnings.warn(\n"
     ]
    },
    {
     "data": {
      "text/plain": [
       "<AxesSubplot:xlabel='avg_time_spent'>"
      ]
     },
     "execution_count": 50,
     "metadata": {},
     "output_type": "execute_result"
    },
    {
     "data": {
      "image/png": "[encoded data removed]",
      "text/plain": [
       "<Figure size 432x288 with 1 Axes>"
      ]
     },
     "metadata": {
      "needs_background": "light"
     },
     "output_type": "display_data"
    }
   ],
   "source": [
    "sns.boxplot(df2['avg_time_spent'])"
   ]
  },
  {
   "cell_type": "code",
   "execution_count": 51,
   "metadata": {},
   "outputs": [],
   "source": [
    "#Converting negative values into positive values\n",
    "df2['avg_time_spent']=df2['avg_time_spent'].abs()"
   ]
  },
  {
   "cell_type": "code",
   "execution_count": 52,
   "metadata": {},
   "outputs": [
    {
     "data": {
      "text/plain": [
       "0"
      ]
     },
     "execution_count": 52,
     "metadata": {},
     "output_type": "execute_result"
    }
   ],
   "source": [
    "df2[df2['avg_time_spent'] <0].count()['avg_time_spent']"
   ]
  },
  {
   "cell_type": "code",
   "execution_count": 53,
   "metadata": {},
   "outputs": [
    {
     "name": "stderr",
     "output_type": "stream",
     "text": [
      "C:\\Users\\FLEMY\\anaconda3\\lib\\site-packages\\seaborn\\_decorators.py:36: FutureWarning: Pass the following variable as a keyword arg: x. From version 0.12, the only valid positional argument will be `data`, and passing other arguments without an explicit keyword will result in an error or misinterpretation.\n",
      "  warnings.warn(\n"
     ]
    },
    {
     "data": {
      "text/plain": [
       "<AxesSubplot:xlabel='avg_time_spent'>"
      ]
     },
     "execution_count": 53,
     "metadata": {},
     "output_type": "execute_result"
    },
    {
     "data": {
      "image/png": "[encoded data removed]",
      "text/plain": [
       "<Figure size 432x288 with 1 Axes>"
      ]
     },
     "metadata": {
      "needs_background": "light"
     },
     "output_type": "display_data"
    }
   ],
   "source": [
    "sns.boxplot(df2['avg_time_spent'])"
   ]
  },
  {
   "cell_type": "code",
   "execution_count": 54,
   "metadata": {},
   "outputs": [],
   "source": [
    "#df2['days_since_last_login']=df['days_since_last_login']"
   ]
  },
  {
   "cell_type": "markdown",
   "metadata": {},
   "source": [
    "Imputaton of days_since_last_login (Qualitative data)"
   ]
  },
  {
   "cell_type": "code",
   "execution_count": 55,
   "metadata": {},
   "outputs": [
    {
     "name": "stderr",
     "output_type": "stream",
     "text": [
      "C:\\Users\\FLEMY\\anaconda3\\lib\\site-packages\\seaborn\\_decorators.py:36: FutureWarning: Pass the following variable as a keyword arg: x. From version 0.12, the only valid positional argument will be `data`, and passing other arguments without an explicit keyword will result in an error or misinterpretation.\n",
      "  warnings.warn(\n"
     ]
    },
    {
     "data": {
      "text/plain": [
       "<AxesSubplot:xlabel='days_since_last_login'>"
      ]
     },
     "execution_count": 55,
     "metadata": {},
     "output_type": "execute_result"
    },
    {
     "data": {
      "image/png": "[encoded data removed]",
      "text/plain": [
       "<Figure size 432x288 with 1 Axes>"
      ]
     },
     "metadata": {
      "needs_background": "light"
     },
     "output_type": "display_data"
    }
   ],
   "source": [
    "sns.boxplot(df2['days_since_last_login'])"
   ]
  },
  {
   "cell_type": "code",
   "execution_count": 56,
   "metadata": {},
   "outputs": [
    {
     "data": {
      "text/plain": [
       "count    36992.000000\n",
       "mean       -41.915576\n",
       "std        228.819900\n",
       "min       -999.000000\n",
       "25%          8.000000\n",
       "50%         12.000000\n",
       "75%         16.000000\n",
       "max         26.000000\n",
       "Name: days_since_last_login, dtype: float64"
      ]
     },
     "execution_count": 56,
     "metadata": {},
     "output_type": "execute_result"
    }
   ],
   "source": [
    "df2['days_since_last_login'].describe()"
   ]
  },
  {
   "cell_type": "code",
   "execution_count": 57,
   "metadata": {},
   "outputs": [
    {
     "data": {
      "text/plain": [
       "1999"
      ]
     },
     "execution_count": 57,
     "metadata": {},
     "output_type": "execute_result"
    }
   ],
   "source": [
    "df2[df2['days_since_last_login'] <0].count()['days_since_last_login']"
   ]
  },
  {
   "cell_type": "code",
   "execution_count": 58,
   "metadata": {},
   "outputs": [
    {
     "data": {
      "text/plain": [
       "1999"
      ]
     },
     "execution_count": 58,
     "metadata": {},
     "output_type": "execute_result"
    }
   ],
   "source": [
    "#Detecting Outliers\n",
    "q1=df2.days_since_last_login.quantile(0.25)\n",
    "q3=df2.days_since_last_login.quantile(0.75)\n",
    "IQR=q3-q1\n",
    "lowerfence=q1-1.5*IQR\n",
    "upperfence=q3+1.5*IQR\n",
    "df3 = df2[(df2['days_since_last_login']<lowerfence) | (df2['days_since_last_login']>upperfence)]\n",
    "df3.shape[0]"
   ]
  },
  {
   "cell_type": "code",
   "execution_count": 59,
   "metadata": {},
   "outputs": [],
   "source": [
    "#Removing outliers\n",
    "for i,data in df2.iterrows():\n",
    "    if data['days_since_last_login']<q1:\n",
    "        df2.at[i,'days_since_last_login']=lowerfence \n",
    "    elif data['days_since_last_login']>q3:\n",
    "        df2.at[i,'days_since_last_login']=upperfence "
   ]
  },
  {
   "cell_type": "code",
   "execution_count": 60,
   "metadata": {},
   "outputs": [
    {
     "name": "stderr",
     "output_type": "stream",
     "text": [
      "C:\\Users\\FLEMY\\anaconda3\\lib\\site-packages\\seaborn\\_decorators.py:36: FutureWarning: Pass the following variable as a keyword arg: x. From version 0.12, the only valid positional argument will be `data`, and passing other arguments without an explicit keyword will result in an error or misinterpretation.\n",
      "  warnings.warn(\n"
     ]
    },
    {
     "data": {
      "text/plain": [
       "<AxesSubplot:xlabel='days_since_last_login'>"
      ]
     },
     "execution_count": 60,
     "metadata": {},
     "output_type": "execute_result"
    },
    {
     "data": {
      "image/png": "[encoded data removed]",
      "text/plain": [
       "<Figure size 432x288 with 1 Axes>"
      ]
     },
     "metadata": {
      "needs_background": "light"
     },
     "output_type": "display_data"
    }
   ],
   "source": [
    "sns.boxplot(df2['days_since_last_login'])"
   ]
  },
  {
   "cell_type": "code",
   "execution_count": 61,
   "metadata": {},
   "outputs": [
    {
     "data": {
      "text/plain": [
       "8723"
      ]
     },
     "execution_count": 61,
     "metadata": {},
     "output_type": "execute_result"
    }
   ],
   "source": [
    "df2[df2['days_since_last_login'] <0].count()['days_since_last_login']"
   ]
  },
  {
   "cell_type": "code",
   "execution_count": 62,
   "metadata": {},
   "outputs": [],
   "source": [
    "#Converting negative values into positive values\n",
    "df2['days_since_last_login']=df2['days_since_last_login'].abs()"
   ]
  },
  {
   "cell_type": "code",
   "execution_count": 63,
   "metadata": {},
   "outputs": [],
   "source": [
    "df2=df2.drop('last_visit_time',axis=1)# Dropping last_time_visit as there is an an attribute with average frequency login and days after last login"
   ]
  },
  {
   "cell_type": "code",
   "execution_count": 64,
   "metadata": {},
   "outputs": [
    {
     "data": {
      "text/plain": [
       "<AxesSubplot:>"
      ]
     },
     "execution_count": 64,
     "metadata": {},
     "output_type": "execute_result"
    },
    {
     "data": {
      "image/png": "[encoded data removed]",
      "text/plain": [
       "<Figure size 432x288 with 1 Axes>"
      ]
     },
     "metadata": {
      "needs_background": "light"
     },
     "output_type": "display_data"
    }
   ],
   "source": [
    "#Qualitative data\n",
    "df2['internet_option'].value_counts().plot(kind='bar')#Imputation not required"
   ]
  },
  {
   "cell_type": "code",
   "execution_count": 65,
   "metadata": {},
   "outputs": [
    {
     "data": {
      "text/plain": [
       "<AxesSubplot:>"
      ]
     },
     "execution_count": 65,
     "metadata": {},
     "output_type": "execute_result"
    },
    {
     "data": {
      "image/png": "[encoded data removed]",
      "text/plain": [
       "<Figure size 432x288 with 1 Axes>"
      ]
     },
     "metadata": {
      "needs_background": "light"
     },
     "output_type": "display_data"
    }
   ],
   "source": [
    "#Qualitative data\n",
    "df2['gender'].value_counts().plot(kind='bar')#Imputation not required"
   ]
  },
  {
   "cell_type": "code",
   "execution_count": 66,
   "metadata": {},
   "outputs": [],
   "source": [
    "df2=df2.drop(['joining_date'],axis=1)#Removing as not rquired"
   ]
  },
  {
   "cell_type": "code",
   "execution_count": 67,
   "metadata": {},
   "outputs": [
    {
     "data": {
      "text/plain": [
       "<AxesSubplot:>"
      ]
     },
     "execution_count": 67,
     "metadata": {},
     "output_type": "execute_result"
    },
    {
     "data": {
      "image/png": "[encoded data removed]",
      "text/plain": [
       "<Figure size 432x288 with 1 Axes>"
      ]
     },
     "metadata": {
      "needs_background": "light"
     },
     "output_type": "display_data"
    }
   ],
   "source": [
    "#Qualitative data\n",
    "df2['used_special_discount'].value_counts().plot(kind='bar')#Imputation not required"
   ]
  },
  {
   "cell_type": "code",
   "execution_count": 68,
   "metadata": {},
   "outputs": [
    {
     "data": {
      "text/plain": [
       "<AxesSubplot:>"
      ]
     },
     "execution_count": 68,
     "metadata": {},
     "output_type": "execute_result"
    },
    {
     "data": {
      "image/png": "[encoded data removed]",
      "text/plain": [
       "<Figure size 432x288 with 1 Axes>"
      ]
     },
     "metadata": {
      "needs_background": "light"
     },
     "output_type": "display_data"
    }
   ],
   "source": [
    "#Qualitative data\n",
    "df2['offer_application_preference'].value_counts().plot(kind='bar')#Imputation not required"
   ]
  },
  {
   "cell_type": "code",
   "execution_count": 69,
   "metadata": {},
   "outputs": [
    {
     "data": {
      "text/plain": [
       "<AxesSubplot:>"
      ]
     },
     "execution_count": 69,
     "metadata": {},
     "output_type": "execute_result"
    },
    {
     "data": {
      "image/png": "[encoded data removed]",
      "text/plain": [
       "<Figure size 432x288 with 1 Axes>"
      ]
     },
     "metadata": {
      "needs_background": "light"
     },
     "output_type": "display_data"
    }
   ],
   "source": [
    "#Qualitative data\n",
    "df2['past_complaint'].value_counts().plot(kind='bar')#Imputation not required"
   ]
  },
  {
   "cell_type": "code",
   "execution_count": 70,
   "metadata": {},
   "outputs": [
    {
     "data": {
      "text/plain": [
       "<AxesSubplot:>"
      ]
     },
     "execution_count": 70,
     "metadata": {},
     "output_type": "execute_result"
    },
    {
     "data": {
      "image/png": "[encoded data removed]",
      "text/plain": [
       "<Figure size 432x288 with 1 Axes>"
      ]
     },
     "metadata": {
      "needs_background": "light"
     },
     "output_type": "display_data"
    }
   ],
   "source": [
    "#Qualitative data\n",
    "df2['complaint_status'].value_counts().plot(kind='bar')#Imputation not required"
   ]
  },
  {
   "cell_type": "code",
   "execution_count": 71,
   "metadata": {},
   "outputs": [
    {
     "data": {
      "text/plain": [
       "<AxesSubplot:>"
      ]
     },
     "execution_count": 71,
     "metadata": {},
     "output_type": "execute_result"
    },
    {
     "data": {
      "image/png": "[encoded data removed]",
      "text/plain": [
       "<Figure size 432x288 with 1 Axes>"
      ]
     },
     "metadata": {
      "needs_background": "light"
     },
     "output_type": "display_data"
    }
   ],
   "source": [
    "#Qualitative data\n",
    "df2['membership_category'].value_counts().plot(kind='bar')#Imputation not required"
   ]
  },
  {
   "cell_type": "code",
   "execution_count": 72,
   "metadata": {},
   "outputs": [
    {
     "data": {
      "text/plain": [
       "<AxesSubplot:>"
      ]
     },
     "execution_count": 72,
     "metadata": {},
     "output_type": "execute_result"
    },
    {
     "data": {
      "image/png": "[encoded data removed]",
      "text/plain": [
       "<Figure size 432x288 with 1 Axes>"
      ]
     },
     "metadata": {
      "needs_background": "light"
     },
     "output_type": "display_data"
    }
   ],
   "source": [
    "#Qualitative data\n",
    "df2['feedback'].value_counts().plot(kind='bar')#Imputation not required"
   ]
  },
  {
   "cell_type": "code",
   "execution_count": null,
   "metadata": {},
   "outputs": [],
   "source": []
  },
  {
   "cell_type": "markdown",
   "metadata": {},
   "source": [
    "Age imputation"
   ]
  },
  {
   "cell_type": "code",
   "execution_count": 73,
   "metadata": {},
   "outputs": [
    {
     "name": "stderr",
     "output_type": "stream",
     "text": [
      "C:\\Users\\FLEMY\\anaconda3\\lib\\site-packages\\seaborn\\_decorators.py:36: FutureWarning: Pass the following variable as a keyword arg: x. From version 0.12, the only valid positional argument will be `data`, and passing other arguments without an explicit keyword will result in an error or misinterpretation.\n",
      "  warnings.warn(\n"
     ]
    },
    {
     "data": {
      "text/plain": [
       "<AxesSubplot:xlabel='age'>"
      ]
     },
     "execution_count": 73,
     "metadata": {},
     "output_type": "execute_result"
    },
    {
     "data": {
      "image/png": "[encoded data removed]",
      "text/plain": [
       "<Figure size 432x288 with 1 Axes>"
      ]
     },
     "metadata": {
      "needs_background": "light"
     },
     "output_type": "display_data"
    }
   ],
   "source": [
    "sns.boxplot(df2['age'])"
   ]
  },
  {
   "cell_type": "code",
   "execution_count": 74,
   "metadata": {},
   "outputs": [
    {
     "data": {
      "text/plain": [
       "0"
      ]
     },
     "execution_count": 74,
     "metadata": {},
     "output_type": "execute_result"
    }
   ],
   "source": [
    "#Detecting Outliers\n",
    "q1=df2.age.quantile(0.25)\n",
    "q3=df2.age.quantile(0.75)\n",
    "IQR=q3-q1\n",
    "lowerfence=q1-1.5*IQR\n",
    "upperfence=q3+1.5*IQR\n",
    "df3 = df2[(df2['age']<lowerfence) | (df2['age']>upperfence)]\n",
    "df3.shape[0]\n",
    "#No outliers detected"
   ]
  },
  {
   "cell_type": "markdown",
   "metadata": {},
   "source": [
    "Imputation of avg_transaction_value (Qualtitaive data)"
   ]
  },
  {
   "cell_type": "code",
   "execution_count": 75,
   "metadata": {},
   "outputs": [
    {
     "name": "stderr",
     "output_type": "stream",
     "text": [
      "C:\\Users\\FLEMY\\anaconda3\\lib\\site-packages\\seaborn\\_decorators.py:36: FutureWarning: Pass the following variable as a keyword arg: x. From version 0.12, the only valid positional argument will be `data`, and passing other arguments without an explicit keyword will result in an error or misinterpretation.\n",
      "  warnings.warn(\n"
     ]
    },
    {
     "data": {
      "text/plain": [
       "<AxesSubplot:xlabel='avg_transaction_value'>"
      ]
     },
     "execution_count": 75,
     "metadata": {},
     "output_type": "execute_result"
    },
    {
     "data": {
      "image/png": "[encoded data removed]",
      "text/plain": [
       "<Figure size 432x288 with 1 Axes>"
      ]
     },
     "metadata": {
      "needs_background": "light"
     },
     "output_type": "display_data"
    }
   ],
   "source": [
    "sns.boxplot(df2['avg_transaction_value'])"
   ]
  },
  {
   "cell_type": "code",
   "execution_count": 76,
   "metadata": {},
   "outputs": [
    {
     "data": {
      "text/plain": [
       "1131"
      ]
     },
     "execution_count": 76,
     "metadata": {},
     "output_type": "execute_result"
    }
   ],
   "source": [
    "#Detecting Outliers\n",
    "q1=df2.avg_transaction_value.quantile(0.25)\n",
    "q3=df2.avg_transaction_value.quantile(0.75)\n",
    "IQR=q3-q1\n",
    "lowerfence=q1-1.5*IQR\n",
    "upperfence=q3+1.5*IQR\n",
    "df3 = df2[(df2['avg_transaction_value']<lowerfence) | (df2['avg_transaction_value']>upperfence)]\n",
    "df3.shape[0]"
   ]
  },
  {
   "cell_type": "code",
   "execution_count": 77,
   "metadata": {},
   "outputs": [],
   "source": [
    "#Removing outliers\n",
    "for i,data in df2.iterrows():\n",
    "    if data['avg_transaction_value']<q1:\n",
    "        df2.at[i,'avg_transaction_value']=lowerfence \n",
    "    elif data['avg_transaction_value']>q3:\n",
    "        df2.at[i,'avg_transaction_value']=upperfence "
   ]
  },
  {
   "cell_type": "code",
   "execution_count": 78,
   "metadata": {},
   "outputs": [],
   "source": [
    "#As average transaction value cannot be negative\n",
    "df2['avg_transaction_value']=df2['avg_transaction_value'].abs()"
   ]
  },
  {
   "cell_type": "code",
   "execution_count": 79,
   "metadata": {},
   "outputs": [
    {
     "name": "stderr",
     "output_type": "stream",
     "text": [
      "C:\\Users\\FLEMY\\anaconda3\\lib\\site-packages\\seaborn\\_decorators.py:36: FutureWarning: Pass the following variable as a keyword arg: x. From version 0.12, the only valid positional argument will be `data`, and passing other arguments without an explicit keyword will result in an error or misinterpretation.\n",
      "  warnings.warn(\n"
     ]
    },
    {
     "data": {
      "text/plain": [
       "<AxesSubplot:xlabel='avg_transaction_value'>"
      ]
     },
     "execution_count": 79,
     "metadata": {},
     "output_type": "execute_result"
    },
    {
     "data": {
      "image/png": "[encoded data removed]",
      "text/plain": [
       "<Figure size 432x288 with 1 Axes>"
      ]
     },
     "metadata": {
      "needs_background": "light"
     },
     "output_type": "display_data"
    }
   ],
   "source": [
    "sns.boxplot(df2['avg_transaction_value'])"
   ]
  },
  {
   "cell_type": "markdown",
   "metadata": {},
   "source": [
    "Imputation of avg_frequency_login_days"
   ]
  },
  {
   "cell_type": "code",
   "execution_count": 80,
   "metadata": {},
   "outputs": [
    {
     "data": {
      "text/html": [
       "<div>\n",
       "<style scoped>\n",
       "    .dataframe tbody tr th:only-of-type {\n",
       "        vertical-align: middle;\n",
       "    }\n",
       "\n",
       "    .dataframe tbody tr th {\n",
       "        vertical-align: top;\n",
       "    }\n",
       "\n",
       "    .dataframe thead th {\n",
       "        text-align: right;\n",
       "    }\n",
       "</style>\n",
       "<table border=\"1\" class=\"dataframe\">\n",
       "  <thead>\n",
       "    <tr style=\"text-align: right;\">\n",
       "      <th></th>\n",
       "      <th>age</th>\n",
       "      <th>gender</th>\n",
       "      <th>region_category</th>\n",
       "      <th>membership_category</th>\n",
       "      <th>joined_through_referral</th>\n",
       "      <th>preferred_offer_types</th>\n",
       "      <th>medium_of_operation</th>\n",
       "      <th>internet_option</th>\n",
       "      <th>days_since_last_login</th>\n",
       "      <th>avg_time_spent</th>\n",
       "      <th>avg_transaction_value</th>\n",
       "      <th>avg_frequency_login_days</th>\n",
       "      <th>points_in_wallet</th>\n",
       "      <th>used_special_discount</th>\n",
       "      <th>offer_application_preference</th>\n",
       "      <th>past_complaint</th>\n",
       "      <th>complaint_status</th>\n",
       "      <th>feedback</th>\n",
       "      <th>churn_risk_score</th>\n",
       "    </tr>\n",
       "  </thead>\n",
       "  <tbody>\n",
       "    <tr>\n",
       "      <th>36987</th>\n",
       "      <td>46</td>\n",
       "      <td>F</td>\n",
       "      <td>Town</td>\n",
       "      <td>Basic Membership</td>\n",
       "      <td>No</td>\n",
       "      <td>Credit/Debit Card Offers</td>\n",
       "      <td>Desktop</td>\n",
       "      <td>Wi-Fi</td>\n",
       "      <td>4</td>\n",
       "      <td>384.51625</td>\n",
       "      <td>27277.680</td>\n",
       "      <td>6.0</td>\n",
       "      <td>639.51</td>\n",
       "      <td>No</td>\n",
       "      <td>Yes</td>\n",
       "      <td>Yes</td>\n",
       "      <td>No Information Available</td>\n",
       "      <td>No reason specified</td>\n",
       "      <td>4</td>\n",
       "    </tr>\n",
       "    <tr>\n",
       "      <th>36988</th>\n",
       "      <td>29</td>\n",
       "      <td>F</td>\n",
       "      <td>Town</td>\n",
       "      <td>Basic Membership</td>\n",
       "      <td>No</td>\n",
       "      <td>Without Offers</td>\n",
       "      <td>Smartphone</td>\n",
       "      <td>Wi-Fi</td>\n",
       "      <td>13</td>\n",
       "      <td>384.51625</td>\n",
       "      <td>25838.815</td>\n",
       "      <td>28.0</td>\n",
       "      <td>387.59</td>\n",
       "      <td>Yes</td>\n",
       "      <td>No</td>\n",
       "      <td>No</td>\n",
       "      <td>Not Applicable</td>\n",
       "      <td>Poor Customer Service</td>\n",
       "      <td>5</td>\n",
       "    </tr>\n",
       "    <tr>\n",
       "      <th>36989</th>\n",
       "      <td>23</td>\n",
       "      <td>F</td>\n",
       "      <td>City</td>\n",
       "      <td>Basic Membership</td>\n",
       "      <td>Yes</td>\n",
       "      <td>Gift Vouchers/Coupons</td>\n",
       "      <td>Desktop</td>\n",
       "      <td>Wi-Fi</td>\n",
       "      <td>12</td>\n",
       "      <td>154.94000</td>\n",
       "      <td>38127.560</td>\n",
       "      <td>Error</td>\n",
       "      <td>680.47</td>\n",
       "      <td>No</td>\n",
       "      <td>Yes</td>\n",
       "      <td>Yes</td>\n",
       "      <td>Unsolved</td>\n",
       "      <td>Poor Website</td>\n",
       "      <td>4</td>\n",
       "    </tr>\n",
       "    <tr>\n",
       "      <th>36990</th>\n",
       "      <td>53</td>\n",
       "      <td>M</td>\n",
       "      <td>Village</td>\n",
       "      <td>Platinum Membership</td>\n",
       "      <td>No</td>\n",
       "      <td>Gift Vouchers/Coupons</td>\n",
       "      <td>Smartphone</td>\n",
       "      <td>Mobile_Data</td>\n",
       "      <td>15</td>\n",
       "      <td>801.13375</td>\n",
       "      <td>25838.815</td>\n",
       "      <td>20.0</td>\n",
       "      <td>387.59</td>\n",
       "      <td>Yes</td>\n",
       "      <td>Yes</td>\n",
       "      <td>No</td>\n",
       "      <td>Not Applicable</td>\n",
       "      <td>No reason specified</td>\n",
       "      <td>3</td>\n",
       "    </tr>\n",
       "    <tr>\n",
       "      <th>36991</th>\n",
       "      <td>35</td>\n",
       "      <td>M</td>\n",
       "      <td>Town</td>\n",
       "      <td>Silver Membership</td>\n",
       "      <td>No</td>\n",
       "      <td>Gift Vouchers/Coupons</td>\n",
       "      <td>Desktop</td>\n",
       "      <td>Mobile_Data</td>\n",
       "      <td>15</td>\n",
       "      <td>79.18000</td>\n",
       "      <td>25838.815</td>\n",
       "      <td>Error</td>\n",
       "      <td>719.97</td>\n",
       "      <td>Yes</td>\n",
       "      <td>No</td>\n",
       "      <td>No</td>\n",
       "      <td>Not Applicable</td>\n",
       "      <td>Quality Customer Care</td>\n",
       "      <td>2</td>\n",
       "    </tr>\n",
       "  </tbody>\n",
       "</table>\n",
       "</div>"
      ],
      "text/plain": [
       "       age gender region_category  membership_category  \\\n",
       "36987   46      F            Town     Basic Membership   \n",
       "36988   29      F            Town     Basic Membership   \n",
       "36989   23      F            City     Basic Membership   \n",
       "36990   53      M         Village  Platinum Membership   \n",
       "36991   35      M            Town    Silver Membership   \n",
       "\n",
       "      joined_through_referral     preferred_offer_types medium_of_operation  \\\n",
       "36987                      No  Credit/Debit Card Offers             Desktop   \n",
       "36988                      No            Without Offers          Smartphone   \n",
       "36989                     Yes     Gift Vouchers/Coupons             Desktop   \n",
       "36990                      No     Gift Vouchers/Coupons          Smartphone   \n",
       "36991                      No     Gift Vouchers/Coupons             Desktop   \n",
       "\n",
       "      internet_option  days_since_last_login  avg_time_spent  \\\n",
       "36987           Wi-Fi                      4       384.51625   \n",
       "36988           Wi-Fi                     13       384.51625   \n",
       "36989           Wi-Fi                     12       154.94000   \n",
       "36990     Mobile_Data                     15       801.13375   \n",
       "36991     Mobile_Data                     15        79.18000   \n",
       "\n",
       "       avg_transaction_value avg_frequency_login_days  points_in_wallet  \\\n",
       "36987              27277.680                      6.0            639.51   \n",
       "36988              25838.815                     28.0            387.59   \n",
       "36989              38127.560                    Error            680.47   \n",
       "36990              25838.815                     20.0            387.59   \n",
       "36991              25838.815                    Error            719.97   \n",
       "\n",
       "      used_special_discount offer_application_preference past_complaint  \\\n",
       "36987                    No                          Yes            Yes   \n",
       "36988                   Yes                           No             No   \n",
       "36989                    No                          Yes            Yes   \n",
       "36990                   Yes                          Yes             No   \n",
       "36991                   Yes                           No             No   \n",
       "\n",
       "               complaint_status               feedback  churn_risk_score  \n",
       "36987  No Information Available    No reason specified                 4  \n",
       "36988            Not Applicable  Poor Customer Service                 5  \n",
       "36989                  Unsolved           Poor Website                 4  \n",
       "36990            Not Applicable    No reason specified                 3  \n",
       "36991            Not Applicable  Quality Customer Care                 2  "
      ]
     },
     "execution_count": 80,
     "metadata": {},
     "output_type": "execute_result"
    }
   ],
   "source": [
    "df2.tail()"
   ]
  },
  {
   "cell_type": "code",
   "execution_count": 81,
   "metadata": {},
   "outputs": [],
   "source": [
    "df2[\"avg_frequency_login_days\"]=df[\"avg_frequency_login_days\"]"
   ]
  },
  {
   "cell_type": "code",
   "execution_count": 82,
   "metadata": {},
   "outputs": [
    {
     "data": {
      "text/plain": [
       "0         17.0\n",
       "1         10.0\n",
       "2         22.0\n",
       "3          6.0\n",
       "4         16.0\n",
       "         ...  \n",
       "36987      6.0\n",
       "36988     28.0\n",
       "36989    Error\n",
       "36990     20.0\n",
       "36991    Error\n",
       "Name: avg_frequency_login_days, Length: 36992, dtype: object"
      ]
     },
     "execution_count": 82,
     "metadata": {},
     "output_type": "execute_result"
    }
   ],
   "source": [
    "df2[\"avg_frequency_login_days\"]"
   ]
  },
  {
   "cell_type": "code",
   "execution_count": 83,
   "metadata": {},
   "outputs": [],
   "source": [
    "#replacing 'Error' by 0\n",
    "for i,data in df2.iterrows():\n",
    "    if data[\"avg_frequency_login_days\"]=='Error':\n",
    "        df2.at[i,\"avg_frequency_login_days\"]=0     \n",
    "        #print(df2.at[i,\"avg_frequency_login_days\"])"
   ]
  },
  {
   "cell_type": "code",
   "execution_count": 84,
   "metadata": {},
   "outputs": [],
   "source": [
    "df2[\"avg_frequency_login_days\"]=df2[\"avg_frequency_login_days\"].astype('O')"
   ]
  },
  {
   "cell_type": "code",
   "execution_count": 85,
   "metadata": {},
   "outputs": [],
   "source": [
    "df2[\"avg_frequency_login_days\"]=df2[\"avg_frequency_login_days\"].astype('float')"
   ]
  },
  {
   "cell_type": "code",
   "execution_count": 86,
   "metadata": {},
   "outputs": [],
   "source": [
    "avg_days=df2['avg_frequency_login_days'].mean()\n",
    "std_days=df2['avg_frequency_login_days'].std()"
   ]
  },
  {
   "cell_type": "code",
   "execution_count": 87,
   "metadata": {},
   "outputs": [
    {
     "name": "stdout",
     "output_type": "stream",
     "text": [
      "18.0\n",
      "5.0\n",
      "13.0\n",
      "18.0\n",
      "9.0\n",
      "22.0\n",
      "5.0\n",
      "6.0\n",
      "7.0\n",
      "9.0\n",
      "15.0\n",
      "22.0\n",
      "16.0\n",
      "6.0\n",
      "5.0\n",
      "9.0\n",
      "19.0\n",
      "21.0\n",
      "7.0\n",
      "13.0\n",
      "21.0\n",
      "16.0\n",
      "14.0\n",
      "19.0\n",
      "10.0\n",
      "7.0\n",
      "13.0\n",
      "8.0\n",
      "17.0\n",
      "6.0\n",
      "10.0\n",
      "14.0\n",
      "12.0\n",
      "6.0\n",
      "23.0\n",
      "22.0\n",
      "18.0\n",
      "18.0\n",
      "12.0\n",
      "7.0\n",
      "5.0\n",
      "20.0\n",
      "22.0\n",
      "21.0\n",
      "6.0\n",
      "20.0\n",
      "7.0\n",
      "15.0\n",
      "15.0\n",
      "11.0\n",
      "14.0\n",
      "21.0\n",
      "11.0\n",
      "22.0\n",
      "21.0\n",
      "15.0\n",
      "17.0\n",
      "9.0\n",
      "16.0\n",
      "23.0\n",
      "18.0\n",
      "16.0\n",
      "16.0\n",
      "13.0\n",
      "20.0\n",
      "19.0\n",
      "9.0\n",
      "24.0\n",
      "22.0\n",
      "11.0\n",
      "16.0\n",
      "20.0\n",
      "21.0\n",
      "21.0\n",
      "13.0\n",
      "11.0\n",
      "13.0\n",
      "12.0\n",
      "7.0\n",
      "19.0\n",
      "9.0\n",
      "13.0\n",
      "24.0\n",
      "12.0\n",
      "15.0\n",
      "14.0\n",
      "17.0\n",
      "7.0\n",
      "21.0\n",
      "10.0\n",
      "11.0\n",
      "10.0\n",
      "7.0\n",
      "23.0\n",
      "20.0\n",
      "16.0\n",
      "13.0\n",
      "9.0\n",
      "24.0\n",
      "16.0\n",
      "11.0\n",
      "7.0\n",
      "22.0\n",
      "10.0\n",
      "10.0\n",
      "20.0\n",
      "19.0\n",
      "14.0\n",
      "21.0\n",
      "18.0\n",
      "20.0\n",
      "16.0\n",
      "15.0\n",
      "19.0\n",
      "9.0\n",
      "9.0\n",
      "13.0\n",
      "8.0\n",
      "13.0\n",
      "9.0\n",
      "22.0\n",
      "12.0\n",
      "17.0\n",
      "18.0\n",
      "16.0\n",
      "19.0\n",
      "22.0\n",
      "15.0\n",
      "22.0\n",
      "13.0\n",
      "14.0\n",
      "19.0\n",
      "16.0\n",
      "16.0\n",
      "16.0\n",
      "16.0\n",
      "13.0\n",
      "21.0\n",
      "7.0\n",
      "21.0\n",
      "6.0\n",
      "10.0\n",
      "7.0\n",
      "17.0\n",
      "5.0\n",
      "7.0\n",
      "12.0\n",
      "6.0\n",
      "11.0\n",
      "20.0\n",
      "10.0\n",
      "5.0\n",
      "18.0\n",
      "12.0\n",
      "20.0\n",
      "24.0\n",
      "5.0\n",
      "18.0\n",
      "15.0\n",
      "6.0\n",
      "20.0\n",
      "23.0\n",
      "7.0\n",
      "18.0\n",
      "5.0\n",
      "24.0\n",
      "24.0\n",
      "19.0\n",
      "19.0\n",
      "8.0\n",
      "13.0\n",
      "13.0\n",
      "8.0\n",
      "11.0\n",
      "8.0\n",
      "17.0\n",
      "22.0\n",
      "13.0\n",
      "10.0\n",
      "11.0\n",
      "16.0\n",
      "17.0\n",
      "18.0\n",
      "15.0\n",
      "16.0\n",
      "11.0\n",
      "13.0\n",
      "24.0\n",
      "14.0\n",
      "20.0\n",
      "24.0\n",
      "15.0\n",
      "7.0\n",
      "14.0\n",
      "17.0\n",
      "6.0\n",
      "20.0\n",
      "23.0\n",
      "20.0\n",
      "9.0\n",
      "13.0\n",
      "6.0\n",
      "17.0\n",
      "16.0\n",
      "14.0\n",
      "12.0\n",
      "22.0\n",
      "9.0\n",
      "15.0\n",
      "9.0\n",
      "6.0\n",
      "8.0\n",
      "16.0\n",
      "7.0\n",
      "5.0\n",
      "17.0\n",
      "5.0\n",
      "18.0\n",
      "13.0\n",
      "8.0\n",
      "5.0\n",
      "5.0\n",
      "24.0\n",
      "20.0\n",
      "11.0\n",
      "5.0\n",
      "8.0\n",
      "22.0\n",
      "14.0\n",
      "10.0\n",
      "17.0\n",
      "8.0\n",
      "17.0\n",
      "14.0\n",
      "18.0\n",
      "7.0\n",
      "14.0\n",
      "7.0\n",
      "21.0\n",
      "15.0\n",
      "20.0\n",
      "17.0\n",
      "8.0\n",
      "19.0\n",
      "12.0\n",
      "23.0\n",
      "23.0\n",
      "5.0\n",
      "7.0\n",
      "21.0\n",
      "20.0\n",
      "9.0\n",
      "23.0\n",
      "14.0\n",
      "20.0\n",
      "8.0\n",
      "22.0\n",
      "6.0\n",
      "16.0\n",
      "9.0\n",
      "18.0\n",
      "17.0\n",
      "23.0\n",
      "20.0\n",
      "13.0\n",
      "5.0\n",
      "8.0\n",
      "7.0\n",
      "14.0\n",
      "19.0\n",
      "9.0\n",
      "5.0\n",
      "24.0\n",
      "11.0\n",
      "7.0\n",
      "16.0\n",
      "16.0\n",
      "14.0\n",
      "17.0\n",
      "7.0\n",
      "15.0\n",
      "22.0\n",
      "20.0\n",
      "24.0\n",
      "21.0\n",
      "22.0\n",
      "20.0\n",
      "10.0\n",
      "15.0\n",
      "6.0\n",
      "14.0\n",
      "11.0\n",
      "13.0\n",
      "21.0\n",
      "10.0\n",
      "22.0\n",
      "5.0\n",
      "8.0\n",
      "17.0\n",
      "9.0\n",
      "24.0\n",
      "24.0\n",
      "12.0\n",
      "14.0\n",
      "15.0\n",
      "22.0\n",
      "20.0\n",
      "21.0\n",
      "14.0\n",
      "13.0\n",
      "16.0\n",
      "15.0\n",
      "12.0\n",
      "23.0\n",
      "15.0\n",
      "22.0\n",
      "14.0\n",
      "21.0\n",
      "18.0\n",
      "20.0\n",
      "22.0\n",
      "11.0\n",
      "24.0\n",
      "16.0\n",
      "12.0\n",
      "19.0\n",
      "17.0\n",
      "8.0\n",
      "21.0\n",
      "18.0\n",
      "19.0\n",
      "12.0\n",
      "24.0\n",
      "5.0\n",
      "24.0\n",
      "10.0\n",
      "6.0\n",
      "24.0\n",
      "20.0\n",
      "16.0\n",
      "19.0\n",
      "14.0\n",
      "20.0\n",
      "10.0\n",
      "15.0\n",
      "22.0\n",
      "17.0\n",
      "10.0\n",
      "9.0\n",
      "13.0\n",
      "6.0\n",
      "18.0\n",
      "12.0\n",
      "22.0\n",
      "24.0\n",
      "20.0\n",
      "16.0\n",
      "19.0\n",
      "12.0\n",
      "6.0\n",
      "18.0\n",
      "5.0\n",
      "7.0\n",
      "17.0\n",
      "11.0\n",
      "15.0\n",
      "12.0\n",
      "19.0\n",
      "16.0\n",
      "18.0\n",
      "11.0\n",
      "6.0\n",
      "15.0\n",
      "13.0\n",
      "6.0\n",
      "10.0\n",
      "13.0\n",
      "22.0\n",
      "22.0\n",
      "19.0\n",
      "7.0\n",
      "16.0\n",
      "5.0\n",
      "9.0\n",
      "22.0\n",
      "7.0\n",
      "18.0\n",
      "23.0\n",
      "8.0\n",
      "17.0\n",
      "9.0\n",
      "15.0\n",
      "18.0\n",
      "7.0\n",
      "8.0\n",
      "13.0\n",
      "18.0\n",
      "14.0\n",
      "21.0\n",
      "5.0\n",
      "15.0\n",
      "14.0\n",
      "20.0\n",
      "18.0\n",
      "23.0\n",
      "19.0\n",
      "11.0\n",
      "18.0\n",
      "19.0\n",
      "24.0\n",
      "23.0\n",
      "21.0\n",
      "21.0\n",
      "19.0\n",
      "20.0\n",
      "8.0\n",
      "24.0\n",
      "13.0\n",
      "8.0\n",
      "9.0\n",
      "11.0\n",
      "14.0\n",
      "8.0\n",
      "18.0\n",
      "14.0\n",
      "23.0\n",
      "11.0\n",
      "18.0\n",
      "10.0\n",
      "18.0\n",
      "6.0\n",
      "22.0\n",
      "13.0\n",
      "9.0\n",
      "24.0\n",
      "7.0\n",
      "11.0\n",
      "6.0\n",
      "12.0\n",
      "11.0\n",
      "16.0\n",
      "24.0\n",
      "11.0\n",
      "17.0\n",
      "11.0\n",
      "9.0\n",
      "12.0\n",
      "13.0\n",
      "17.0\n",
      "7.0\n",
      "24.0\n",
      "7.0\n",
      "12.0\n",
      "18.0\n",
      "13.0\n",
      "19.0\n",
      "11.0\n",
      "23.0\n",
      "24.0\n",
      "17.0\n",
      "12.0\n",
      "9.0\n",
      "17.0\n",
      "9.0\n",
      "23.0\n",
      "6.0\n",
      "19.0\n",
      "12.0\n",
      "9.0\n",
      "6.0\n",
      "15.0\n",
      "23.0\n",
      "11.0\n",
      "14.0\n",
      "19.0\n",
      "14.0\n",
      "7.0\n",
      "13.0\n",
      "17.0\n",
      "14.0\n",
      "6.0\n",
      "23.0\n",
      "21.0\n",
      "24.0\n",
      "11.0\n",
      "24.0\n",
      "16.0\n",
      "11.0\n",
      "18.0\n",
      "14.0\n",
      "10.0\n",
      "17.0\n",
      "18.0\n",
      "8.0\n",
      "6.0\n",
      "10.0\n",
      "14.0\n",
      "5.0\n",
      "6.0\n",
      "17.0\n",
      "7.0\n",
      "19.0\n",
      "17.0\n",
      "19.0\n",
      "20.0\n",
      "17.0\n",
      "8.0\n",
      "8.0\n",
      "23.0\n",
      "8.0\n",
      "5.0\n",
      "10.0\n",
      "19.0\n",
      "6.0\n",
      "24.0\n",
      "5.0\n",
      "12.0\n",
      "24.0\n",
      "7.0\n",
      "23.0\n",
      "9.0\n",
      "8.0\n",
      "22.0\n",
      "21.0\n",
      "8.0\n",
      "7.0\n",
      "15.0\n",
      "22.0\n",
      "20.0\n",
      "22.0\n",
      "12.0\n",
      "14.0\n",
      "5.0\n",
      "16.0\n",
      "7.0\n",
      "16.0\n",
      "16.0\n",
      "16.0\n",
      "5.0\n",
      "5.0\n",
      "5.0\n",
      "13.0\n",
      "5.0\n",
      "21.0\n",
      "15.0\n",
      "15.0\n",
      "22.0\n",
      "13.0\n",
      "17.0\n",
      "5.0\n",
      "20.0\n",
      "10.0\n",
      "20.0\n",
      "13.0\n",
      "7.0\n",
      "24.0\n",
      "19.0\n",
      "7.0\n",
      "14.0\n",
      "24.0\n",
      "23.0\n",
      "18.0\n",
      "10.0\n",
      "13.0\n",
      "8.0\n",
      "10.0\n",
      "18.0\n",
      "12.0\n",
      "11.0\n",
      "19.0\n",
      "10.0\n",
      "9.0\n",
      "19.0\n",
      "5.0\n",
      "5.0\n",
      "6.0\n",
      "6.0\n",
      "8.0\n",
      "5.0\n",
      "23.0\n",
      "6.0\n",
      "12.0\n",
      "12.0\n",
      "14.0\n",
      "24.0\n",
      "5.0\n",
      "16.0\n",
      "7.0\n",
      "5.0\n",
      "19.0\n",
      "13.0\n",
      "7.0\n",
      "10.0\n",
      "8.0\n",
      "15.0\n",
      "17.0\n",
      "10.0\n",
      "14.0\n",
      "22.0\n",
      "22.0\n",
      "19.0\n",
      "17.0\n",
      "16.0\n",
      "21.0\n",
      "14.0\n",
      "13.0\n",
      "16.0\n",
      "10.0\n",
      "7.0\n",
      "23.0\n",
      "9.0\n",
      "10.0\n",
      "9.0\n",
      "18.0\n",
      "19.0\n",
      "21.0\n",
      "24.0\n",
      "10.0\n",
      "23.0\n",
      "19.0\n",
      "8.0\n",
      "7.0\n",
      "17.0\n",
      "12.0\n",
      "24.0\n",
      "20.0\n",
      "16.0\n",
      "14.0\n",
      "15.0\n",
      "21.0\n",
      "18.0\n",
      "20.0\n",
      "13.0\n",
      "5.0\n",
      "15.0\n",
      "11.0\n",
      "16.0\n",
      "23.0\n",
      "13.0\n",
      "5.0\n",
      "20.0\n",
      "20.0\n",
      "22.0\n",
      "7.0\n",
      "6.0\n",
      "13.0\n",
      "21.0\n",
      "19.0\n",
      "16.0\n",
      "8.0\n",
      "5.0\n",
      "24.0\n",
      "11.0\n",
      "6.0\n",
      "5.0\n",
      "8.0\n",
      "9.0\n",
      "5.0\n",
      "21.0\n",
      "19.0\n",
      "17.0\n",
      "23.0\n",
      "8.0\n",
      "21.0\n",
      "8.0\n",
      "6.0\n",
      "9.0\n",
      "7.0\n",
      "19.0\n",
      "11.0\n",
      "5.0\n",
      "21.0\n",
      "15.0\n",
      "20.0\n",
      "14.0\n",
      "19.0\n",
      "14.0\n",
      "16.0\n",
      "6.0\n",
      "6.0\n",
      "8.0\n",
      "8.0\n",
      "10.0\n",
      "17.0\n",
      "10.0\n",
      "10.0\n",
      "24.0\n",
      "24.0\n",
      "15.0\n",
      "24.0\n",
      "21.0\n",
      "20.0\n",
      "9.0\n",
      "20.0\n",
      "5.0\n",
      "20.0\n",
      "12.0\n",
      "6.0\n",
      "14.0\n",
      "20.0\n",
      "17.0\n",
      "13.0\n",
      "6.0\n",
      "11.0\n",
      "11.0\n",
      "15.0\n",
      "12.0\n",
      "20.0\n",
      "15.0\n",
      "20.0\n",
      "7.0\n",
      "19.0\n",
      "12.0\n",
      "21.0\n",
      "7.0\n",
      "20.0\n",
      "14.0\n",
      "8.0\n",
      "15.0\n",
      "7.0\n",
      "20.0\n",
      "6.0\n",
      "19.0\n",
      "24.0\n",
      "5.0\n",
      "22.0\n",
      "23.0\n",
      "7.0\n",
      "22.0\n",
      "15.0\n",
      "8.0\n",
      "8.0\n",
      "14.0\n",
      "22.0\n",
      "7.0\n",
      "18.0\n",
      "14.0\n",
      "7.0\n",
      "16.0\n",
      "12.0\n",
      "13.0\n",
      "6.0\n",
      "6.0\n",
      "18.0\n",
      "22.0\n",
      "21.0\n",
      "11.0\n",
      "15.0\n",
      "9.0\n",
      "16.0\n",
      "6.0\n",
      "18.0\n",
      "9.0\n",
      "20.0\n",
      "15.0\n",
      "13.0\n",
      "7.0\n",
      "18.0\n",
      "12.0\n",
      "13.0\n",
      "23.0\n",
      "9.0\n",
      "17.0\n",
      "18.0\n",
      "11.0\n",
      "5.0\n",
      "18.0\n",
      "6.0\n",
      "6.0\n",
      "13.0\n",
      "9.0\n",
      "16.0\n",
      "19.0\n",
      "13.0\n",
      "11.0\n",
      "15.0\n",
      "15.0\n",
      "21.0\n",
      "9.0\n",
      "7.0\n",
      "15.0\n",
      "6.0\n",
      "23.0\n",
      "5.0\n",
      "10.0\n",
      "15.0\n",
      "24.0\n",
      "12.0\n",
      "10.0\n",
      "21.0\n",
      "17.0\n",
      "20.0\n",
      "16.0\n",
      "22.0\n",
      "13.0\n",
      "10.0\n",
      "14.0\n",
      "17.0\n",
      "5.0\n",
      "18.0\n",
      "8.0\n",
      "24.0\n",
      "5.0\n",
      "19.0\n",
      "15.0\n",
      "22.0\n",
      "16.0\n",
      "7.0\n",
      "8.0\n",
      "21.0\n",
      "17.0\n",
      "18.0\n",
      "22.0\n",
      "20.0\n",
      "10.0\n",
      "21.0\n",
      "7.0\n",
      "12.0\n",
      "7.0\n",
      "13.0\n",
      "19.0\n",
      "9.0\n",
      "18.0\n",
      "7.0\n",
      "11.0\n",
      "10.0\n",
      "8.0\n",
      "23.0\n",
      "16.0\n",
      "24.0\n",
      "23.0\n",
      "6.0\n",
      "10.0\n",
      "23.0\n",
      "15.0\n",
      "12.0\n",
      "17.0\n",
      "21.0\n",
      "22.0\n",
      "15.0\n",
      "20.0\n",
      "8.0\n",
      "5.0\n",
      "15.0\n",
      "21.0\n",
      "6.0\n",
      "14.0\n",
      "23.0\n",
      "10.0\n",
      "22.0\n",
      "18.0\n",
      "17.0\n",
      "11.0\n",
      "23.0\n",
      "8.0\n",
      "13.0\n",
      "20.0\n",
      "10.0\n",
      "14.0\n",
      "10.0\n",
      "14.0\n",
      "9.0\n",
      "9.0\n",
      "19.0\n",
      "10.0\n",
      "20.0\n",
      "24.0\n",
      "6.0\n",
      "15.0\n",
      "10.0\n",
      "10.0\n",
      "11.0\n",
      "23.0\n",
      "7.0\n",
      "15.0\n",
      "20.0\n",
      "20.0\n",
      "14.0\n",
      "18.0\n",
      "22.0\n",
      "20.0\n",
      "13.0\n",
      "11.0\n",
      "11.0\n",
      "21.0\n",
      "24.0\n",
      "12.0\n",
      "14.0\n",
      "7.0\n",
      "15.0\n",
      "14.0\n",
      "10.0\n",
      "23.0\n",
      "7.0\n",
      "14.0\n",
      "11.0\n",
      "17.0\n",
      "17.0\n",
      "7.0\n",
      "18.0\n",
      "8.0\n",
      "20.0\n",
      "10.0\n",
      "20.0\n",
      "11.0\n",
      "24.0\n",
      "11.0\n",
      "16.0\n",
      "8.0\n",
      "19.0\n",
      "20.0\n",
      "12.0\n",
      "18.0\n",
      "6.0\n",
      "22.0\n",
      "5.0\n",
      "13.0\n",
      "7.0\n",
      "21.0\n",
      "5.0\n",
      "15.0\n",
      "10.0\n",
      "9.0\n",
      "20.0\n",
      "5.0\n",
      "19.0\n",
      "8.0\n",
      "21.0\n",
      "20.0\n",
      "13.0\n",
      "12.0\n",
      "8.0\n",
      "8.0\n",
      "21.0\n",
      "6.0\n",
      "11.0\n",
      "8.0\n",
      "17.0\n",
      "6.0\n",
      "21.0\n",
      "24.0\n",
      "6.0\n",
      "24.0\n",
      "6.0\n",
      "18.0\n",
      "18.0\n",
      "6.0\n",
      "12.0\n",
      "21.0\n",
      "20.0\n",
      "5.0\n",
      "14.0\n",
      "8.0\n",
      "5.0\n",
      "16.0\n",
      "23.0\n",
      "24.0\n",
      "13.0\n",
      "24.0\n",
      "7.0\n",
      "10.0\n",
      "18.0\n",
      "21.0\n",
      "16.0\n",
      "21.0\n",
      "10.0\n",
      "19.0\n",
      "13.0\n",
      "20.0\n",
      "18.0\n",
      "11.0\n",
      "18.0\n",
      "7.0\n",
      "19.0\n",
      "13.0\n",
      "11.0\n",
      "19.0\n",
      "10.0\n",
      "20.0\n",
      "24.0\n",
      "11.0\n",
      "18.0\n",
      "5.0\n",
      "5.0\n",
      "7.0\n",
      "17.0\n",
      "5.0\n",
      "13.0\n",
      "6.0\n",
      "21.0\n",
      "18.0\n",
      "14.0\n",
      "22.0\n",
      "10.0\n",
      "16.0\n",
      "7.0\n",
      "22.0\n",
      "12.0\n",
      "5.0\n",
      "23.0\n",
      "10.0\n",
      "15.0\n",
      "7.0\n",
      "9.0\n",
      "23.0\n",
      "8.0\n",
      "15.0\n",
      "5.0\n",
      "19.0\n",
      "24.0\n",
      "18.0\n",
      "10.0\n",
      "12.0\n",
      "22.0\n",
      "6.0\n",
      "19.0\n",
      "16.0\n",
      "9.0\n",
      "18.0\n",
      "20.0\n",
      "21.0\n",
      "12.0\n",
      "13.0\n",
      "14.0\n",
      "11.0\n",
      "14.0\n",
      "23.0\n",
      "13.0\n",
      "21.0\n",
      "9.0\n",
      "24.0\n",
      "12.0\n",
      "18.0\n",
      "23.0\n",
      "16.0\n",
      "5.0\n",
      "9.0\n",
      "17.0\n",
      "19.0\n",
      "6.0\n",
      "14.0\n",
      "16.0\n",
      "5.0\n",
      "11.0\n",
      "6.0\n",
      "10.0\n",
      "8.0\n",
      "7.0\n",
      "6.0\n",
      "18.0\n",
      "24.0\n",
      "6.0\n",
      "15.0\n",
      "19.0\n",
      "21.0\n",
      "18.0\n",
      "24.0\n",
      "6.0\n",
      "18.0\n",
      "9.0\n",
      "20.0\n",
      "6.0\n",
      "10.0\n",
      "11.0\n",
      "20.0\n",
      "21.0\n",
      "11.0\n",
      "7.0\n",
      "6.0\n",
      "23.0\n",
      "18.0\n",
      "6.0\n",
      "6.0\n",
      "20.0\n",
      "10.0\n",
      "22.0\n",
      "6.0\n",
      "17.0\n",
      "15.0\n",
      "12.0\n",
      "17.0\n",
      "18.0\n",
      "12.0\n",
      "12.0\n",
      "6.0\n",
      "8.0\n",
      "11.0\n",
      "18.0\n",
      "13.0\n",
      "14.0\n",
      "17.0\n",
      "19.0\n",
      "17.0\n",
      "8.0\n",
      "23.0\n",
      "8.0\n",
      "8.0\n",
      "12.0\n",
      "21.0\n",
      "24.0\n",
      "21.0\n",
      "6.0\n",
      "7.0\n",
      "8.0\n",
      "8.0\n",
      "8.0\n",
      "24.0\n",
      "22.0\n",
      "19.0\n",
      "22.0\n",
      "14.0\n",
      "14.0\n",
      "17.0\n",
      "19.0\n",
      "9.0\n",
      "12.0\n",
      "17.0\n",
      "16.0\n",
      "12.0\n",
      "17.0\n",
      "8.0\n",
      "16.0\n",
      "23.0\n",
      "18.0\n",
      "15.0\n",
      "10.0\n",
      "16.0\n",
      "16.0\n",
      "20.0\n",
      "22.0\n",
      "11.0\n",
      "10.0\n",
      "9.0\n",
      "8.0\n",
      "14.0\n",
      "17.0\n",
      "17.0\n",
      "7.0\n",
      "19.0\n",
      "23.0\n",
      "12.0\n",
      "21.0\n",
      "11.0\n",
      "14.0\n",
      "12.0\n",
      "13.0\n",
      "14.0\n",
      "17.0\n",
      "13.0\n",
      "14.0\n",
      "10.0\n",
      "20.0\n",
      "15.0\n",
      "22.0\n",
      "17.0\n",
      "9.0\n",
      "22.0\n",
      "19.0\n",
      "7.0\n",
      "5.0\n",
      "21.0\n",
      "8.0\n",
      "9.0\n",
      "20.0\n",
      "15.0\n",
      "12.0\n",
      "11.0\n",
      "9.0\n",
      "14.0\n",
      "9.0\n",
      "22.0\n",
      "13.0\n",
      "24.0\n",
      "19.0\n",
      "12.0\n",
      "23.0\n",
      "19.0\n",
      "20.0\n",
      "8.0\n",
      "23.0\n",
      "16.0\n",
      "7.0\n",
      "19.0\n",
      "15.0\n",
      "23.0\n",
      "24.0\n",
      "14.0\n",
      "9.0\n",
      "18.0\n",
      "17.0\n",
      "24.0\n",
      "24.0\n",
      "20.0\n",
      "24.0\n",
      "9.0\n",
      "8.0\n",
      "17.0\n",
      "12.0\n",
      "10.0\n",
      "23.0\n",
      "9.0\n",
      "10.0\n",
      "15.0\n",
      "11.0\n",
      "22.0\n",
      "6.0\n",
      "7.0\n",
      "9.0\n",
      "15.0\n",
      "10.0\n",
      "18.0\n",
      "23.0\n",
      "13.0\n",
      "11.0\n",
      "24.0\n",
      "11.0\n",
      "14.0\n",
      "23.0\n",
      "5.0\n",
      "19.0\n",
      "13.0\n",
      "10.0\n",
      "11.0\n",
      "13.0\n",
      "19.0\n",
      "15.0\n",
      "8.0\n",
      "11.0\n",
      "17.0\n",
      "11.0\n",
      "22.0\n",
      "5.0\n",
      "17.0\n",
      "20.0\n",
      "6.0\n",
      "24.0\n",
      "6.0\n",
      "13.0\n",
      "7.0\n",
      "6.0\n",
      "12.0\n",
      "18.0\n",
      "14.0\n",
      "19.0\n",
      "22.0\n",
      "16.0\n",
      "14.0\n",
      "13.0\n",
      "24.0\n",
      "22.0\n",
      "14.0\n",
      "13.0\n",
      "22.0\n",
      "17.0\n",
      "8.0\n",
      "7.0\n",
      "6.0\n",
      "7.0\n",
      "8.0\n",
      "20.0\n",
      "8.0\n",
      "15.0\n",
      "16.0\n",
      "21.0\n",
      "17.0\n",
      "8.0\n",
      "20.0\n",
      "11.0\n",
      "8.0\n",
      "24.0\n",
      "24.0\n",
      "18.0\n",
      "18.0\n",
      "22.0\n",
      "13.0\n",
      "22.0\n",
      "13.0\n",
      "14.0\n",
      "20.0\n",
      "22.0\n",
      "7.0\n",
      "19.0\n",
      "19.0\n",
      "17.0\n",
      "21.0\n",
      "14.0\n",
      "23.0\n",
      "16.0\n",
      "21.0\n",
      "21.0\n",
      "19.0\n",
      "14.0\n",
      "15.0\n",
      "5.0\n",
      "17.0\n",
      "13.0\n",
      "14.0\n",
      "19.0\n",
      "18.0\n",
      "20.0\n",
      "20.0\n",
      "18.0\n",
      "10.0\n",
      "17.0\n",
      "9.0\n",
      "7.0\n",
      "16.0\n",
      "18.0\n",
      "24.0\n",
      "8.0\n",
      "11.0\n",
      "6.0\n",
      "13.0\n",
      "5.0\n",
      "17.0\n",
      "22.0\n",
      "22.0\n",
      "14.0\n",
      "13.0\n",
      "9.0\n",
      "23.0\n",
      "6.0\n",
      "8.0\n",
      "17.0\n",
      "21.0\n",
      "10.0\n",
      "19.0\n",
      "6.0\n",
      "10.0\n",
      "6.0\n",
      "24.0\n",
      "23.0\n",
      "7.0\n",
      "10.0\n",
      "10.0\n",
      "12.0\n",
      "12.0\n",
      "24.0\n",
      "24.0\n",
      "9.0\n",
      "8.0\n",
      "22.0\n",
      "22.0\n",
      "5.0\n",
      "18.0\n",
      "18.0\n",
      "21.0\n",
      "7.0\n",
      "8.0\n",
      "13.0\n",
      "13.0\n",
      "7.0\n",
      "15.0\n",
      "19.0\n",
      "23.0\n",
      "19.0\n",
      "23.0\n",
      "16.0\n",
      "8.0\n",
      "7.0\n",
      "10.0\n",
      "20.0\n",
      "13.0\n",
      "16.0\n",
      "19.0\n",
      "11.0\n",
      "12.0\n",
      "8.0\n",
      "14.0\n",
      "17.0\n",
      "9.0\n",
      "22.0\n",
      "5.0\n",
      "20.0\n",
      "8.0\n",
      "15.0\n",
      "6.0\n",
      "5.0\n",
      "15.0\n",
      "17.0\n",
      "22.0\n",
      "21.0\n",
      "11.0\n",
      "19.0\n",
      "7.0\n",
      "19.0\n",
      "17.0\n",
      "5.0\n",
      "14.0\n",
      "16.0\n",
      "15.0\n",
      "23.0\n",
      "7.0\n",
      "10.0\n",
      "20.0\n",
      "10.0\n",
      "8.0\n",
      "14.0\n",
      "16.0\n",
      "11.0\n",
      "9.0\n",
      "24.0\n",
      "12.0\n",
      "12.0\n",
      "18.0\n",
      "14.0\n",
      "16.0\n",
      "22.0\n",
      "11.0\n",
      "24.0\n",
      "6.0\n",
      "16.0\n",
      "24.0\n",
      "21.0\n",
      "22.0\n",
      "15.0\n",
      "19.0\n",
      "5.0\n",
      "20.0\n",
      "24.0\n",
      "22.0\n",
      "7.0\n",
      "23.0\n",
      "22.0\n",
      "20.0\n",
      "5.0\n",
      "15.0\n",
      "11.0\n",
      "11.0\n",
      "19.0\n",
      "23.0\n",
      "9.0\n",
      "5.0\n",
      "24.0\n",
      "5.0\n",
      "20.0\n",
      "23.0\n",
      "23.0\n",
      "14.0\n",
      "22.0\n",
      "6.0\n",
      "17.0\n",
      "23.0\n",
      "9.0\n",
      "15.0\n",
      "18.0\n",
      "18.0\n",
      "8.0\n",
      "15.0\n",
      "19.0\n",
      "7.0\n",
      "18.0\n",
      "20.0\n",
      "7.0\n",
      "13.0\n",
      "17.0\n",
      "20.0\n",
      "21.0\n",
      "18.0\n",
      "20.0\n",
      "9.0\n",
      "8.0\n",
      "5.0\n",
      "7.0\n",
      "5.0\n",
      "19.0\n",
      "12.0\n",
      "21.0\n",
      "17.0\n",
      "11.0\n",
      "23.0\n",
      "24.0\n",
      "5.0\n",
      "15.0\n",
      "19.0\n",
      "13.0\n",
      "22.0\n",
      "14.0\n",
      "10.0\n",
      "15.0\n",
      "5.0\n",
      "8.0\n",
      "6.0\n",
      "24.0\n",
      "7.0\n",
      "6.0\n",
      "13.0\n",
      "19.0\n",
      "22.0\n",
      "24.0\n",
      "13.0\n",
      "14.0\n",
      "7.0\n",
      "14.0\n",
      "12.0\n",
      "5.0\n",
      "8.0\n",
      "22.0\n",
      "19.0\n",
      "5.0\n",
      "6.0\n",
      "15.0\n",
      "21.0\n",
      "24.0\n",
      "23.0\n",
      "13.0\n",
      "18.0\n",
      "8.0\n",
      "14.0\n",
      "10.0\n",
      "22.0\n",
      "21.0\n",
      "10.0\n",
      "7.0\n",
      "8.0\n",
      "8.0\n",
      "10.0\n",
      "14.0\n",
      "11.0\n",
      "15.0\n",
      "20.0\n",
      "8.0\n",
      "8.0\n",
      "12.0\n",
      "20.0\n",
      "19.0\n",
      "18.0\n",
      "23.0\n",
      "20.0\n",
      "22.0\n",
      "8.0\n",
      "7.0\n",
      "13.0\n",
      "18.0\n",
      "19.0\n",
      "20.0\n",
      "6.0\n",
      "21.0\n",
      "21.0\n",
      "9.0\n",
      "22.0\n",
      "24.0\n",
      "13.0\n",
      "24.0\n",
      "9.0\n",
      "18.0\n",
      "17.0\n",
      "5.0\n",
      "11.0\n",
      "10.0\n",
      "10.0\n",
      "10.0\n",
      "18.0\n",
      "5.0\n",
      "20.0\n",
      "22.0\n",
      "24.0\n",
      "13.0\n",
      "22.0\n",
      "24.0\n",
      "17.0\n",
      "20.0\n",
      "13.0\n",
      "13.0\n",
      "24.0\n",
      "16.0\n",
      "23.0\n",
      "11.0\n",
      "17.0\n",
      "22.0\n",
      "12.0\n",
      "23.0\n",
      "14.0\n",
      "8.0\n",
      "21.0\n",
      "9.0\n",
      "20.0\n",
      "16.0\n",
      "23.0\n",
      "6.0\n",
      "7.0\n",
      "16.0\n",
      "21.0\n",
      "14.0\n",
      "9.0\n",
      "15.0\n",
      "17.0\n",
      "15.0\n",
      "6.0\n",
      "21.0\n",
      "20.0\n",
      "23.0\n",
      "6.0\n",
      "15.0\n",
      "5.0\n",
      "18.0\n",
      "7.0\n",
      "24.0\n",
      "21.0\n",
      "12.0\n",
      "8.0\n",
      "8.0\n",
      "8.0\n",
      "11.0\n",
      "16.0\n",
      "22.0\n",
      "17.0\n",
      "8.0\n",
      "23.0\n",
      "21.0\n",
      "6.0\n",
      "10.0\n",
      "8.0\n",
      "8.0\n",
      "10.0\n",
      "21.0\n",
      "14.0\n",
      "22.0\n",
      "13.0\n",
      "6.0\n",
      "10.0\n",
      "13.0\n",
      "12.0\n",
      "6.0\n",
      "13.0\n",
      "11.0\n",
      "14.0\n",
      "21.0\n",
      "9.0\n",
      "10.0\n",
      "9.0\n",
      "9.0\n",
      "19.0\n",
      "8.0\n",
      "23.0\n",
      "24.0\n",
      "15.0\n",
      "21.0\n",
      "12.0\n",
      "22.0\n",
      "9.0\n",
      "7.0\n",
      "14.0\n",
      "7.0\n",
      "19.0\n",
      "22.0\n",
      "14.0\n",
      "14.0\n",
      "7.0\n",
      "6.0\n",
      "9.0\n",
      "21.0\n",
      "23.0\n",
      "16.0\n",
      "14.0\n",
      "15.0\n",
      "18.0\n",
      "14.0\n",
      "13.0\n",
      "15.0\n",
      "10.0\n",
      "17.0\n",
      "8.0\n",
      "7.0\n",
      "19.0\n",
      "21.0\n",
      "19.0\n",
      "8.0\n",
      "13.0\n",
      "14.0\n",
      "6.0\n",
      "19.0\n",
      "5.0\n",
      "24.0\n",
      "20.0\n",
      "21.0\n",
      "12.0\n",
      "5.0\n",
      "14.0\n",
      "15.0\n",
      "7.0\n",
      "19.0\n",
      "11.0\n",
      "7.0\n",
      "13.0\n",
      "5.0\n",
      "7.0\n",
      "13.0\n",
      "9.0\n",
      "7.0\n",
      "9.0\n",
      "20.0\n",
      "13.0\n",
      "18.0\n",
      "19.0\n",
      "24.0\n",
      "19.0\n",
      "6.0\n",
      "6.0\n",
      "15.0\n",
      "22.0\n",
      "9.0\n",
      "7.0\n",
      "10.0\n",
      "18.0\n",
      "9.0\n",
      "6.0\n",
      "19.0\n",
      "22.0\n",
      "7.0\n",
      "13.0\n",
      "6.0\n",
      "7.0\n",
      "17.0\n",
      "9.0\n",
      "13.0\n",
      "20.0\n",
      "10.0\n",
      "14.0\n",
      "12.0\n",
      "15.0\n",
      "16.0\n",
      "13.0\n",
      "10.0\n",
      "20.0\n",
      "23.0\n",
      "22.0\n",
      "17.0\n",
      "15.0\n",
      "8.0\n",
      "23.0\n",
      "14.0\n",
      "16.0\n",
      "12.0\n",
      "24.0\n",
      "15.0\n",
      "6.0\n",
      "24.0\n",
      "22.0\n",
      "7.0\n",
      "20.0\n",
      "11.0\n",
      "23.0\n",
      "9.0\n",
      "15.0\n",
      "12.0\n",
      "5.0\n",
      "22.0\n",
      "19.0\n",
      "14.0\n",
      "15.0\n",
      "24.0\n",
      "10.0\n",
      "16.0\n",
      "20.0\n",
      "19.0\n",
      "8.0\n",
      "12.0\n",
      "21.0\n",
      "16.0\n"
     ]
    },
    {
     "name": "stdout",
     "output_type": "stream",
     "text": [
      "7.0\n",
      "19.0\n",
      "15.0\n",
      "15.0\n",
      "10.0\n",
      "14.0\n",
      "8.0\n",
      "10.0\n",
      "15.0\n",
      "5.0\n",
      "22.0\n",
      "12.0\n",
      "19.0\n",
      "21.0\n",
      "9.0\n",
      "8.0\n",
      "10.0\n",
      "7.0\n",
      "6.0\n",
      "7.0\n",
      "16.0\n",
      "20.0\n",
      "9.0\n",
      "20.0\n",
      "10.0\n",
      "19.0\n",
      "9.0\n",
      "19.0\n",
      "22.0\n",
      "18.0\n",
      "6.0\n",
      "14.0\n",
      "22.0\n",
      "20.0\n",
      "17.0\n",
      "8.0\n",
      "7.0\n",
      "19.0\n",
      "13.0\n",
      "14.0\n",
      "15.0\n",
      "7.0\n",
      "20.0\n",
      "20.0\n",
      "23.0\n",
      "16.0\n",
      "16.0\n",
      "8.0\n",
      "21.0\n",
      "19.0\n",
      "15.0\n",
      "14.0\n",
      "7.0\n",
      "18.0\n",
      "5.0\n",
      "15.0\n",
      "10.0\n",
      "9.0\n",
      "20.0\n",
      "7.0\n",
      "16.0\n",
      "11.0\n",
      "14.0\n",
      "24.0\n",
      "10.0\n",
      "20.0\n",
      "10.0\n",
      "19.0\n",
      "18.0\n",
      "8.0\n",
      "15.0\n",
      "7.0\n",
      "7.0\n",
      "6.0\n",
      "19.0\n",
      "11.0\n",
      "19.0\n",
      "14.0\n",
      "6.0\n",
      "6.0\n",
      "11.0\n",
      "12.0\n",
      "16.0\n",
      "15.0\n",
      "22.0\n",
      "9.0\n",
      "15.0\n",
      "15.0\n",
      "7.0\n",
      "13.0\n",
      "12.0\n",
      "13.0\n",
      "13.0\n",
      "7.0\n",
      "7.0\n",
      "16.0\n",
      "21.0\n",
      "21.0\n",
      "18.0\n",
      "19.0\n",
      "22.0\n",
      "10.0\n",
      "8.0\n",
      "13.0\n",
      "7.0\n",
      "16.0\n",
      "5.0\n",
      "13.0\n",
      "10.0\n",
      "19.0\n",
      "20.0\n",
      "12.0\n",
      "11.0\n",
      "6.0\n",
      "16.0\n",
      "8.0\n",
      "5.0\n",
      "18.0\n",
      "16.0\n",
      "16.0\n",
      "21.0\n",
      "17.0\n",
      "10.0\n",
      "23.0\n",
      "22.0\n",
      "11.0\n",
      "18.0\n",
      "19.0\n",
      "23.0\n",
      "8.0\n",
      "19.0\n",
      "19.0\n",
      "22.0\n",
      "11.0\n",
      "11.0\n",
      "10.0\n",
      "24.0\n",
      "13.0\n",
      "15.0\n",
      "13.0\n",
      "13.0\n",
      "11.0\n",
      "15.0\n",
      "16.0\n",
      "13.0\n",
      "17.0\n",
      "15.0\n",
      "5.0\n",
      "23.0\n",
      "24.0\n",
      "20.0\n",
      "13.0\n",
      "8.0\n",
      "14.0\n",
      "10.0\n",
      "22.0\n",
      "6.0\n",
      "19.0\n",
      "9.0\n",
      "21.0\n",
      "8.0\n",
      "14.0\n",
      "15.0\n",
      "24.0\n",
      "8.0\n",
      "18.0\n",
      "12.0\n",
      "17.0\n",
      "18.0\n",
      "15.0\n",
      "16.0\n",
      "17.0\n",
      "7.0\n",
      "6.0\n",
      "15.0\n",
      "18.0\n",
      "22.0\n",
      "10.0\n",
      "9.0\n",
      "13.0\n",
      "14.0\n",
      "10.0\n",
      "6.0\n",
      "10.0\n",
      "19.0\n",
      "22.0\n",
      "19.0\n",
      "19.0\n",
      "19.0\n",
      "5.0\n",
      "15.0\n",
      "16.0\n",
      "17.0\n",
      "14.0\n",
      "5.0\n",
      "6.0\n",
      "8.0\n",
      "5.0\n",
      "10.0\n",
      "16.0\n",
      "9.0\n",
      "7.0\n",
      "7.0\n",
      "10.0\n",
      "5.0\n",
      "14.0\n",
      "5.0\n",
      "20.0\n",
      "11.0\n",
      "22.0\n",
      "9.0\n",
      "12.0\n",
      "23.0\n",
      "11.0\n",
      "17.0\n",
      "12.0\n",
      "23.0\n",
      "11.0\n",
      "12.0\n",
      "5.0\n",
      "10.0\n",
      "23.0\n",
      "22.0\n",
      "8.0\n",
      "12.0\n",
      "14.0\n",
      "16.0\n",
      "14.0\n",
      "7.0\n",
      "5.0\n",
      "12.0\n",
      "17.0\n",
      "17.0\n",
      "23.0\n",
      "8.0\n",
      "20.0\n",
      "16.0\n",
      "24.0\n",
      "19.0\n",
      "9.0\n",
      "7.0\n",
      "8.0\n",
      "11.0\n",
      "23.0\n",
      "24.0\n",
      "8.0\n",
      "19.0\n",
      "14.0\n",
      "22.0\n",
      "7.0\n",
      "17.0\n",
      "6.0\n",
      "21.0\n",
      "8.0\n",
      "5.0\n",
      "7.0\n",
      "5.0\n",
      "8.0\n",
      "21.0\n",
      "8.0\n",
      "19.0\n",
      "23.0\n",
      "8.0\n",
      "16.0\n",
      "13.0\n",
      "18.0\n",
      "23.0\n",
      "6.0\n",
      "5.0\n",
      "10.0\n",
      "5.0\n",
      "19.0\n",
      "15.0\n",
      "19.0\n",
      "22.0\n",
      "17.0\n",
      "23.0\n",
      "8.0\n",
      "10.0\n",
      "16.0\n",
      "10.0\n",
      "17.0\n",
      "9.0\n",
      "8.0\n",
      "20.0\n",
      "23.0\n",
      "9.0\n",
      "10.0\n",
      "22.0\n",
      "17.0\n",
      "11.0\n",
      "20.0\n",
      "20.0\n",
      "8.0\n",
      "21.0\n",
      "22.0\n",
      "9.0\n",
      "7.0\n",
      "18.0\n",
      "21.0\n",
      "14.0\n",
      "15.0\n",
      "9.0\n",
      "5.0\n",
      "18.0\n",
      "12.0\n",
      "23.0\n",
      "24.0\n",
      "11.0\n",
      "6.0\n",
      "16.0\n",
      "13.0\n",
      "13.0\n",
      "16.0\n",
      "6.0\n",
      "24.0\n",
      "16.0\n",
      "17.0\n",
      "20.0\n",
      "21.0\n",
      "19.0\n",
      "22.0\n",
      "7.0\n",
      "23.0\n",
      "9.0\n",
      "23.0\n",
      "9.0\n",
      "18.0\n",
      "18.0\n",
      "13.0\n",
      "22.0\n",
      "24.0\n",
      "11.0\n",
      "16.0\n",
      "24.0\n",
      "9.0\n",
      "12.0\n",
      "24.0\n",
      "17.0\n",
      "6.0\n",
      "12.0\n",
      "7.0\n",
      "21.0\n",
      "7.0\n",
      "23.0\n",
      "20.0\n",
      "23.0\n",
      "11.0\n",
      "21.0\n",
      "17.0\n",
      "9.0\n",
      "12.0\n",
      "21.0\n",
      "18.0\n",
      "9.0\n",
      "6.0\n",
      "24.0\n",
      "19.0\n",
      "7.0\n",
      "17.0\n",
      "20.0\n",
      "14.0\n",
      "13.0\n",
      "17.0\n",
      "11.0\n",
      "22.0\n",
      "12.0\n",
      "5.0\n",
      "8.0\n",
      "8.0\n",
      "19.0\n",
      "23.0\n",
      "17.0\n",
      "5.0\n",
      "17.0\n",
      "24.0\n",
      "19.0\n",
      "7.0\n",
      "24.0\n",
      "18.0\n",
      "15.0\n",
      "22.0\n",
      "19.0\n",
      "13.0\n",
      "23.0\n",
      "10.0\n",
      "21.0\n",
      "7.0\n",
      "14.0\n",
      "18.0\n",
      "10.0\n",
      "20.0\n",
      "14.0\n",
      "6.0\n",
      "13.0\n",
      "7.0\n",
      "16.0\n",
      "18.0\n",
      "14.0\n",
      "12.0\n",
      "10.0\n",
      "5.0\n",
      "16.0\n",
      "10.0\n",
      "16.0\n",
      "16.0\n",
      "18.0\n",
      "24.0\n",
      "23.0\n",
      "24.0\n",
      "20.0\n",
      "18.0\n",
      "7.0\n",
      "13.0\n",
      "18.0\n",
      "17.0\n",
      "15.0\n",
      "7.0\n",
      "22.0\n",
      "6.0\n",
      "19.0\n",
      "18.0\n",
      "17.0\n",
      "7.0\n",
      "17.0\n",
      "21.0\n",
      "23.0\n",
      "11.0\n",
      "24.0\n",
      "23.0\n",
      "16.0\n",
      "13.0\n",
      "23.0\n",
      "7.0\n",
      "19.0\n",
      "21.0\n",
      "6.0\n",
      "17.0\n",
      "12.0\n",
      "20.0\n",
      "14.0\n",
      "24.0\n",
      "19.0\n",
      "6.0\n",
      "8.0\n",
      "22.0\n",
      "12.0\n",
      "7.0\n",
      "19.0\n",
      "6.0\n",
      "14.0\n",
      "22.0\n",
      "14.0\n",
      "9.0\n",
      "15.0\n",
      "9.0\n",
      "18.0\n",
      "18.0\n",
      "17.0\n",
      "22.0\n",
      "22.0\n",
      "5.0\n",
      "10.0\n",
      "5.0\n",
      "16.0\n",
      "24.0\n",
      "10.0\n",
      "8.0\n",
      "23.0\n",
      "17.0\n",
      "18.0\n",
      "5.0\n",
      "8.0\n",
      "22.0\n",
      "12.0\n",
      "13.0\n",
      "5.0\n",
      "6.0\n",
      "19.0\n",
      "18.0\n",
      "8.0\n",
      "8.0\n",
      "15.0\n",
      "8.0\n",
      "13.0\n",
      "24.0\n",
      "17.0\n",
      "7.0\n",
      "20.0\n",
      "14.0\n",
      "17.0\n",
      "10.0\n",
      "19.0\n",
      "14.0\n",
      "17.0\n",
      "10.0\n",
      "6.0\n",
      "23.0\n",
      "15.0\n",
      "15.0\n",
      "17.0\n",
      "10.0\n",
      "8.0\n",
      "20.0\n",
      "7.0\n",
      "16.0\n",
      "11.0\n",
      "5.0\n",
      "23.0\n",
      "24.0\n",
      "19.0\n",
      "14.0\n",
      "10.0\n",
      "10.0\n",
      "7.0\n",
      "18.0\n",
      "18.0\n",
      "24.0\n",
      "23.0\n",
      "13.0\n",
      "10.0\n",
      "24.0\n",
      "20.0\n",
      "21.0\n",
      "11.0\n",
      "5.0\n",
      "21.0\n",
      "20.0\n",
      "10.0\n",
      "8.0\n",
      "18.0\n",
      "21.0\n",
      "8.0\n",
      "15.0\n",
      "8.0\n",
      "8.0\n",
      "20.0\n",
      "14.0\n",
      "5.0\n",
      "11.0\n",
      "14.0\n",
      "12.0\n",
      "14.0\n",
      "14.0\n",
      "10.0\n",
      "22.0\n",
      "7.0\n",
      "15.0\n",
      "20.0\n",
      "17.0\n",
      "21.0\n",
      "10.0\n",
      "20.0\n",
      "23.0\n",
      "23.0\n",
      "11.0\n",
      "6.0\n",
      "15.0\n",
      "21.0\n",
      "8.0\n",
      "18.0\n",
      "18.0\n",
      "5.0\n",
      "11.0\n",
      "24.0\n",
      "9.0\n",
      "21.0\n",
      "6.0\n",
      "16.0\n",
      "11.0\n",
      "6.0\n",
      "7.0\n",
      "19.0\n",
      "7.0\n",
      "14.0\n",
      "13.0\n",
      "13.0\n",
      "19.0\n",
      "14.0\n",
      "20.0\n",
      "6.0\n",
      "22.0\n",
      "14.0\n",
      "15.0\n",
      "13.0\n",
      "16.0\n",
      "22.0\n",
      "7.0\n",
      "5.0\n",
      "14.0\n",
      "16.0\n",
      "18.0\n",
      "16.0\n",
      "6.0\n",
      "7.0\n",
      "15.0\n",
      "12.0\n",
      "16.0\n",
      "8.0\n",
      "17.0\n",
      "14.0\n",
      "20.0\n",
      "7.0\n",
      "15.0\n",
      "6.0\n",
      "22.0\n",
      "24.0\n",
      "11.0\n",
      "11.0\n",
      "19.0\n",
      "21.0\n",
      "6.0\n",
      "19.0\n",
      "5.0\n",
      "8.0\n",
      "22.0\n",
      "23.0\n",
      "10.0\n",
      "14.0\n",
      "7.0\n",
      "24.0\n",
      "6.0\n",
      "10.0\n",
      "5.0\n",
      "19.0\n",
      "15.0\n",
      "9.0\n",
      "6.0\n",
      "17.0\n",
      "20.0\n",
      "11.0\n",
      "24.0\n",
      "11.0\n",
      "15.0\n",
      "19.0\n",
      "23.0\n",
      "10.0\n",
      "10.0\n",
      "24.0\n",
      "22.0\n",
      "15.0\n",
      "12.0\n",
      "21.0\n",
      "12.0\n",
      "24.0\n",
      "5.0\n",
      "22.0\n",
      "18.0\n",
      "14.0\n",
      "23.0\n",
      "11.0\n",
      "24.0\n",
      "10.0\n",
      "10.0\n",
      "15.0\n",
      "22.0\n",
      "12.0\n",
      "17.0\n",
      "19.0\n",
      "24.0\n",
      "22.0\n",
      "16.0\n",
      "13.0\n",
      "6.0\n",
      "22.0\n",
      "9.0\n",
      "23.0\n",
      "20.0\n",
      "14.0\n",
      "20.0\n",
      "13.0\n",
      "15.0\n",
      "5.0\n",
      "14.0\n",
      "6.0\n",
      "13.0\n",
      "16.0\n",
      "11.0\n",
      "23.0\n",
      "10.0\n",
      "6.0\n",
      "18.0\n",
      "13.0\n",
      "20.0\n",
      "14.0\n",
      "13.0\n",
      "21.0\n",
      "13.0\n",
      "6.0\n",
      "8.0\n",
      "8.0\n",
      "17.0\n",
      "20.0\n",
      "7.0\n",
      "5.0\n",
      "11.0\n",
      "15.0\n",
      "9.0\n",
      "21.0\n",
      "23.0\n",
      "11.0\n",
      "20.0\n",
      "11.0\n",
      "14.0\n",
      "18.0\n",
      "19.0\n",
      "12.0\n",
      "11.0\n",
      "9.0\n",
      "18.0\n",
      "8.0\n",
      "17.0\n",
      "24.0\n",
      "9.0\n",
      "22.0\n",
      "14.0\n",
      "16.0\n",
      "19.0\n",
      "15.0\n",
      "14.0\n",
      "18.0\n",
      "11.0\n",
      "12.0\n",
      "7.0\n",
      "18.0\n",
      "17.0\n",
      "16.0\n",
      "12.0\n",
      "14.0\n",
      "14.0\n",
      "9.0\n",
      "23.0\n",
      "5.0\n",
      "21.0\n",
      "23.0\n",
      "24.0\n",
      "24.0\n",
      "18.0\n",
      "7.0\n",
      "21.0\n",
      "20.0\n",
      "12.0\n",
      "22.0\n",
      "12.0\n",
      "8.0\n",
      "17.0\n",
      "18.0\n",
      "21.0\n",
      "22.0\n",
      "12.0\n",
      "13.0\n",
      "8.0\n",
      "22.0\n",
      "6.0\n",
      "16.0\n",
      "22.0\n",
      "10.0\n",
      "12.0\n",
      "10.0\n",
      "22.0\n",
      "6.0\n",
      "17.0\n",
      "11.0\n",
      "24.0\n",
      "14.0\n",
      "24.0\n",
      "21.0\n",
      "11.0\n",
      "12.0\n",
      "19.0\n",
      "24.0\n",
      "13.0\n",
      "7.0\n",
      "7.0\n",
      "11.0\n",
      "14.0\n",
      "6.0\n",
      "14.0\n",
      "18.0\n",
      "16.0\n",
      "7.0\n",
      "17.0\n",
      "20.0\n",
      "16.0\n",
      "18.0\n",
      "22.0\n",
      "22.0\n",
      "19.0\n",
      "13.0\n",
      "15.0\n",
      "8.0\n",
      "5.0\n",
      "17.0\n",
      "19.0\n",
      "23.0\n",
      "23.0\n",
      "23.0\n",
      "21.0\n",
      "13.0\n",
      "6.0\n",
      "8.0\n",
      "21.0\n",
      "8.0\n",
      "24.0\n",
      "18.0\n",
      "10.0\n",
      "14.0\n",
      "24.0\n",
      "11.0\n",
      "13.0\n",
      "17.0\n",
      "18.0\n",
      "14.0\n",
      "8.0\n",
      "16.0\n",
      "22.0\n",
      "15.0\n",
      "5.0\n",
      "22.0\n",
      "5.0\n",
      "12.0\n",
      "20.0\n",
      "15.0\n",
      "19.0\n",
      "22.0\n",
      "23.0\n",
      "10.0\n",
      "11.0\n",
      "18.0\n",
      "14.0\n",
      "11.0\n",
      "7.0\n",
      "18.0\n",
      "11.0\n",
      "14.0\n",
      "8.0\n",
      "10.0\n",
      "21.0\n",
      "13.0\n",
      "12.0\n",
      "15.0\n",
      "17.0\n",
      "24.0\n",
      "21.0\n",
      "20.0\n",
      "20.0\n",
      "16.0\n",
      "12.0\n",
      "22.0\n",
      "22.0\n",
      "5.0\n",
      "17.0\n",
      "24.0\n",
      "20.0\n",
      "19.0\n",
      "16.0\n",
      "10.0\n",
      "8.0\n",
      "22.0\n",
      "23.0\n",
      "12.0\n",
      "23.0\n",
      "18.0\n",
      "18.0\n",
      "16.0\n",
      "17.0\n",
      "16.0\n",
      "15.0\n",
      "10.0\n",
      "24.0\n",
      "8.0\n",
      "6.0\n",
      "16.0\n",
      "23.0\n",
      "15.0\n",
      "22.0\n",
      "20.0\n",
      "16.0\n",
      "14.0\n",
      "24.0\n",
      "15.0\n",
      "15.0\n",
      "22.0\n",
      "17.0\n",
      "12.0\n",
      "18.0\n",
      "8.0\n",
      "11.0\n",
      "5.0\n",
      "22.0\n",
      "23.0\n",
      "8.0\n",
      "5.0\n",
      "9.0\n",
      "23.0\n",
      "23.0\n",
      "21.0\n",
      "12.0\n",
      "19.0\n",
      "14.0\n",
      "5.0\n",
      "9.0\n",
      "8.0\n",
      "6.0\n",
      "18.0\n",
      "23.0\n",
      "9.0\n",
      "19.0\n",
      "10.0\n",
      "23.0\n",
      "13.0\n",
      "22.0\n",
      "22.0\n",
      "13.0\n",
      "11.0\n",
      "22.0\n",
      "11.0\n",
      "22.0\n",
      "19.0\n",
      "22.0\n",
      "18.0\n",
      "5.0\n",
      "5.0\n",
      "16.0\n",
      "6.0\n",
      "8.0\n",
      "16.0\n",
      "5.0\n",
      "9.0\n",
      "6.0\n",
      "18.0\n",
      "24.0\n",
      "7.0\n",
      "20.0\n",
      "12.0\n",
      "14.0\n",
      "22.0\n",
      "12.0\n",
      "12.0\n",
      "20.0\n",
      "11.0\n",
      "14.0\n",
      "20.0\n",
      "15.0\n",
      "15.0\n",
      "12.0\n",
      "18.0\n",
      "8.0\n",
      "19.0\n",
      "14.0\n",
      "17.0\n",
      "12.0\n",
      "7.0\n",
      "20.0\n",
      "13.0\n",
      "6.0\n",
      "8.0\n",
      "7.0\n",
      "5.0\n",
      "24.0\n",
      "16.0\n",
      "14.0\n",
      "21.0\n",
      "6.0\n",
      "13.0\n",
      "21.0\n",
      "21.0\n",
      "12.0\n",
      "20.0\n",
      "11.0\n",
      "6.0\n",
      "9.0\n",
      "11.0\n",
      "12.0\n",
      "16.0\n",
      "15.0\n",
      "7.0\n",
      "23.0\n",
      "23.0\n",
      "7.0\n",
      "20.0\n",
      "12.0\n",
      "10.0\n",
      "14.0\n",
      "13.0\n",
      "21.0\n",
      "12.0\n",
      "17.0\n",
      "10.0\n",
      "6.0\n",
      "9.0\n",
      "22.0\n",
      "12.0\n",
      "17.0\n",
      "6.0\n",
      "20.0\n",
      "23.0\n",
      "13.0\n",
      "19.0\n",
      "23.0\n",
      "7.0\n",
      "6.0\n",
      "17.0\n",
      "24.0\n",
      "12.0\n",
      "18.0\n",
      "18.0\n",
      "6.0\n",
      "14.0\n",
      "11.0\n",
      "5.0\n",
      "15.0\n",
      "9.0\n",
      "22.0\n",
      "6.0\n",
      "16.0\n",
      "24.0\n",
      "20.0\n",
      "7.0\n",
      "18.0\n",
      "14.0\n",
      "23.0\n",
      "23.0\n",
      "24.0\n",
      "10.0\n",
      "8.0\n",
      "5.0\n",
      "16.0\n",
      "16.0\n",
      "21.0\n",
      "16.0\n",
      "20.0\n",
      "5.0\n",
      "20.0\n",
      "9.0\n",
      "21.0\n",
      "12.0\n",
      "14.0\n",
      "8.0\n",
      "14.0\n",
      "5.0\n",
      "12.0\n",
      "5.0\n",
      "9.0\n",
      "23.0\n",
      "19.0\n",
      "15.0\n",
      "23.0\n",
      "19.0\n",
      "9.0\n",
      "13.0\n",
      "19.0\n",
      "6.0\n",
      "17.0\n",
      "7.0\n",
      "20.0\n",
      "15.0\n",
      "9.0\n",
      "11.0\n",
      "10.0\n",
      "10.0\n",
      "9.0\n",
      "18.0\n",
      "18.0\n",
      "12.0\n",
      "18.0\n",
      "7.0\n",
      "12.0\n",
      "20.0\n",
      "7.0\n",
      "19.0\n",
      "12.0\n",
      "11.0\n",
      "24.0\n",
      "17.0\n",
      "15.0\n",
      "7.0\n",
      "22.0\n",
      "23.0\n",
      "14.0\n",
      "8.0\n",
      "9.0\n",
      "18.0\n",
      "20.0\n",
      "23.0\n",
      "20.0\n",
      "20.0\n",
      "14.0\n",
      "8.0\n",
      "9.0\n",
      "17.0\n",
      "24.0\n",
      "22.0\n",
      "8.0\n",
      "8.0\n",
      "11.0\n",
      "11.0\n",
      "6.0\n",
      "7.0\n",
      "13.0\n",
      "22.0\n",
      "14.0\n",
      "9.0\n",
      "8.0\n",
      "16.0\n",
      "13.0\n",
      "16.0\n",
      "20.0\n",
      "19.0\n",
      "19.0\n",
      "15.0\n",
      "21.0\n",
      "9.0\n",
      "17.0\n",
      "10.0\n",
      "21.0\n",
      "5.0\n",
      "12.0\n",
      "10.0\n",
      "21.0\n",
      "20.0\n",
      "13.0\n",
      "20.0\n",
      "11.0\n",
      "16.0\n",
      "10.0\n",
      "13.0\n",
      "9.0\n",
      "22.0\n",
      "19.0\n",
      "9.0\n",
      "18.0\n",
      "9.0\n",
      "13.0\n",
      "19.0\n",
      "11.0\n",
      "15.0\n",
      "23.0\n",
      "16.0\n",
      "21.0\n",
      "18.0\n",
      "15.0\n",
      "23.0\n",
      "16.0\n",
      "11.0\n",
      "15.0\n",
      "16.0\n",
      "6.0\n",
      "11.0\n",
      "8.0\n",
      "8.0\n",
      "8.0\n",
      "21.0\n",
      "23.0\n",
      "7.0\n",
      "13.0\n",
      "14.0\n",
      "20.0\n",
      "14.0\n",
      "21.0\n",
      "19.0\n",
      "18.0\n",
      "21.0\n",
      "8.0\n",
      "20.0\n",
      "13.0\n",
      "15.0\n",
      "22.0\n",
      "9.0\n",
      "23.0\n",
      "12.0\n",
      "23.0\n",
      "20.0\n",
      "19.0\n",
      "11.0\n",
      "6.0\n",
      "13.0\n",
      "20.0\n",
      "15.0\n",
      "18.0\n",
      "16.0\n",
      "8.0\n",
      "10.0\n",
      "8.0\n",
      "16.0\n",
      "21.0\n",
      "20.0\n",
      "8.0\n",
      "12.0\n",
      "23.0\n",
      "22.0\n",
      "17.0\n",
      "8.0\n",
      "6.0\n",
      "9.0\n",
      "19.0\n",
      "16.0\n",
      "7.0\n",
      "24.0\n",
      "14.0\n",
      "9.0\n",
      "11.0\n",
      "22.0\n",
      "8.0\n",
      "22.0\n",
      "18.0\n",
      "18.0\n",
      "17.0\n",
      "12.0\n",
      "12.0\n",
      "13.0\n",
      "13.0\n",
      "13.0\n",
      "10.0\n",
      "7.0\n",
      "16.0\n",
      "13.0\n",
      "9.0\n",
      "22.0\n",
      "12.0\n",
      "13.0\n",
      "20.0\n",
      "9.0\n",
      "11.0\n",
      "11.0\n",
      "9.0\n",
      "24.0\n",
      "8.0\n",
      "9.0\n",
      "13.0\n",
      "22.0\n",
      "13.0\n",
      "6.0\n",
      "10.0\n",
      "11.0\n",
      "14.0\n",
      "16.0\n",
      "8.0\n",
      "12.0\n",
      "8.0\n",
      "9.0\n",
      "6.0\n",
      "6.0\n",
      "10.0\n",
      "12.0\n",
      "23.0\n",
      "7.0\n",
      "7.0\n",
      "8.0\n",
      "7.0\n",
      "12.0\n",
      "8.0\n",
      "14.0\n",
      "5.0\n",
      "9.0\n",
      "18.0\n",
      "13.0\n",
      "21.0\n",
      "16.0\n",
      "14.0\n",
      "20.0\n",
      "20.0\n",
      "23.0\n",
      "15.0\n",
      "9.0\n",
      "22.0\n",
      "5.0\n",
      "16.0\n",
      "22.0\n",
      "16.0\n",
      "17.0\n",
      "22.0\n",
      "16.0\n",
      "24.0\n",
      "13.0\n",
      "20.0\n",
      "14.0\n",
      "10.0\n",
      "20.0\n",
      "10.0\n",
      "16.0\n",
      "10.0\n",
      "9.0\n",
      "23.0\n",
      "10.0\n",
      "15.0\n",
      "21.0\n",
      "13.0\n",
      "12.0\n",
      "10.0\n",
      "16.0\n",
      "8.0\n",
      "20.0\n",
      "7.0\n",
      "24.0\n",
      "10.0\n",
      "14.0\n",
      "19.0\n",
      "22.0\n",
      "6.0\n",
      "13.0\n",
      "17.0\n",
      "9.0\n",
      "22.0\n",
      "24.0\n",
      "16.0\n",
      "8.0\n",
      "23.0\n",
      "18.0\n",
      "19.0\n",
      "17.0\n",
      "11.0\n",
      "7.0\n",
      "15.0\n",
      "5.0\n",
      "19.0\n",
      "11.0\n",
      "22.0\n",
      "9.0\n",
      "13.0\n",
      "5.0\n",
      "9.0\n",
      "16.0\n",
      "13.0\n",
      "8.0\n",
      "20.0\n",
      "12.0\n",
      "13.0\n",
      "5.0\n",
      "21.0\n",
      "19.0\n",
      "20.0\n",
      "14.0\n",
      "10.0\n",
      "6.0\n",
      "19.0\n",
      "6.0\n",
      "16.0\n",
      "7.0\n",
      "6.0\n",
      "21.0\n",
      "7.0\n",
      "16.0\n",
      "5.0\n",
      "15.0\n",
      "24.0\n",
      "17.0\n",
      "8.0\n",
      "11.0\n",
      "6.0\n",
      "5.0\n",
      "17.0\n",
      "16.0\n",
      "10.0\n",
      "22.0\n",
      "21.0\n",
      "20.0\n",
      "18.0\n",
      "10.0\n",
      "19.0\n",
      "9.0\n",
      "16.0\n",
      "10.0\n",
      "17.0\n",
      "19.0\n",
      "8.0\n",
      "5.0\n",
      "19.0\n",
      "5.0\n",
      "15.0\n",
      "20.0\n",
      "18.0\n",
      "18.0\n",
      "16.0\n",
      "7.0\n",
      "19.0\n",
      "24.0\n",
      "24.0\n",
      "5.0\n",
      "7.0\n",
      "5.0\n",
      "6.0\n",
      "10.0\n",
      "24.0\n",
      "16.0\n",
      "8.0\n",
      "19.0\n",
      "7.0\n",
      "9.0\n",
      "15.0\n",
      "24.0\n",
      "7.0\n",
      "17.0\n",
      "9.0\n",
      "9.0\n",
      "8.0\n",
      "11.0\n",
      "16.0\n",
      "20.0\n",
      "20.0\n",
      "21.0\n",
      "5.0\n",
      "13.0\n",
      "9.0\n",
      "20.0\n",
      "17.0\n",
      "11.0\n",
      "12.0\n",
      "7.0\n",
      "19.0\n",
      "18.0\n",
      "21.0\n",
      "20.0\n",
      "6.0\n",
      "7.0\n",
      "24.0\n",
      "20.0\n",
      "22.0\n",
      "22.0\n",
      "9.0\n",
      "8.0\n",
      "20.0\n",
      "12.0\n",
      "12.0\n",
      "8.0\n",
      "14.0\n",
      "13.0\n",
      "15.0\n",
      "12.0\n",
      "13.0\n",
      "22.0\n",
      "20.0\n",
      "5.0\n",
      "24.0\n",
      "8.0\n",
      "8.0\n",
      "23.0\n",
      "22.0\n",
      "18.0\n",
      "7.0\n",
      "10.0\n",
      "23.0\n",
      "15.0\n",
      "11.0\n",
      "19.0\n",
      "17.0\n",
      "17.0\n",
      "10.0\n",
      "8.0\n",
      "13.0\n",
      "9.0\n",
      "5.0\n",
      "20.0\n",
      "23.0\n",
      "8.0\n",
      "19.0\n",
      "16.0\n",
      "13.0\n",
      "17.0\n",
      "10.0\n",
      "17.0\n",
      "18.0\n",
      "13.0\n",
      "23.0\n",
      "22.0\n",
      "8.0\n",
      "5.0\n",
      "15.0\n",
      "23.0\n",
      "23.0\n",
      "17.0\n",
      "11.0\n",
      "14.0\n",
      "5.0\n",
      "14.0\n",
      "7.0\n",
      "5.0\n",
      "20.0\n",
      "14.0\n",
      "14.0\n",
      "19.0\n",
      "5.0\n",
      "22.0\n",
      "18.0\n",
      "5.0\n",
      "12.0\n",
      "19.0\n",
      "11.0\n",
      "8.0\n",
      "21.0\n",
      "10.0\n",
      "5.0\n",
      "16.0\n",
      "24.0\n",
      "16.0\n",
      "10.0\n",
      "18.0\n",
      "6.0\n",
      "6.0\n",
      "20.0\n",
      "20.0\n",
      "6.0\n",
      "12.0\n",
      "16.0\n",
      "5.0\n",
      "10.0\n",
      "23.0\n",
      "11.0\n",
      "17.0\n",
      "15.0\n",
      "5.0\n",
      "19.0\n",
      "21.0\n",
      "14.0\n",
      "11.0\n",
      "17.0\n",
      "8.0\n",
      "17.0\n",
      "6.0\n",
      "22.0\n",
      "6.0\n",
      "8.0\n",
      "14.0\n",
      "20.0\n",
      "17.0\n",
      "12.0\n",
      "10.0\n",
      "23.0\n",
      "9.0\n",
      "6.0\n",
      "9.0\n",
      "8.0\n",
      "11.0\n",
      "10.0\n",
      "20.0\n",
      "20.0\n",
      "11.0\n",
      "21.0\n",
      "7.0\n",
      "18.0\n",
      "17.0\n",
      "20.0\n",
      "6.0\n",
      "10.0\n",
      "12.0\n",
      "8.0\n",
      "20.0\n",
      "21.0\n",
      "8.0\n",
      "22.0\n",
      "20.0\n",
      "19.0\n",
      "14.0\n",
      "24.0\n",
      "8.0\n",
      "14.0\n",
      "7.0\n",
      "15.0\n",
      "5.0\n",
      "7.0\n",
      "5.0\n",
      "15.0\n",
      "8.0\n",
      "22.0\n",
      "24.0\n",
      "8.0\n",
      "18.0\n",
      "6.0\n",
      "24.0\n",
      "6.0\n",
      "22.0\n",
      "19.0\n",
      "10.0\n",
      "21.0\n",
      "11.0\n",
      "10.0\n",
      "22.0\n",
      "5.0\n",
      "17.0\n",
      "13.0\n",
      "18.0\n",
      "8.0\n",
      "9.0\n",
      "17.0\n",
      "23.0\n",
      "22.0\n",
      "22.0\n",
      "11.0\n",
      "11.0\n",
      "5.0\n",
      "5.0\n",
      "19.0\n",
      "22.0\n",
      "6.0\n",
      "12.0\n",
      "16.0\n",
      "24.0\n",
      "16.0\n",
      "14.0\n",
      "14.0\n",
      "5.0\n",
      "15.0\n",
      "17.0\n",
      "17.0\n",
      "6.0\n",
      "6.0\n",
      "10.0\n",
      "6.0\n",
      "17.0\n",
      "14.0\n",
      "22.0\n",
      "15.0\n",
      "16.0\n",
      "9.0\n",
      "24.0\n",
      "11.0\n",
      "14.0\n",
      "23.0\n",
      "10.0\n",
      "14.0\n",
      "12.0\n",
      "17.0\n",
      "6.0\n",
      "21.0\n",
      "11.0\n",
      "14.0\n",
      "18.0\n",
      "6.0\n",
      "6.0\n",
      "19.0\n",
      "14.0\n",
      "14.0\n",
      "19.0\n",
      "20.0\n",
      "14.0\n",
      "22.0\n",
      "16.0\n",
      "8.0\n",
      "17.0\n",
      "12.0\n",
      "9.0\n",
      "17.0\n",
      "14.0\n",
      "13.0\n",
      "24.0\n",
      "20.0\n",
      "9.0\n",
      "17.0\n",
      "15.0\n",
      "16.0\n",
      "22.0\n",
      "21.0\n",
      "12.0\n",
      "18.0\n",
      "13.0\n",
      "15.0\n",
      "8.0\n",
      "19.0\n",
      "23.0\n",
      "19.0\n",
      "18.0\n",
      "17.0\n",
      "22.0\n",
      "14.0\n",
      "21.0\n",
      "6.0\n",
      "16.0\n",
      "7.0\n",
      "9.0\n",
      "10.0\n",
      "12.0\n",
      "14.0\n",
      "17.0\n",
      "11.0\n",
      "7.0\n",
      "7.0\n",
      "12.0\n",
      "18.0\n",
      "21.0\n",
      "15.0\n",
      "18.0\n",
      "20.0\n",
      "17.0\n",
      "13.0\n",
      "18.0\n",
      "22.0\n",
      "14.0\n",
      "10.0\n",
      "19.0\n",
      "22.0\n",
      "5.0\n",
      "15.0\n",
      "10.0\n",
      "7.0\n",
      "21.0\n",
      "21.0\n",
      "17.0\n",
      "11.0\n",
      "21.0\n",
      "22.0\n",
      "22.0\n",
      "18.0\n",
      "7.0\n",
      "12.0\n",
      "19.0\n",
      "18.0\n",
      "20.0\n",
      "21.0\n",
      "6.0\n",
      "5.0\n",
      "12.0\n",
      "21.0\n",
      "23.0\n",
      "24.0\n",
      "10.0\n",
      "17.0\n",
      "10.0\n",
      "22.0\n",
      "13.0\n",
      "9.0\n",
      "5.0\n",
      "12.0\n",
      "10.0\n",
      "13.0\n",
      "10.0\n",
      "14.0\n",
      "15.0\n",
      "8.0\n",
      "9.0\n",
      "12.0\n",
      "9.0\n",
      "14.0\n",
      "19.0\n",
      "23.0\n",
      "16.0\n",
      "17.0\n",
      "10.0\n",
      "13.0\n",
      "22.0\n",
      "14.0\n",
      "7.0\n",
      "18.0\n",
      "21.0\n",
      "20.0\n",
      "9.0\n",
      "7.0\n",
      "13.0\n",
      "8.0\n",
      "12.0\n",
      "12.0\n",
      "21.0\n"
     ]
    },
    {
     "name": "stdout",
     "output_type": "stream",
     "text": [
      "7.0\n",
      "22.0\n",
      "23.0\n",
      "9.0\n",
      "10.0\n",
      "11.0\n",
      "22.0\n",
      "18.0\n",
      "19.0\n",
      "24.0\n",
      "23.0\n"
     ]
    }
   ],
   "source": [
    "for i,data in df2.iterrows():\n",
    "    if data[\"avg_frequency_login_days\"]==0:\n",
    "        r=np.random.uniform(avg_days-std_days,avg_days+std_days) \n",
    "        r=np.round(r,0)\n",
    "        df2.at[i,\"avg_frequency_login_days\"]=r         \n",
    "        print(df2.at[i,\"avg_frequency_login_days\"])"
   ]
  },
  {
   "cell_type": "code",
   "execution_count": 88,
   "metadata": {},
   "outputs": [],
   "source": [
    "df2[\"avg_frequency_login_days\"]=df2[\"avg_frequency_login_days\"].abs()\n",
    "#df2[\"avg_frequency_login_days\"]=np.round(df2[\"avg_frequency_login_days\"],0)"
   ]
  },
  {
   "cell_type": "code",
   "execution_count": 89,
   "metadata": {},
   "outputs": [
    {
     "data": {
      "text/plain": [
       "count    36992.000000\n",
       "mean        16.234577\n",
       "std          8.197087\n",
       "min          0.006221\n",
       "25%         10.000000\n",
       "50%         16.000000\n",
       "75%         22.000000\n",
       "max         73.061995\n",
       "Name: avg_frequency_login_days, dtype: float64"
      ]
     },
     "execution_count": 89,
     "metadata": {},
     "output_type": "execute_result"
    }
   ],
   "source": [
    "df2[\"avg_frequency_login_days\"].describe()"
   ]
  },
  {
   "cell_type": "code",
   "execution_count": 90,
   "metadata": {},
   "outputs": [
    {
     "name": "stderr",
     "output_type": "stream",
     "text": [
      "C:\\Users\\FLEMY\\anaconda3\\lib\\site-packages\\seaborn\\_decorators.py:36: FutureWarning: Pass the following variable as a keyword arg: x. From version 0.12, the only valid positional argument will be `data`, and passing other arguments without an explicit keyword will result in an error or misinterpretation.\n",
      "  warnings.warn(\n"
     ]
    },
    {
     "data": {
      "text/plain": [
       "<AxesSubplot:xlabel='avg_frequency_login_days'>"
      ]
     },
     "execution_count": 90,
     "metadata": {},
     "output_type": "execute_result"
    },
    {
     "data": {
      "image/png": "[encoded data removed]",
      "text/plain": [
       "<Figure size 432x288 with 1 Axes>"
      ]
     },
     "metadata": {
      "needs_background": "light"
     },
     "output_type": "display_data"
    }
   ],
   "source": [
    "sns.boxplot(df2[\"avg_frequency_login_days\"])"
   ]
  },
  {
   "cell_type": "code",
   "execution_count": 91,
   "metadata": {},
   "outputs": [
    {
     "data": {
      "text/plain": [
       "419"
      ]
     },
     "execution_count": 91,
     "metadata": {},
     "output_type": "execute_result"
    }
   ],
   "source": [
    "#Detecting Outliers\n",
    "q1=df2.avg_frequency_login_days.quantile(0.25)\n",
    "q3=df2.avg_frequency_login_days.quantile(0.75)\n",
    "IQR=q3-q1\n",
    "lowerfence=q1-1.5*IQR\n",
    "upperfence=q3+1.5*IQR\n",
    "df3 = df2[(df2['avg_frequency_login_days']<lowerfence) | (df2['avg_frequency_login_days']>upperfence)]\n",
    "df3.shape[0]\n",
    "#Not removing outliers as it is very less as compared to the size of th data and removing is causing errors"
   ]
  },
  {
   "cell_type": "code",
   "execution_count": null,
   "metadata": {},
   "outputs": [],
   "source": []
  },
  {
   "cell_type": "code",
   "execution_count": null,
   "metadata": {},
   "outputs": [],
   "source": []
  },
  {
   "cell_type": "code",
   "execution_count": null,
   "metadata": {},
   "outputs": [],
   "source": []
  },
  {
   "cell_type": "code",
   "execution_count": null,
   "metadata": {},
   "outputs": [],
   "source": []
  },
  {
   "cell_type": "code",
   "execution_count": null,
   "metadata": {},
   "outputs": [],
   "source": []
  },
  {
   "cell_type": "code",
   "execution_count": null,
   "metadata": {},
   "outputs": [],
   "source": []
  },
  {
   "cell_type": "code",
   "execution_count": null,
   "metadata": {},
   "outputs": [],
   "source": []
  },
  {
   "cell_type": "markdown",
   "metadata": {},
   "source": [
    "Churn Risk Score"
   ]
  },
  {
   "cell_type": "code",
   "execution_count": 92,
   "metadata": {},
   "outputs": [
    {
     "data": {
      "text/plain": [
       "<AxesSubplot:>"
      ]
     },
     "execution_count": 92,
     "metadata": {},
     "output_type": "execute_result"
    },
    {
     "data": {
      "image/png": "[encoded data removed]",
      "text/plain": [
       "<Figure size 432x288 with 1 Axes>"
      ]
     },
     "metadata": {
      "needs_background": "light"
     },
     "output_type": "display_data"
    }
   ],
   "source": [
    "df2['churn_risk_score'].value_counts().plot(kind='bar',grid=True)"
   ]
  },
  {
   "cell_type": "code",
   "execution_count": 93,
   "metadata": {},
   "outputs": [],
   "source": [
    "df2['churn_risk_score']=df2['churn_risk_score'].abs()#Assigning 1 to -1 values"
   ]
  },
  {
   "cell_type": "code",
   "execution_count": 94,
   "metadata": {},
   "outputs": [
    {
     "data": {
      "text/plain": [
       "<AxesSubplot:>"
      ]
     },
     "execution_count": 94,
     "metadata": {},
     "output_type": "execute_result"
    },
    {
     "data": {
      "image/png": "[encoded data removed]",
      "text/plain": [
       "<Figure size 432x288 with 1 Axes>"
      ]
     },
     "metadata": {
      "needs_background": "light"
     },
     "output_type": "display_data"
    }
   ],
   "source": [
    "df2['churn_risk_score'].value_counts().plot(kind='bar',grid=True)"
   ]
  },
  {
   "cell_type": "code",
   "execution_count": 95,
   "metadata": {},
   "outputs": [
    {
     "data": {
      "text/html": [
       "<div>\n",
       "<style scoped>\n",
       "    .dataframe tbody tr th:only-of-type {\n",
       "        vertical-align: middle;\n",
       "    }\n",
       "\n",
       "    .dataframe tbody tr th {\n",
       "        vertical-align: top;\n",
       "    }\n",
       "\n",
       "    .dataframe thead th {\n",
       "        text-align: right;\n",
       "    }\n",
       "</style>\n",
       "<table border=\"1\" class=\"dataframe\">\n",
       "  <thead>\n",
       "    <tr style=\"text-align: right;\">\n",
       "      <th></th>\n",
       "      <th>age</th>\n",
       "      <th>days_since_last_login</th>\n",
       "      <th>avg_time_spent</th>\n",
       "      <th>avg_transaction_value</th>\n",
       "      <th>avg_frequency_login_days</th>\n",
       "      <th>points_in_wallet</th>\n",
       "      <th>churn_risk_score</th>\n",
       "    </tr>\n",
       "  </thead>\n",
       "  <tbody>\n",
       "    <tr>\n",
       "      <th>count</th>\n",
       "      <td>36992.000000</td>\n",
       "      <td>36992.000000</td>\n",
       "      <td>36992.000000</td>\n",
       "      <td>36992.000000</td>\n",
       "      <td>36992.000000</td>\n",
       "      <td>36992.000000</td>\n",
       "      <td>36992.000000</td>\n",
       "    </tr>\n",
       "    <tr>\n",
       "      <th>mean</th>\n",
       "      <td>37.118161</td>\n",
       "      <td>14.141220</td>\n",
       "      <td>384.616699</td>\n",
       "      <td>40435.722731</td>\n",
       "      <td>16.234577</td>\n",
       "      <td>691.043631</td>\n",
       "      <td>3.526276</td>\n",
       "    </tr>\n",
       "    <tr>\n",
       "      <th>std</th>\n",
       "      <td>15.867412</td>\n",
       "      <td>8.746482</td>\n",
       "      <td>261.605648</td>\n",
       "      <td>23977.628968</td>\n",
       "      <td>8.197087</td>\n",
       "      <td>215.878501</td>\n",
       "      <td>1.244039</td>\n",
       "    </tr>\n",
       "    <tr>\n",
       "      <th>min</th>\n",
       "      <td>10.000000</td>\n",
       "      <td>4.000000</td>\n",
       "      <td>60.110000</td>\n",
       "      <td>14177.730000</td>\n",
       "      <td>0.006221</td>\n",
       "      <td>387.590000</td>\n",
       "      <td>1.000000</td>\n",
       "    </tr>\n",
       "    <tr>\n",
       "      <th>25%</th>\n",
       "      <td>23.000000</td>\n",
       "      <td>8.000000</td>\n",
       "      <td>161.767500</td>\n",
       "      <td>25838.815000</td>\n",
       "      <td>10.000000</td>\n",
       "      <td>557.607500</td>\n",
       "      <td>3.000000</td>\n",
       "    </tr>\n",
       "    <tr>\n",
       "      <th>50%</th>\n",
       "      <td>37.000000</td>\n",
       "      <td>12.000000</td>\n",
       "      <td>370.513125</td>\n",
       "      <td>27554.485000</td>\n",
       "      <td>16.000000</td>\n",
       "      <td>696.934804</td>\n",
       "      <td>4.000000</td>\n",
       "    </tr>\n",
       "    <tr>\n",
       "      <th>75%</th>\n",
       "      <td>51.000000</td>\n",
       "      <td>16.000000</td>\n",
       "      <td>488.670625</td>\n",
       "      <td>50858.433750</td>\n",
       "      <td>22.000000</td>\n",
       "      <td>822.072500</td>\n",
       "      <td>5.000000</td>\n",
       "    </tr>\n",
       "    <tr>\n",
       "      <th>max</th>\n",
       "      <td>64.000000</td>\n",
       "      <td>28.000000</td>\n",
       "      <td>801.133750</td>\n",
       "      <td>80871.465000</td>\n",
       "      <td>73.061995</td>\n",
       "      <td>992.090000</td>\n",
       "      <td>5.000000</td>\n",
       "    </tr>\n",
       "  </tbody>\n",
       "</table>\n",
       "</div>"
      ],
      "text/plain": [
       "                age  days_since_last_login  avg_time_spent  \\\n",
       "count  36992.000000           36992.000000    36992.000000   \n",
       "mean      37.118161              14.141220      384.616699   \n",
       "std       15.867412               8.746482      261.605648   \n",
       "min       10.000000               4.000000       60.110000   \n",
       "25%       23.000000               8.000000      161.767500   \n",
       "50%       37.000000              12.000000      370.513125   \n",
       "75%       51.000000              16.000000      488.670625   \n",
       "max       64.000000              28.000000      801.133750   \n",
       "\n",
       "       avg_transaction_value  avg_frequency_login_days  points_in_wallet  \\\n",
       "count           36992.000000              36992.000000      36992.000000   \n",
       "mean            40435.722731                 16.234577        691.043631   \n",
       "std             23977.628968                  8.197087        215.878501   \n",
       "min             14177.730000                  0.006221        387.590000   \n",
       "25%             25838.815000                 10.000000        557.607500   \n",
       "50%             27554.485000                 16.000000        696.934804   \n",
       "75%             50858.433750                 22.000000        822.072500   \n",
       "max             80871.465000                 73.061995        992.090000   \n",
       "\n",
       "       churn_risk_score  \n",
       "count      36992.000000  \n",
       "mean           3.526276  \n",
       "std            1.244039  \n",
       "min            1.000000  \n",
       "25%            3.000000  \n",
       "50%            4.000000  \n",
       "75%            5.000000  \n",
       "max            5.000000  "
      ]
     },
     "execution_count": 95,
     "metadata": {},
     "output_type": "execute_result"
    }
   ],
   "source": [
    "df2.describe()"
   ]
  },
  {
   "cell_type": "code",
   "execution_count": 248,
   "metadata": {},
   "outputs": [],
   "source": [
    "df2['Cat_age']=pd.cut(df2['age'],4)\n",
    "df2['Cat_days_since_last_login']=pd.cut(df2['days_since_last_login'],4)\n",
    "df2['Cat_avg_time_spent']=pd.cut(df2['avg_time_spent'],4)\n",
    "df2['Cat_avg_transaction_value']=pd.cut(df2['avg_transaction_value'],4)\n",
    "df2['Cat_avg_frequency_login_days']=pd.cut(df2['avg_frequency_login_days'],4)\n",
    "df2['Cat_points_in_wallet']=pd.cut(df2['points_in_wallet'],4)"
   ]
  },
  {
   "cell_type": "code",
   "execution_count": 249,
   "metadata": {},
   "outputs": [
    {
     "data": {
      "text/html": [
       "<div>\n",
       "<style scoped>\n",
       "    .dataframe tbody tr th:only-of-type {\n",
       "        vertical-align: middle;\n",
       "    }\n",
       "\n",
       "    .dataframe tbody tr th {\n",
       "        vertical-align: top;\n",
       "    }\n",
       "\n",
       "    .dataframe thead th {\n",
       "        text-align: right;\n",
       "    }\n",
       "</style>\n",
       "<table border=\"1\" class=\"dataframe\">\n",
       "  <thead>\n",
       "    <tr style=\"text-align: right;\">\n",
       "      <th></th>\n",
       "      <th>age</th>\n",
       "      <th>gender</th>\n",
       "      <th>region_category</th>\n",
       "      <th>membership_category</th>\n",
       "      <th>joined_through_referral</th>\n",
       "      <th>preferred_offer_types</th>\n",
       "      <th>medium_of_operation</th>\n",
       "      <th>internet_option</th>\n",
       "      <th>days_since_last_login</th>\n",
       "      <th>avg_time_spent</th>\n",
       "      <th>...</th>\n",
       "      <th>past_complaint</th>\n",
       "      <th>complaint_status</th>\n",
       "      <th>feedback</th>\n",
       "      <th>churn_risk_score</th>\n",
       "      <th>Cat_age</th>\n",
       "      <th>Cat_days_since_last_login</th>\n",
       "      <th>Cat_avg_time_spent</th>\n",
       "      <th>Cat_avg_transaction_value</th>\n",
       "      <th>Cat_avg_frequency_login_days</th>\n",
       "      <th>Cat_points_in_wallet</th>\n",
       "    </tr>\n",
       "  </thead>\n",
       "  <tbody>\n",
       "    <tr>\n",
       "      <th>0</th>\n",
       "      <td>8</td>\n",
       "      <td>0</td>\n",
       "      <td>2</td>\n",
       "      <td>3</td>\n",
       "      <td>0</td>\n",
       "      <td>1</td>\n",
       "      <td>2</td>\n",
       "      <td>2</td>\n",
       "      <td>10</td>\n",
       "      <td>11638</td>\n",
       "      <td>...</td>\n",
       "      <td>0</td>\n",
       "      <td>1</td>\n",
       "      <td>4</td>\n",
       "      <td>1</td>\n",
       "      <td>(-0.054, 13.5]</td>\n",
       "      <td>(7.5, 10.0]</td>\n",
       "      <td>(9969.0, 13292.0]</td>\n",
       "      <td>(13835.25, 18447.0]</td>\n",
       "      <td>(413.0, 826.0]</td>\n",
       "      <td>(8678.25, 11571.0]</td>\n",
       "    </tr>\n",
       "    <tr>\n",
       "      <th>1</th>\n",
       "      <td>22</td>\n",
       "      <td>0</td>\n",
       "      <td>0</td>\n",
       "      <td>4</td>\n",
       "      <td>0</td>\n",
       "      <td>1</td>\n",
       "      <td>1</td>\n",
       "      <td>1</td>\n",
       "      <td>9</td>\n",
       "      <td>11819</td>\n",
       "      <td>...</td>\n",
       "      <td>1</td>\n",
       "      <td>2</td>\n",
       "      <td>5</td>\n",
       "      <td>0</td>\n",
       "      <td>(13.5, 27.0]</td>\n",
       "      <td>(7.5, 10.0]</td>\n",
       "      <td>(9969.0, 13292.0]</td>\n",
       "      <td>(4611.75, 9223.5]</td>\n",
       "      <td>(413.0, 826.0]</td>\n",
       "      <td>(-11.571, 2892.75]</td>\n",
       "    </tr>\n",
       "    <tr>\n",
       "      <th>2</th>\n",
       "      <td>34</td>\n",
       "      <td>0</td>\n",
       "      <td>1</td>\n",
       "      <td>2</td>\n",
       "      <td>1</td>\n",
       "      <td>1</td>\n",
       "      <td>1</td>\n",
       "      <td>2</td>\n",
       "      <td>7</td>\n",
       "      <td>13292</td>\n",
       "      <td>...</td>\n",
       "      <td>1</td>\n",
       "      <td>3</td>\n",
       "      <td>3</td>\n",
       "      <td>4</td>\n",
       "      <td>(27.0, 40.5]</td>\n",
       "      <td>(5.0, 7.5]</td>\n",
       "      <td>(9969.0, 13292.0]</td>\n",
       "      <td>(4611.75, 9223.5]</td>\n",
       "      <td>(413.0, 826.0]</td>\n",
       "      <td>(-11.571, 2892.75]</td>\n",
       "    </tr>\n",
       "    <tr>\n",
       "      <th>3</th>\n",
       "      <td>27</td>\n",
       "      <td>1</td>\n",
       "      <td>0</td>\n",
       "      <td>2</td>\n",
       "      <td>1</td>\n",
       "      <td>1</td>\n",
       "      <td>1</td>\n",
       "      <td>1</td>\n",
       "      <td>4</td>\n",
       "      <td>13291</td>\n",
       "      <td>...</td>\n",
       "      <td>1</td>\n",
       "      <td>4</td>\n",
       "      <td>3</td>\n",
       "      <td>4</td>\n",
       "      <td>(13.5, 27.0]</td>\n",
       "      <td>(2.5, 5.0]</td>\n",
       "      <td>(9969.0, 13292.0]</td>\n",
       "      <td>(4611.75, 9223.5]</td>\n",
       "      <td>(-1.652, 413.0]</td>\n",
       "      <td>(-11.571, 2892.75]</td>\n",
       "    </tr>\n",
       "    <tr>\n",
       "      <th>4</th>\n",
       "      <td>21</td>\n",
       "      <td>0</td>\n",
       "      <td>0</td>\n",
       "      <td>2</td>\n",
       "      <td>0</td>\n",
       "      <td>0</td>\n",
       "      <td>2</td>\n",
       "      <td>1</td>\n",
       "      <td>10</td>\n",
       "      <td>3380</td>\n",
       "      <td>...</td>\n",
       "      <td>1</td>\n",
       "      <td>2</td>\n",
       "      <td>3</td>\n",
       "      <td>4</td>\n",
       "      <td>(13.5, 27.0]</td>\n",
       "      <td>(7.5, 10.0]</td>\n",
       "      <td>(3323.0, 6646.0]</td>\n",
       "      <td>(4611.75, 9223.5]</td>\n",
       "      <td>(413.0, 826.0]</td>\n",
       "      <td>(2892.75, 5785.5]</td>\n",
       "    </tr>\n",
       "  </tbody>\n",
       "</table>\n",
       "<p>5 rows × 25 columns</p>\n",
       "</div>"
      ],
      "text/plain": [
       "   age  gender  region_category  membership_category  joined_through_referral  \\\n",
       "0    8       0                2                    3                        0   \n",
       "1   22       0                0                    4                        0   \n",
       "2   34       0                1                    2                        1   \n",
       "3   27       1                0                    2                        1   \n",
       "4   21       0                0                    2                        0   \n",
       "\n",
       "   preferred_offer_types  medium_of_operation  internet_option  \\\n",
       "0                      1                    2                2   \n",
       "1                      1                    1                1   \n",
       "2                      1                    1                2   \n",
       "3                      1                    1                1   \n",
       "4                      0                    2                1   \n",
       "\n",
       "   days_since_last_login  avg_time_spent  ...  past_complaint  \\\n",
       "0                     10           11638  ...               0   \n",
       "1                      9           11819  ...               1   \n",
       "2                      7           13292  ...               1   \n",
       "3                      4           13291  ...               1   \n",
       "4                     10            3380  ...               1   \n",
       "\n",
       "   complaint_status  feedback  churn_risk_score         Cat_age  \\\n",
       "0                 1         4                 1  (-0.054, 13.5]   \n",
       "1                 2         5                 0    (13.5, 27.0]   \n",
       "2                 3         3                 4    (27.0, 40.5]   \n",
       "3                 4         3                 4    (13.5, 27.0]   \n",
       "4                 2         3                 4    (13.5, 27.0]   \n",
       "\n",
       "   Cat_days_since_last_login  Cat_avg_time_spent  Cat_avg_transaction_value  \\\n",
       "0                (7.5, 10.0]   (9969.0, 13292.0]        (13835.25, 18447.0]   \n",
       "1                (7.5, 10.0]   (9969.0, 13292.0]          (4611.75, 9223.5]   \n",
       "2                 (5.0, 7.5]   (9969.0, 13292.0]          (4611.75, 9223.5]   \n",
       "3                 (2.5, 5.0]   (9969.0, 13292.0]          (4611.75, 9223.5]   \n",
       "4                (7.5, 10.0]    (3323.0, 6646.0]          (4611.75, 9223.5]   \n",
       "\n",
       "   Cat_avg_frequency_login_days Cat_points_in_wallet  \n",
       "0                (413.0, 826.0]   (8678.25, 11571.0]  \n",
       "1                (413.0, 826.0]   (-11.571, 2892.75]  \n",
       "2                (413.0, 826.0]   (-11.571, 2892.75]  \n",
       "3               (-1.652, 413.0]   (-11.571, 2892.75]  \n",
       "4                (413.0, 826.0]    (2892.75, 5785.5]  \n",
       "\n",
       "[5 rows x 25 columns]"
      ]
     },
     "execution_count": 249,
     "metadata": {},
     "output_type": "execute_result"
    }
   ],
   "source": [
    "df2.head()"
   ]
  },
  {
   "cell_type": "code",
   "execution_count": 250,
   "metadata": {},
   "outputs": [
    {
     "data": {
      "text/plain": [
       "<AxesSubplot:xlabel='gender'>"
      ]
     },
     "execution_count": 250,
     "metadata": {},
     "output_type": "execute_result"
    },
    {
     "data": {
      "image/png": "[encoded data removed]",
      "text/plain": [
       "<Figure size 432x288 with 1 Axes>"
      ]
     },
     "metadata": {},
     "output_type": "display_data"
    }
   ],
   "source": [
    "df2[['churn_risk_score','gender']].groupby('gender').mean().sort_values(by='gender').plot(kind='bar')"
   ]
  },
  {
   "cell_type": "code",
   "execution_count": 252,
   "metadata": {},
   "outputs": [
    {
     "data": {
      "text/plain": [
       "<AxesSubplot:xlabel='Cat_age'>"
      ]
     },
     "execution_count": 252,
     "metadata": {},
     "output_type": "execute_result"
    },
    {
     "data": {
      "image/png": "[encoded data removed]",
      "text/plain": [
       "<Figure size 432x288 with 1 Axes>"
      ]
     },
     "metadata": {},
     "output_type": "display_data"
    }
   ],
   "source": [
    "df2[['Cat_age','churn_risk_score']].groupby(['Cat_age']).mean().plot(kind='bar')"
   ]
  },
  {
   "cell_type": "code",
   "execution_count": 253,
   "metadata": {},
   "outputs": [
    {
     "data": {
      "text/plain": [
       "<AxesSubplot:xlabel='membership_category'>"
      ]
     },
     "execution_count": 253,
     "metadata": {},
     "output_type": "execute_result"
    },
    {
     "data": {
      "image/png": "[encoded data removed]",
      "text/plain": [
       "<Figure size 432x288 with 1 Axes>"
      ]
     },
     "metadata": {},
     "output_type": "display_data"
    }
   ],
   "source": [
    "df2[['membership_category','churn_risk_score']].groupby(['membership_category']).mean().plot(kind='bar')"
   ]
  },
  {
   "cell_type": "code",
   "execution_count": 254,
   "metadata": {},
   "outputs": [
    {
     "data": {
      "text/plain": [
       "<AxesSubplot:xlabel='joined_through_referral'>"
      ]
     },
     "execution_count": 254,
     "metadata": {},
     "output_type": "execute_result"
    },
    {
     "data": {
      "image/png": "[encoded data removed]",
      "text/plain": [
       "<Figure size 432x288 with 1 Axes>"
      ]
     },
     "metadata": {},
     "output_type": "display_data"
    }
   ],
   "source": [
    "df2[['joined_through_referral','churn_risk_score']].groupby(['joined_through_referral']).mean().plot(kind='bar')"
   ]
  },
  {
   "cell_type": "code",
   "execution_count": 255,
   "metadata": {},
   "outputs": [
    {
     "data": {
      "text/plain": [
       "<AxesSubplot:xlabel='preferred_offer_types'>"
      ]
     },
     "execution_count": 255,
     "metadata": {},
     "output_type": "execute_result"
    },
    {
     "data": {
      "image/png": "[encoded data removed]",
      "text/plain": [
       "<Figure size 432x288 with 1 Axes>"
      ]
     },
     "metadata": {},
     "output_type": "display_data"
    }
   ],
   "source": [
    "df2[['preferred_offer_types','churn_risk_score']].groupby(['preferred_offer_types']).mean().plot(kind='bar',grid=True)"
   ]
  },
  {
   "cell_type": "code",
   "execution_count": 256,
   "metadata": {},
   "outputs": [
    {
     "data": {
      "text/plain": [
       "<AxesSubplot:xlabel='internet_option'>"
      ]
     },
     "execution_count": 256,
     "metadata": {},
     "output_type": "execute_result"
    },
    {
     "data": {
      "image/png": "[encoded data removed]",
      "text/plain": [
       "<Figure size 432x288 with 1 Axes>"
      ]
     },
     "metadata": {},
     "output_type": "display_data"
    }
   ],
   "source": [
    "df2[['internet_option','churn_risk_score']].groupby(['internet_option']).mean().plot(kind='bar',grid=True)"
   ]
  },
  {
   "cell_type": "code",
   "execution_count": 257,
   "metadata": {},
   "outputs": [
    {
     "data": {
      "text/plain": [
       "<AxesSubplot:xlabel='Cat_days_since_last_login'>"
      ]
     },
     "execution_count": 257,
     "metadata": {},
     "output_type": "execute_result"
    },
    {
     "data": {
      "image/png": "[encoded data removed]",
      "text/plain": [
       "<Figure size 432x288 with 1 Axes>"
      ]
     },
     "metadata": {},
     "output_type": "display_data"
    }
   ],
   "source": [
    "df2[['Cat_days_since_last_login','churn_risk_score']].groupby(['Cat_days_since_last_login']).mean().plot(kind='bar',grid=True)"
   ]
  },
  {
   "cell_type": "code",
   "execution_count": 258,
   "metadata": {},
   "outputs": [
    {
     "data": {
      "text/plain": [
       "<AxesSubplot:xlabel='Cat_avg_time_spent'>"
      ]
     },
     "execution_count": 258,
     "metadata": {},
     "output_type": "execute_result"
    },
    {
     "data": {
      "image/png": "[encoded data removed]",
      "text/plain": [
       "<Figure size 432x288 with 1 Axes>"
      ]
     },
     "metadata": {},
     "output_type": "display_data"
    }
   ],
   "source": [
    "df2[['Cat_avg_time_spent','churn_risk_score']].groupby(['Cat_avg_time_spent']).mean().plot(kind='bar',grid=True)"
   ]
  },
  {
   "cell_type": "code",
   "execution_count": 259,
   "metadata": {},
   "outputs": [
    {
     "data": {
      "text/plain": [
       "<AxesSubplot:xlabel='Cat_avg_transaction_value'>"
      ]
     },
     "execution_count": 259,
     "metadata": {},
     "output_type": "execute_result"
    },
    {
     "data": {
      "image/png": "[encoded data removed]",
      "text/plain": [
       "<Figure size 432x288 with 1 Axes>"
      ]
     },
     "metadata": {},
     "output_type": "display_data"
    }
   ],
   "source": [
    "df2[['Cat_avg_transaction_value','churn_risk_score']].groupby(['Cat_avg_transaction_value']).mean().plot(kind='bar',grid=True)"
   ]
  },
  {
   "cell_type": "code",
   "execution_count": 260,
   "metadata": {},
   "outputs": [
    {
     "data": {
      "text/plain": [
       "<AxesSubplot:xlabel='Cat_avg_frequency_login_days'>"
      ]
     },
     "execution_count": 260,
     "metadata": {},
     "output_type": "execute_result"
    },
    {
     "data": {
      "image/png": "[encoded data removed]",
      "text/plain": [
       "<Figure size 432x288 with 1 Axes>"
      ]
     },
     "metadata": {},
     "output_type": "display_data"
    }
   ],
   "source": [
    "df2[['Cat_avg_frequency_login_days','churn_risk_score']].groupby(['Cat_avg_frequency_login_days']).mean().plot(kind='bar',grid=True)"
   ]
  },
  {
   "cell_type": "code",
   "execution_count": 261,
   "metadata": {},
   "outputs": [
    {
     "data": {
      "text/plain": [
       "<AxesSubplot:xlabel='Cat_points_in_wallet'>"
      ]
     },
     "execution_count": 261,
     "metadata": {},
     "output_type": "execute_result"
    },
    {
     "data": {
      "image/png": "[encoded data removed]",
      "text/plain": [
       "<Figure size 432x288 with 1 Axes>"
      ]
     },
     "metadata": {},
     "output_type": "display_data"
    }
   ],
   "source": [
    "df2[['Cat_points_in_wallet','churn_risk_score']].groupby(['Cat_points_in_wallet']).mean().plot(kind='bar',grid=True)"
   ]
  },
  {
   "cell_type": "code",
   "execution_count": 262,
   "metadata": {},
   "outputs": [
    {
     "data": {
      "text/plain": [
       "<AxesSubplot:xlabel='used_special_discount'>"
      ]
     },
     "execution_count": 262,
     "metadata": {},
     "output_type": "execute_result"
    },
    {
     "data": {
      "image/png": "[encoded data removed]",
      "text/plain": [
       "<Figure size 432x288 with 1 Axes>"
      ]
     },
     "metadata": {},
     "output_type": "display_data"
    }
   ],
   "source": [
    "df2[['used_special_discount','churn_risk_score']].groupby(['used_special_discount']).mean().plot(kind='bar',grid=True)"
   ]
  },
  {
   "cell_type": "code",
   "execution_count": 263,
   "metadata": {},
   "outputs": [
    {
     "data": {
      "text/plain": [
       "<AxesSubplot:xlabel='offer_application_preference'>"
      ]
     },
     "execution_count": 263,
     "metadata": {},
     "output_type": "execute_result"
    },
    {
     "data": {
      "image/png": "[encoded data removed]",
      "text/plain": [
       "<Figure size 432x288 with 1 Axes>"
      ]
     },
     "metadata": {},
     "output_type": "display_data"
    }
   ],
   "source": [
    "df2[['offer_application_preference','churn_risk_score']].groupby(['offer_application_preference']).mean().plot(kind='bar',grid=True)"
   ]
  },
  {
   "cell_type": "code",
   "execution_count": 264,
   "metadata": {},
   "outputs": [
    {
     "data": {
      "text/plain": [
       "<AxesSubplot:xlabel='past_complaint'>"
      ]
     },
     "execution_count": 264,
     "metadata": {},
     "output_type": "execute_result"
    },
    {
     "data": {
      "image/png": "[encoded data removed]",
      "text/plain": [
       "<Figure size 432x288 with 1 Axes>"
      ]
     },
     "metadata": {},
     "output_type": "display_data"
    }
   ],
   "source": [
    "df2[['past_complaint','churn_risk_score']].groupby(['past_complaint']).mean().plot(kind='bar',grid=True)"
   ]
  },
  {
   "cell_type": "code",
   "execution_count": 265,
   "metadata": {},
   "outputs": [
    {
     "data": {
      "text/plain": [
       "<AxesSubplot:xlabel='complaint_status'>"
      ]
     },
     "execution_count": 265,
     "metadata": {},
     "output_type": "execute_result"
    },
    {
     "data": {
      "image/png": "[encoded data removed]",
      "text/plain": [
       "<Figure size 432x288 with 1 Axes>"
      ]
     },
     "metadata": {},
     "output_type": "display_data"
    }
   ],
   "source": [
    "df2[['complaint_status','churn_risk_score']].groupby(['complaint_status']).mean().plot(kind='bar',grid=True)"
   ]
  },
  {
   "cell_type": "code",
   "execution_count": 266,
   "metadata": {},
   "outputs": [
    {
     "data": {
      "text/plain": [
       "<AxesSubplot:xlabel='feedback'>"
      ]
     },
     "execution_count": 266,
     "metadata": {},
     "output_type": "execute_result"
    },
    {
     "data": {
      "image/png": "[encoded data removed]",
      "text/plain": [
       "<Figure size 432x288 with 1 Axes>"
      ]
     },
     "metadata": {},
     "output_type": "display_data"
    }
   ],
   "source": [
    "df2[['feedback','churn_risk_score']].groupby(['feedback']).mean().plot(kind='bar',grid=True)"
   ]
  },
  {
   "cell_type": "code",
   "execution_count": 267,
   "metadata": {},
   "outputs": [
    {
     "name": "stdout",
     "output_type": "stream",
     "text": [
      "<class 'pandas.core.frame.DataFrame'>\n",
      "RangeIndex: 36992 entries, 0 to 36991\n",
      "Data columns (total 25 columns):\n",
      " #   Column                        Non-Null Count  Dtype   \n",
      "---  ------                        --------------  -----   \n",
      " 0   age                           36992 non-null  int8    \n",
      " 1   gender                        36992 non-null  int8    \n",
      " 2   region_category               36992 non-null  int8    \n",
      " 3   membership_category           36992 non-null  int8    \n",
      " 4   joined_through_referral       36992 non-null  int8    \n",
      " 5   preferred_offer_types         36992 non-null  int8    \n",
      " 6   medium_of_operation           36992 non-null  int8    \n",
      " 7   internet_option               36992 non-null  int8    \n",
      " 8   days_since_last_login         36992 non-null  int8    \n",
      " 9   avg_time_spent                36992 non-null  int16   \n",
      " 10  avg_transaction_value         36992 non-null  int16   \n",
      " 11  avg_frequency_login_days      36992 non-null  int16   \n",
      " 12  points_in_wallet              36992 non-null  int16   \n",
      " 13  used_special_discount         36992 non-null  int8    \n",
      " 14  offer_application_preference  36992 non-null  int8    \n",
      " 15  past_complaint                36992 non-null  int8    \n",
      " 16  complaint_status              36992 non-null  int8    \n",
      " 17  feedback                      36992 non-null  int8    \n",
      " 18  churn_risk_score              36992 non-null  int8    \n",
      " 19  Cat_age                       36992 non-null  category\n",
      " 20  Cat_days_since_last_login     36992 non-null  category\n",
      " 21  Cat_avg_time_spent            36992 non-null  category\n",
      " 22  Cat_avg_transaction_value     36992 non-null  category\n",
      " 23  Cat_avg_frequency_login_days  36992 non-null  category\n",
      " 24  Cat_points_in_wallet          36992 non-null  category\n",
      "dtypes: category(6), int16(4), int8(15)\n",
      "memory usage: 1.0 MB\n"
     ]
    }
   ],
   "source": [
    "df2.info()"
   ]
  },
  {
   "cell_type": "code",
   "execution_count": 268,
   "metadata": {},
   "outputs": [
    {
     "data": {
      "text/plain": [
       "<AxesSubplot:>"
      ]
     },
     "execution_count": 268,
     "metadata": {},
     "output_type": "execute_result"
    },
    {
     "data": {
      "image/png": "[encoded data removed]",
      "text/plain": [
       "<Figure size 1008x720 with 2 Axes>"
      ]
     },
     "metadata": {},
     "output_type": "display_data"
    }
   ],
   "source": [
    "colormap=plt.cm.Blues\n",
    "plt.figure(figsize=(14,10))\n",
    "sns.heatmap(clean.corr(),cmap=colormap,annot=True,linewidths=0.2)"
   ]
  },
  {
   "cell_type": "code",
   "execution_count": null,
   "metadata": {},
   "outputs": [],
   "source": []
  },
  {
   "cell_type": "code",
   "execution_count": 269,
   "metadata": {},
   "outputs": [],
   "source": [
    "for i in df2.columns:\n",
    "    df2[i]=df2[i].astype('category')"
   ]
  },
  {
   "cell_type": "code",
   "execution_count": 270,
   "metadata": {},
   "outputs": [],
   "source": [
    "for i in df2.columns:\n",
    "    df2[i]=df2[i].cat.codes"
   ]
  },
  {
   "cell_type": "code",
   "execution_count": 271,
   "metadata": {},
   "outputs": [
    {
     "data": {
      "text/html": [
       "<div>\n",
       "<style scoped>\n",
       "    .dataframe tbody tr th:only-of-type {\n",
       "        vertical-align: middle;\n",
       "    }\n",
       "\n",
       "    .dataframe tbody tr th {\n",
       "        vertical-align: top;\n",
       "    }\n",
       "\n",
       "    .dataframe thead th {\n",
       "        text-align: right;\n",
       "    }\n",
       "</style>\n",
       "<table border=\"1\" class=\"dataframe\">\n",
       "  <thead>\n",
       "    <tr style=\"text-align: right;\">\n",
       "      <th></th>\n",
       "      <th>age</th>\n",
       "      <th>gender</th>\n",
       "      <th>region_category</th>\n",
       "      <th>membership_category</th>\n",
       "      <th>joined_through_referral</th>\n",
       "      <th>preferred_offer_types</th>\n",
       "      <th>medium_of_operation</th>\n",
       "      <th>internet_option</th>\n",
       "      <th>days_since_last_login</th>\n",
       "      <th>avg_time_spent</th>\n",
       "      <th>...</th>\n",
       "      <th>past_complaint</th>\n",
       "      <th>complaint_status</th>\n",
       "      <th>feedback</th>\n",
       "      <th>churn_risk_score</th>\n",
       "      <th>Cat_age</th>\n",
       "      <th>Cat_days_since_last_login</th>\n",
       "      <th>Cat_avg_time_spent</th>\n",
       "      <th>Cat_avg_transaction_value</th>\n",
       "      <th>Cat_avg_frequency_login_days</th>\n",
       "      <th>Cat_points_in_wallet</th>\n",
       "    </tr>\n",
       "  </thead>\n",
       "  <tbody>\n",
       "    <tr>\n",
       "      <th>0</th>\n",
       "      <td>8</td>\n",
       "      <td>0</td>\n",
       "      <td>2</td>\n",
       "      <td>3</td>\n",
       "      <td>0</td>\n",
       "      <td>1</td>\n",
       "      <td>2</td>\n",
       "      <td>2</td>\n",
       "      <td>10</td>\n",
       "      <td>11638</td>\n",
       "      <td>...</td>\n",
       "      <td>0</td>\n",
       "      <td>1</td>\n",
       "      <td>4</td>\n",
       "      <td>1</td>\n",
       "      <td>0</td>\n",
       "      <td>3</td>\n",
       "      <td>3</td>\n",
       "      <td>3</td>\n",
       "      <td>1</td>\n",
       "      <td>3</td>\n",
       "    </tr>\n",
       "    <tr>\n",
       "      <th>1</th>\n",
       "      <td>22</td>\n",
       "      <td>0</td>\n",
       "      <td>0</td>\n",
       "      <td>4</td>\n",
       "      <td>0</td>\n",
       "      <td>1</td>\n",
       "      <td>1</td>\n",
       "      <td>1</td>\n",
       "      <td>9</td>\n",
       "      <td>11819</td>\n",
       "      <td>...</td>\n",
       "      <td>1</td>\n",
       "      <td>2</td>\n",
       "      <td>5</td>\n",
       "      <td>0</td>\n",
       "      <td>1</td>\n",
       "      <td>3</td>\n",
       "      <td>3</td>\n",
       "      <td>1</td>\n",
       "      <td>1</td>\n",
       "      <td>0</td>\n",
       "    </tr>\n",
       "    <tr>\n",
       "      <th>2</th>\n",
       "      <td>34</td>\n",
       "      <td>0</td>\n",
       "      <td>1</td>\n",
       "      <td>2</td>\n",
       "      <td>1</td>\n",
       "      <td>1</td>\n",
       "      <td>1</td>\n",
       "      <td>2</td>\n",
       "      <td>7</td>\n",
       "      <td>13292</td>\n",
       "      <td>...</td>\n",
       "      <td>1</td>\n",
       "      <td>3</td>\n",
       "      <td>3</td>\n",
       "      <td>4</td>\n",
       "      <td>2</td>\n",
       "      <td>2</td>\n",
       "      <td>3</td>\n",
       "      <td>1</td>\n",
       "      <td>1</td>\n",
       "      <td>0</td>\n",
       "    </tr>\n",
       "    <tr>\n",
       "      <th>3</th>\n",
       "      <td>27</td>\n",
       "      <td>1</td>\n",
       "      <td>0</td>\n",
       "      <td>2</td>\n",
       "      <td>1</td>\n",
       "      <td>1</td>\n",
       "      <td>1</td>\n",
       "      <td>1</td>\n",
       "      <td>4</td>\n",
       "      <td>13291</td>\n",
       "      <td>...</td>\n",
       "      <td>1</td>\n",
       "      <td>4</td>\n",
       "      <td>3</td>\n",
       "      <td>4</td>\n",
       "      <td>1</td>\n",
       "      <td>1</td>\n",
       "      <td>3</td>\n",
       "      <td>1</td>\n",
       "      <td>0</td>\n",
       "      <td>0</td>\n",
       "    </tr>\n",
       "    <tr>\n",
       "      <th>4</th>\n",
       "      <td>21</td>\n",
       "      <td>0</td>\n",
       "      <td>0</td>\n",
       "      <td>2</td>\n",
       "      <td>0</td>\n",
       "      <td>0</td>\n",
       "      <td>2</td>\n",
       "      <td>1</td>\n",
       "      <td>10</td>\n",
       "      <td>3380</td>\n",
       "      <td>...</td>\n",
       "      <td>1</td>\n",
       "      <td>2</td>\n",
       "      <td>3</td>\n",
       "      <td>4</td>\n",
       "      <td>1</td>\n",
       "      <td>3</td>\n",
       "      <td>1</td>\n",
       "      <td>1</td>\n",
       "      <td>1</td>\n",
       "      <td>1</td>\n",
       "    </tr>\n",
       "  </tbody>\n",
       "</table>\n",
       "<p>5 rows × 25 columns</p>\n",
       "</div>"
      ],
      "text/plain": [
       "   age  gender  region_category  membership_category  joined_through_referral  \\\n",
       "0    8       0                2                    3                        0   \n",
       "1   22       0                0                    4                        0   \n",
       "2   34       0                1                    2                        1   \n",
       "3   27       1                0                    2                        1   \n",
       "4   21       0                0                    2                        0   \n",
       "\n",
       "   preferred_offer_types  medium_of_operation  internet_option  \\\n",
       "0                      1                    2                2   \n",
       "1                      1                    1                1   \n",
       "2                      1                    1                2   \n",
       "3                      1                    1                1   \n",
       "4                      0                    2                1   \n",
       "\n",
       "   days_since_last_login  avg_time_spent  ...  past_complaint  \\\n",
       "0                     10           11638  ...               0   \n",
       "1                      9           11819  ...               1   \n",
       "2                      7           13292  ...               1   \n",
       "3                      4           13291  ...               1   \n",
       "4                     10            3380  ...               1   \n",
       "\n",
       "   complaint_status  feedback  churn_risk_score  Cat_age  \\\n",
       "0                 1         4                 1        0   \n",
       "1                 2         5                 0        1   \n",
       "2                 3         3                 4        2   \n",
       "3                 4         3                 4        1   \n",
       "4                 2         3                 4        1   \n",
       "\n",
       "   Cat_days_since_last_login  Cat_avg_time_spent  Cat_avg_transaction_value  \\\n",
       "0                          3                   3                          3   \n",
       "1                          3                   3                          1   \n",
       "2                          2                   3                          1   \n",
       "3                          1                   3                          1   \n",
       "4                          3                   1                          1   \n",
       "\n",
       "   Cat_avg_frequency_login_days  Cat_points_in_wallet  \n",
       "0                             1                     3  \n",
       "1                             1                     0  \n",
       "2                             1                     0  \n",
       "3                             0                     0  \n",
       "4                             1                     1  \n",
       "\n",
       "[5 rows x 25 columns]"
      ]
     },
     "execution_count": 271,
     "metadata": {},
     "output_type": "execute_result"
    }
   ],
   "source": [
    "df2.head()"
   ]
  },
  {
   "cell_type": "code",
   "execution_count": 272,
   "metadata": {},
   "outputs": [],
   "source": [
    "clean=df2.drop(['age','days_since_last_login','avg_time_spent','avg_transaction_value','avg_frequency_login_days','points_in_wallet'],axis=1)"
   ]
  },
  {
   "cell_type": "code",
   "execution_count": 294,
   "metadata": {},
   "outputs": [
    {
     "data": {
      "text/html": [
       "<div>\n",
       "<style scoped>\n",
       "    .dataframe tbody tr th:only-of-type {\n",
       "        vertical-align: middle;\n",
       "    }\n",
       "\n",
       "    .dataframe tbody tr th {\n",
       "        vertical-align: top;\n",
       "    }\n",
       "\n",
       "    .dataframe thead th {\n",
       "        text-align: right;\n",
       "    }\n",
       "</style>\n",
       "<table border=\"1\" class=\"dataframe\">\n",
       "  <thead>\n",
       "    <tr style=\"text-align: right;\">\n",
       "      <th></th>\n",
       "      <th>gender</th>\n",
       "      <th>region_category</th>\n",
       "      <th>membership_category</th>\n",
       "      <th>joined_through_referral</th>\n",
       "      <th>preferred_offer_types</th>\n",
       "      <th>medium_of_operation</th>\n",
       "      <th>internet_option</th>\n",
       "      <th>used_special_discount</th>\n",
       "      <th>offer_application_preference</th>\n",
       "      <th>past_complaint</th>\n",
       "      <th>complaint_status</th>\n",
       "      <th>feedback</th>\n",
       "      <th>churn_risk_score</th>\n",
       "      <th>Cat_age</th>\n",
       "      <th>Cat_days_since_last_login</th>\n",
       "      <th>Cat_avg_time_spent</th>\n",
       "      <th>Cat_avg_transaction_value</th>\n",
       "      <th>Cat_avg_frequency_login_days</th>\n",
       "      <th>Cat_points_in_wallet</th>\n",
       "    </tr>\n",
       "  </thead>\n",
       "  <tbody>\n",
       "    <tr>\n",
       "      <th>0</th>\n",
       "      <td>0</td>\n",
       "      <td>2</td>\n",
       "      <td>3</td>\n",
       "      <td>0</td>\n",
       "      <td>1</td>\n",
       "      <td>2</td>\n",
       "      <td>2</td>\n",
       "      <td>1</td>\n",
       "      <td>1</td>\n",
       "      <td>0</td>\n",
       "      <td>1</td>\n",
       "      <td>4</td>\n",
       "      <td>1</td>\n",
       "      <td>0</td>\n",
       "      <td>3</td>\n",
       "      <td>3</td>\n",
       "      <td>3</td>\n",
       "      <td>1</td>\n",
       "      <td>3</td>\n",
       "    </tr>\n",
       "    <tr>\n",
       "      <th>1</th>\n",
       "      <td>0</td>\n",
       "      <td>0</td>\n",
       "      <td>4</td>\n",
       "      <td>0</td>\n",
       "      <td>1</td>\n",
       "      <td>1</td>\n",
       "      <td>1</td>\n",
       "      <td>1</td>\n",
       "      <td>0</td>\n",
       "      <td>1</td>\n",
       "      <td>2</td>\n",
       "      <td>5</td>\n",
       "      <td>0</td>\n",
       "      <td>1</td>\n",
       "      <td>3</td>\n",
       "      <td>3</td>\n",
       "      <td>1</td>\n",
       "      <td>1</td>\n",
       "      <td>0</td>\n",
       "    </tr>\n",
       "    <tr>\n",
       "      <th>2</th>\n",
       "      <td>0</td>\n",
       "      <td>1</td>\n",
       "      <td>2</td>\n",
       "      <td>1</td>\n",
       "      <td>1</td>\n",
       "      <td>1</td>\n",
       "      <td>2</td>\n",
       "      <td>0</td>\n",
       "      <td>1</td>\n",
       "      <td>1</td>\n",
       "      <td>3</td>\n",
       "      <td>3</td>\n",
       "      <td>4</td>\n",
       "      <td>2</td>\n",
       "      <td>2</td>\n",
       "      <td>3</td>\n",
       "      <td>1</td>\n",
       "      <td>1</td>\n",
       "      <td>0</td>\n",
       "    </tr>\n",
       "    <tr>\n",
       "      <th>3</th>\n",
       "      <td>1</td>\n",
       "      <td>0</td>\n",
       "      <td>2</td>\n",
       "      <td>1</td>\n",
       "      <td>1</td>\n",
       "      <td>1</td>\n",
       "      <td>1</td>\n",
       "      <td>0</td>\n",
       "      <td>1</td>\n",
       "      <td>1</td>\n",
       "      <td>4</td>\n",
       "      <td>3</td>\n",
       "      <td>4</td>\n",
       "      <td>1</td>\n",
       "      <td>1</td>\n",
       "      <td>3</td>\n",
       "      <td>1</td>\n",
       "      <td>0</td>\n",
       "      <td>0</td>\n",
       "    </tr>\n",
       "    <tr>\n",
       "      <th>4</th>\n",
       "      <td>0</td>\n",
       "      <td>0</td>\n",
       "      <td>2</td>\n",
       "      <td>0</td>\n",
       "      <td>0</td>\n",
       "      <td>2</td>\n",
       "      <td>1</td>\n",
       "      <td>0</td>\n",
       "      <td>1</td>\n",
       "      <td>1</td>\n",
       "      <td>2</td>\n",
       "      <td>3</td>\n",
       "      <td>4</td>\n",
       "      <td>1</td>\n",
       "      <td>3</td>\n",
       "      <td>1</td>\n",
       "      <td>1</td>\n",
       "      <td>1</td>\n",
       "      <td>1</td>\n",
       "    </tr>\n",
       "  </tbody>\n",
       "</table>\n",
       "</div>"
      ],
      "text/plain": [
       "   gender  region_category  membership_category  joined_through_referral  \\\n",
       "0       0                2                    3                        0   \n",
       "1       0                0                    4                        0   \n",
       "2       0                1                    2                        1   \n",
       "3       1                0                    2                        1   \n",
       "4       0                0                    2                        0   \n",
       "\n",
       "   preferred_offer_types  medium_of_operation  internet_option  \\\n",
       "0                      1                    2                2   \n",
       "1                      1                    1                1   \n",
       "2                      1                    1                2   \n",
       "3                      1                    1                1   \n",
       "4                      0                    2                1   \n",
       "\n",
       "   used_special_discount  offer_application_preference  past_complaint  \\\n",
       "0                      1                             1               0   \n",
       "1                      1                             0               1   \n",
       "2                      0                             1               1   \n",
       "3                      0                             1               1   \n",
       "4                      0                             1               1   \n",
       "\n",
       "   complaint_status  feedback  churn_risk_score  Cat_age  \\\n",
       "0                 1         4                 1        0   \n",
       "1                 2         5                 0        1   \n",
       "2                 3         3                 4        2   \n",
       "3                 4         3                 4        1   \n",
       "4                 2         3                 4        1   \n",
       "\n",
       "   Cat_days_since_last_login  Cat_avg_time_spent  Cat_avg_transaction_value  \\\n",
       "0                          3                   3                          3   \n",
       "1                          3                   3                          1   \n",
       "2                          2                   3                          1   \n",
       "3                          1                   3                          1   \n",
       "4                          3                   1                          1   \n",
       "\n",
       "   Cat_avg_frequency_login_days  Cat_points_in_wallet  \n",
       "0                             1                     3  \n",
       "1                             1                     0  \n",
       "2                             1                     0  \n",
       "3                             0                     0  \n",
       "4                             1                     1  "
      ]
     },
     "execution_count": 294,
     "metadata": {},
     "output_type": "execute_result"
    }
   ],
   "source": [
    "clean.head()"
   ]
  },
  {
   "cell_type": "code",
   "execution_count": 281,
   "metadata": {},
   "outputs": [
    {
     "name": "stdout",
     "output_type": "stream",
     "text": [
      "gender : 1.3923661646841345\n",
      "region_category : 26.672807992544737\n",
      "membership_category : 13255.73500896855\n",
      "joined_through_referral : 60.86267455473788\n",
      "preferred_offer_types : 78.74347593860286\n",
      "medium_of_operation : 24.617927909889232\n",
      "internet_option : 3.353722529774526\n",
      "used_special_discount : 2.2900497692183994\n",
      "offer_application_preference : 39.51733742565454\n",
      "past_complaint : 4.461097872321298\n",
      "complaint_status : 2.4955158589493385\n",
      "feedback : 12773.568438365184\n",
      "churn_risk_score : 5.316266140532649\n",
      "Cat_age : 39.3264876719123\n",
      "Cat_days_since_last_login : 15.856528885372928\n",
      "Cat_avg_time_spent : 1131.058835779001\n",
      "Cat_avg_transaction_value : 707.7251496297179\n",
      "Cat_avg_frequency_login_days : 15894.318026537796\n"
     ]
    }
   ],
   "source": [
    "from sklearn.feature_selection import SelectKBest\n",
    "from sklearn.feature_selection import chi2\n",
    "predictors = clean.head(0)\n",
    "selector = SelectKBest(score_func=chi2, k='all')\n",
    "fit = selector.fit(X, y)\n",
    "for i in range(len(fit.scores_)):\n",
    "    print(clean.columns[i],\":\",fit.scores_[i])"
   ]
  },
  {
   "cell_type": "code",
   "execution_count": 282,
   "metadata": {
    "scrolled": true
   },
   "outputs": [
    {
     "name": "stderr",
     "output_type": "stream",
     "text": [
      "C:\\Users\\FLEMY\\anaconda3\\lib\\site-packages\\seaborn\\_decorators.py:36: FutureWarning: Pass the following variables as keyword args: x, y. From version 0.12, the only valid positional argument will be `data`, and passing other arguments without an explicit keyword will result in an error or misinterpretation.\n",
      "  warnings.warn(\n"
     ]
    },
    {
     "data": {
      "image/png": "[encoded data removed]",
      "text/plain": [
       "<Figure size 432x288 with 1 Axes>"
      ]
     },
     "metadata": {},
     "output_type": "display_data"
    }
   ],
   "source": [
    "data=pd.DataFrame()\n",
    "data['Feature']=X.columns[range(len(fit.scores_))]\n",
    "data['Scores']=fit.scores_\n",
    "data=data.sort_values(by='Scores',ascending=False)\n",
    "sns.barplot(data['Scores'],data['Feature'],color='olive')\n",
    "sns.set_style('whitegrid')\n",
    "plt.ylabel('Features Importance',fontsize=19)\n",
    "plt.xlabel('Score',fontsize=18)\n",
    "plt.show()"
   ]
  },
  {
   "cell_type": "code",
   "execution_count": 295,
   "metadata": {},
   "outputs": [],
   "source": [
    "clean=clean[['membership_category','feedback','Cat_points_in_wallet','Cat_avg_transaction_value','Cat_avg_frequency_login_days',\n",
    "            'preferred_offer_types','joined_through_referral','churn_risk_score']]"
   ]
  },
  {
   "cell_type": "code",
   "execution_count": null,
   "metadata": {},
   "outputs": [],
   "source": []
  },
  {
   "cell_type": "markdown",
   "metadata": {},
   "source": [
    "# ML Models"
   ]
  },
  {
   "cell_type": "code",
   "execution_count": 296,
   "metadata": {},
   "outputs": [],
   "source": [
    "from sklearn.pipeline import make_pipeline\n",
    "from sklearn.preprocessing import StandardScaler\n",
    "from sklearn.svm import SVC\n",
    "from sklearn.linear_model import LogisticRegression\n",
    "from sklearn.ensemble import RandomForestClassifier\n",
    "from sklearn.ensemble import GradientBoostingClassifier\n",
    "from sklearn.metrics import confusion_matrix, classification_report,accuracy_score"
   ]
  },
  {
   "cell_type": "code",
   "execution_count": 322,
   "metadata": {},
   "outputs": [],
   "source": [
    "X=clean.drop(\"churn_risk_score\",axis=1)\n",
    "y=clean[\"churn_risk_score\"]"
   ]
  },
  {
   "cell_type": "code",
   "execution_count": 307,
   "metadata": {},
   "outputs": [],
   "source": [
    "from sklearn.model_selection  import train_test_split\n",
    "X_train,X_test,y_train,y_test=train_test_split(X,y,test_size=0.3,random_state=1)"
   ]
  },
  {
   "cell_type": "code",
   "execution_count": 300,
   "metadata": {},
   "outputs": [],
   "source": [
    "sc=StandardScaler()\n",
    "X_train=sc.fit_transform(X_train)\n",
    "X_test=sc.transform(X_test)"
   ]
  },
  {
   "cell_type": "code",
   "execution_count": 308,
   "metadata": {},
   "outputs": [
    {
     "data": {
      "text/plain": [
       "GradientBoostingClassifier(n_estimators=500)"
      ]
     },
     "execution_count": 308,
     "metadata": {},
     "output_type": "execute_result"
    }
   ],
   "source": [
    "model=GradientBoostingClassifier(n_estimators=500)\n",
    "model.fit(X_train,y_train)"
   ]
  },
  {
   "cell_type": "code",
   "execution_count": 309,
   "metadata": {},
   "outputs": [],
   "source": [
    "y_pred=model.predict (X_test)"
   ]
  },
  {
   "cell_type": "code",
   "execution_count": 310,
   "metadata": {},
   "outputs": [
    {
     "name": "stdout",
     "output_type": "stream",
     "text": [
      "              precision    recall  f1-score   support\n",
      "\n",
      "           0       0.64      0.71      0.68      1174\n",
      "           1       0.90      0.44      0.59       830\n",
      "           2       0.86      0.91      0.88      3095\n",
      "           3       0.71      0.51      0.59      2975\n",
      "           4       0.69      0.92      0.79      3024\n",
      "\n",
      "    accuracy                           0.75     11098\n",
      "   macro avg       0.76      0.70      0.71     11098\n",
      "weighted avg       0.75      0.75      0.74     11098\n",
      "\n"
     ]
    }
   ],
   "source": [
    "print(classification_report(y_test, y_pred))"
   ]
  },
  {
   "cell_type": "code",
   "execution_count": 311,
   "metadata": {},
   "outputs": [
    {
     "name": "stdout",
     "output_type": "stream",
     "text": [
      "Cross Validation accuracy scores: [0.75096525 0.73513514 0.74671815 0.73938224 0.74159907 0.74816531\n",
      " 0.73271533 0.73541908 0.72962534 0.72614909]\n",
      "Cross Validation accuracy : 0.739 +/- 0.008 \n"
     ]
    }
   ],
   "source": [
    "from sklearn.model_selection  import cross_val_score\n",
    "scores= cross_val_score(model,X=X_train,y=y_train,cv=10,n_jobs=1)\n",
    "print(\"Cross Validation accuracy scores: %s\" % scores)\n",
    "print(\"Cross Validation accuracy : %.3f +/- %.3f \" %(np.mean(scores),np.std(scores)))#%.3- 3 decimal places"
   ]
  },
  {
   "cell_type": "code",
   "execution_count": 291,
   "metadata": {},
   "outputs": [
    {
     "data": {
      "text/plain": [
       "69.45034551020447"
      ]
     },
     "execution_count": 291,
     "metadata": {},
     "output_type": "execute_result"
    }
   ],
   "source": [
    "from sklearn import metrics\n",
    "score = 100 * metrics.f1_score(y_test, y_pred, average=\"macro\")\n",
    "score"
   ]
  },
  {
   "cell_type": "code",
   "execution_count": 319,
   "metadata": {},
   "outputs": [],
   "source": [
    "from sklearn.preprocessing import label_binarize\n",
    "from sklearn.multiclass import OneVsRestClassifier\n",
    "from scipy import interp\n",
    "from sklearn.metrics import roc_auc_score\n",
    "from sklearn import svm\n",
    "import random"
   ]
  },
  {
   "cell_type": "code",
   "execution_count": 323,
   "metadata": {},
   "outputs": [],
   "source": [
    "# Binarize the output\n",
    "y = label_binarize(y, classes=[0, 1, 2,3,4])\n",
    "n_classes = y.shape[1]"
   ]
  },
  {
   "cell_type": "code",
   "execution_count": 325,
   "metadata": {},
   "outputs": [],
   "source": [
    "# Learn to predict each class against the other\n",
    "classifier = OneVsRestClassifier(svm.SVC(kernel='linear', probability=True,\n",
    "                                 random_state=1))\n",
    "y_score = classifier.fit(X_train, y_train).decision_function(X_test)"
   ]
  },
  {
   "cell_type": "code",
   "execution_count": 327,
   "metadata": {},
   "outputs": [
    {
     "ename": "ValueError",
     "evalue": "key of type tuple not found and not a MultiIndex",
     "output_type": "error",
     "traceback": [
      "\u001b[1;31m---------------------------------------------------------------------------\u001b[0m",
      "\u001b[1;31mValueError\u001b[0m                                Traceback (most recent call last)",
      "\u001b[1;32m<ipython-input-327-758080baef73>\u001b[0m in \u001b[0;36m<module>\u001b[1;34m\u001b[0m\n\u001b[0;32m      4\u001b[0m \u001b[0mroc_auc\u001b[0m \u001b[1;33m=\u001b[0m \u001b[0mdict\u001b[0m\u001b[1;33m(\u001b[0m\u001b[1;33m)\u001b[0m\u001b[1;33m\u001b[0m\u001b[1;33m\u001b[0m\u001b[0m\n\u001b[0;32m      5\u001b[0m \u001b[1;32mfor\u001b[0m \u001b[0mi\u001b[0m \u001b[1;32min\u001b[0m \u001b[0mrange\u001b[0m\u001b[1;33m(\u001b[0m\u001b[0mn_classes\u001b[0m\u001b[1;33m)\u001b[0m\u001b[1;33m:\u001b[0m\u001b[1;33m\u001b[0m\u001b[1;33m\u001b[0m\u001b[0m\n\u001b[1;32m----> 6\u001b[1;33m     \u001b[0mfpr\u001b[0m\u001b[1;33m[\u001b[0m\u001b[0mi\u001b[0m\u001b[1;33m]\u001b[0m\u001b[1;33m,\u001b[0m \u001b[0mtpr\u001b[0m\u001b[1;33m[\u001b[0m\u001b[0mi\u001b[0m\u001b[1;33m]\u001b[0m\u001b[1;33m,\u001b[0m \u001b[0m_\u001b[0m \u001b[1;33m=\u001b[0m \u001b[0mroc_curve\u001b[0m\u001b[1;33m(\u001b[0m\u001b[0my_test\u001b[0m\u001b[1;33m[\u001b[0m\u001b[1;33m:\u001b[0m\u001b[1;33m,\u001b[0m \u001b[0mi\u001b[0m\u001b[1;33m]\u001b[0m\u001b[1;33m,\u001b[0m \u001b[0my_score\u001b[0m\u001b[1;33m[\u001b[0m\u001b[1;33m:\u001b[0m\u001b[1;33m,\u001b[0m \u001b[0mi\u001b[0m\u001b[1;33m]\u001b[0m\u001b[1;33m)\u001b[0m\u001b[1;33m\u001b[0m\u001b[1;33m\u001b[0m\u001b[0m\n\u001b[0m\u001b[0;32m      7\u001b[0m     \u001b[0mroc_auc\u001b[0m\u001b[1;33m[\u001b[0m\u001b[0mi\u001b[0m\u001b[1;33m]\u001b[0m \u001b[1;33m=\u001b[0m \u001b[0mauc\u001b[0m\u001b[1;33m(\u001b[0m\u001b[0mfpr\u001b[0m\u001b[1;33m[\u001b[0m\u001b[0mi\u001b[0m\u001b[1;33m]\u001b[0m\u001b[1;33m,\u001b[0m \u001b[0mtpr\u001b[0m\u001b[1;33m[\u001b[0m\u001b[0mi\u001b[0m\u001b[1;33m]\u001b[0m\u001b[1;33m)\u001b[0m\u001b[1;33m\u001b[0m\u001b[1;33m\u001b[0m\u001b[0m\n\u001b[0;32m      8\u001b[0m \u001b[1;33m\u001b[0m\u001b[0m\n",
      "\u001b[1;32m~\\anaconda3\\lib\\site-packages\\pandas\\core\\series.py\u001b[0m in \u001b[0;36m__getitem__\u001b[1;34m(self, key)\u001b[0m\n\u001b[0;32m    904\u001b[0m             \u001b[1;32mreturn\u001b[0m \u001b[0mself\u001b[0m\u001b[1;33m.\u001b[0m\u001b[0m_get_values\u001b[0m\u001b[1;33m(\u001b[0m\u001b[0mkey\u001b[0m\u001b[1;33m)\u001b[0m\u001b[1;33m\u001b[0m\u001b[1;33m\u001b[0m\u001b[0m\n\u001b[0;32m    905\u001b[0m \u001b[1;33m\u001b[0m\u001b[0m\n\u001b[1;32m--> 906\u001b[1;33m         \u001b[1;32mreturn\u001b[0m \u001b[0mself\u001b[0m\u001b[1;33m.\u001b[0m\u001b[0m_get_with\u001b[0m\u001b[1;33m(\u001b[0m\u001b[0mkey\u001b[0m\u001b[1;33m)\u001b[0m\u001b[1;33m\u001b[0m\u001b[1;33m\u001b[0m\u001b[0m\n\u001b[0m\u001b[0;32m    907\u001b[0m \u001b[1;33m\u001b[0m\u001b[0m\n\u001b[0;32m    908\u001b[0m     \u001b[1;32mdef\u001b[0m \u001b[0m_get_with\u001b[0m\u001b[1;33m(\u001b[0m\u001b[0mself\u001b[0m\u001b[1;33m,\u001b[0m \u001b[0mkey\u001b[0m\u001b[1;33m)\u001b[0m\u001b[1;33m:\u001b[0m\u001b[1;33m\u001b[0m\u001b[1;33m\u001b[0m\u001b[0m\n",
      "\u001b[1;32m~\\anaconda3\\lib\\site-packages\\pandas\\core\\series.py\u001b[0m in \u001b[0;36m_get_with\u001b[1;34m(self, key)\u001b[0m\n\u001b[0;32m    919\u001b[0m             )\n\u001b[0;32m    920\u001b[0m         \u001b[1;32melif\u001b[0m \u001b[0misinstance\u001b[0m\u001b[1;33m(\u001b[0m\u001b[0mkey\u001b[0m\u001b[1;33m,\u001b[0m \u001b[0mtuple\u001b[0m\u001b[1;33m)\u001b[0m\u001b[1;33m:\u001b[0m\u001b[1;33m\u001b[0m\u001b[1;33m\u001b[0m\u001b[0m\n\u001b[1;32m--> 921\u001b[1;33m             \u001b[1;32mreturn\u001b[0m \u001b[0mself\u001b[0m\u001b[1;33m.\u001b[0m\u001b[0m_get_values_tuple\u001b[0m\u001b[1;33m(\u001b[0m\u001b[0mkey\u001b[0m\u001b[1;33m)\u001b[0m\u001b[1;33m\u001b[0m\u001b[1;33m\u001b[0m\u001b[0m\n\u001b[0m\u001b[0;32m    922\u001b[0m \u001b[1;33m\u001b[0m\u001b[0m\n\u001b[0;32m    923\u001b[0m         \u001b[1;32melif\u001b[0m \u001b[1;32mnot\u001b[0m \u001b[0mis_list_like\u001b[0m\u001b[1;33m(\u001b[0m\u001b[0mkey\u001b[0m\u001b[1;33m)\u001b[0m\u001b[1;33m:\u001b[0m\u001b[1;33m\u001b[0m\u001b[1;33m\u001b[0m\u001b[0m\n",
      "\u001b[1;32m~\\anaconda3\\lib\\site-packages\\pandas\\core\\series.py\u001b[0m in \u001b[0;36m_get_values_tuple\u001b[1;34m(self, key)\u001b[0m\n\u001b[0;32m    954\u001b[0m \u001b[1;33m\u001b[0m\u001b[0m\n\u001b[0;32m    955\u001b[0m         \u001b[1;32mif\u001b[0m \u001b[1;32mnot\u001b[0m \u001b[0misinstance\u001b[0m\u001b[1;33m(\u001b[0m\u001b[0mself\u001b[0m\u001b[1;33m.\u001b[0m\u001b[0mindex\u001b[0m\u001b[1;33m,\u001b[0m \u001b[0mMultiIndex\u001b[0m\u001b[1;33m)\u001b[0m\u001b[1;33m:\u001b[0m\u001b[1;33m\u001b[0m\u001b[1;33m\u001b[0m\u001b[0m\n\u001b[1;32m--> 956\u001b[1;33m             \u001b[1;32mraise\u001b[0m \u001b[0mValueError\u001b[0m\u001b[1;33m(\u001b[0m\u001b[1;34m\"key of type tuple not found and not a MultiIndex\"\u001b[0m\u001b[1;33m)\u001b[0m\u001b[1;33m\u001b[0m\u001b[1;33m\u001b[0m\u001b[0m\n\u001b[0m\u001b[0;32m    957\u001b[0m \u001b[1;33m\u001b[0m\u001b[0m\n\u001b[0;32m    958\u001b[0m         \u001b[1;31m# If key is contained, would have returned by now\u001b[0m\u001b[1;33m\u001b[0m\u001b[1;33m\u001b[0m\u001b[1;33m\u001b[0m\u001b[0m\n",
      "\u001b[1;31mValueError\u001b[0m: key of type tuple not found and not a MultiIndex"
     ]
    }
   ],
   "source": [
    "# Compute ROC curve and ROC area for each class\n",
    "fpr = dict()\n",
    "tpr = dict()\n",
    "roc_auc = dict()\n",
    "for i in range(n_classes):\n",
    "    fpr[i], tpr[i], _ = roc_curve(y_test[:, i], y_score[:, i])\n",
    "    roc_auc[i] = auc(fpr[i], tpr[i])\n",
    "\n",
    "# Compute micro-average ROC curve and ROC area\n",
    "fpr[\"micro\"], tpr[\"micro\"], _ = roc_curve(y_test.ravel(), y_score.ravel())\n",
    "roc_auc[\"micro\"] = auc(fpr[\"micro\"], tpr[\"micro\"])"
   ]
  },
  {
   "cell_type": "code",
   "execution_count": null,
   "metadata": {},
   "outputs": [],
   "source": [
    "X=clean.drop(\"churn_risk_score\",axis=1)\n",
    "y=clean[\"churn_risk_score\"]"
   ]
  },
  {
   "cell_type": "code",
   "execution_count": null,
   "metadata": {},
   "outputs": [],
   "source": [
    "df2.head()"
   ]
  },
  {
   "cell_type": "code",
   "execution_count": null,
   "metadata": {},
   "outputs": [],
   "source": [
    "from sklearn.feature_selection import SelectKBest\n",
    "from sklearn.feature_selection import chi2\n",
    "predictors = df2.head(0)\n",
    "selector = SelectKBest(score_func=chi2, k='all')\n",
    "fit = selector.fit(X, y)\n",
    "for i in range(len(fit.scores_)):\n",
    "    print(df2.columns[i],\":\",fit.scores_[i])"
   ]
  },
  {
   "cell_type": "code",
   "execution_count": null,
   "metadata": {},
   "outputs": [],
   "source": [
    "data=pd.DataFrame()\n",
    "data['Feature']=X.columns[range(len(fit.scores_))]\n",
    "data['Scores']=fit.scores_\n",
    "data=data.sort_values(by='Scores',ascending=False)\n",
    "sns.barplot(data['Scores'],data['Feature'],color='olive')\n",
    "sns.set_style('whitegrid')\n",
    "plt.ylabel('Features Importance',fontsize=19)\n",
    "plt.xlabel('Score',fontsize=18)\n",
    "plt.show()"
   ]
  },
  {
   "cell_type": "code",
   "execution_count": null,
   "metadata": {},
   "outputs": [],
   "source": []
  },
  {
   "cell_type": "code",
   "execution_count": null,
   "metadata": {},
   "outputs": [],
   "source": []
  }
 ],
 "metadata": {
  "kernelspec": {
   "display_name": "Python 3",
   "language": "python",
   "name": "python3"
  },
  "language_info": {
   "codemirror_mode": {
    "name": "ipython",
    "version": 3
   },
   "file_extension": ".py",
   "mimetype": "text/x-python",
   "name": "python",
   "nbconvert_exporter": "python",
   "pygments_lexer": "ipython3",
   "version": "3.8.5"
  }
 },
 "nbformat": 4,
 "nbformat_minor": 4
}
